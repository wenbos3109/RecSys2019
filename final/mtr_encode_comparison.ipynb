{
 "cells": [
  {
   "cell_type": "markdown",
   "metadata": {},
   "source": [
    "### In this notebook we compare the timing of encoding operations:\n",
    "- count encoding.\n",
    "- target encoding.\n",
    "- label encoding."
   ]
  },
  {
   "cell_type": "code",
   "execution_count": 1,
   "metadata": {},
   "outputs": [],
   "source": [
    "import os\n",
    "GPU_id = 2\n",
    "os.environ['CUDA_VISIBLE_DEVICES'] = str(GPU_id)"
   ]
  },
  {
   "cell_type": "code",
   "execution_count": 2,
   "metadata": {},
   "outputs": [],
   "source": [
    "import warnings\n",
    "warnings.filterwarnings(\"ignore\")\n",
    "\n",
    "import cudf as gd\n",
    "import pandas as pd\n",
    "import numpy as np\n",
    "import os\n",
    "import time\n",
    "import nvstrings\n",
    "from librmm_cffi import librmm\n",
    "import matplotlib.pyplot as plt\n",
    "%matplotlib inline"
   ]
  },
  {
   "cell_type": "markdown",
   "metadata": {},
   "source": [
    "### Global"
   ]
  },
  {
   "cell_type": "code",
   "execution_count": 3,
   "metadata": {},
   "outputs": [],
   "source": [
    "GPU_RUN_TIME = {}\n",
    "CPU_RUN_TIME = {}\n",
    "STEPS = []"
   ]
  },
  {
   "cell_type": "markdown",
   "metadata": {},
   "source": [
    "### Functions"
   ]
  },
  {
   "cell_type": "code",
   "execution_count": 4,
   "metadata": {},
   "outputs": [],
   "source": [
    "def on_gpu(words,func,arg=None,dtype=np.int32):\n",
    "    res = librmm.device_array(words.size(), dtype=dtype)\n",
    "    if arg is None:\n",
    "        cmd = 'words.%s(devptr=res.device_ctypes_pointer.value)'%(func)\n",
    "    else:\n",
    "        cmd = 'words.%s(arg,devptr=res.device_ctypes_pointer.value)'%(func)\n",
    "    eval(cmd)\n",
    "    return res\n",
    "\n",
    "def count_items(data,cols):\n",
    "    dg = data.groupby(cols+['item_id'],\n",
    "            as_index=False).agg({'step':['count']})\n",
    "    if len(cols) == 0:\n",
    "        tag = 'global'\n",
    "    else:\n",
    "        tag = '_'.join(cols)\n",
    "    dg.columns = cols + ['item_id', 'count_item_%s'%tag]\n",
    "\n",
    "    if len(cols):\n",
    "        df = data.groupby(cols,\n",
    "            as_index=False).agg({'step':['count']})\n",
    "        df.columns = cols + ['count_item_%s_all'%tag]\n",
    "    \n",
    "        dg = dg.merge(df,on=cols,how='left')\n",
    "        dg['count_item_%s_norm'%tag] = dg['count_item_%s'%tag] / dg['count_item_%s_all'%tag]\n",
    "    \n",
    "        dg = dg.drop('count_item_%s_all'%tag,axis=1)\n",
    "        del df\n",
    "    return dg"
   ]
  },
  {
   "cell_type": "code",
   "execution_count": 5,
   "metadata": {},
   "outputs": [],
   "source": [
    "YCOL = 'target'\n",
    "def mtr(tr,cols,te):\n",
    "    cols = cols + ['item_id']    \n",
    "    dg = tr.groupby(cols,as_index=False).agg({YCOL:'mean'})\n",
    "    if len(cols):\n",
    "        mcol = 'mtr_%s'%('_'.join(cols))\n",
    "    else:\n",
    "        mcol = 'mtr_global'\n",
    "    dg.columns = cols+[mcol]\n",
    "    te = te.merge(dg,on=cols,how='left')\n",
    "    del dg\n",
    "    return te,mcol\n",
    "\n",
    "def mtr_encode(train,test,cols):\n",
    "    # data should have these columns:\n",
    "    # row_id, column to compute mtr, target, item_id\n",
    "    # clickout_missing and all_row_id\n",
    "    train_x = train[cols+['item_id','row_id','all_row_id',YCOL]]\n",
    "    res = []\n",
    "    for i in range(8):\n",
    "        tr = train_x[train_x['row_id']%8!=i]\n",
    "        va = train_x[train_x['row_id']%8==i]\n",
    "        va,mcol = mtr(tr,cols,va)\n",
    "        res.append(va)\n",
    "        print(cols,'fold',i,'done')\n",
    "        del tr,va\n",
    "    if isinstance(train,gd.DataFrame):\n",
    "        res = gd.concat(res)\n",
    "    else:\n",
    "        res = pd.concat(res)\n",
    "    for col in res.columns:\n",
    "        if col not in ['all_row_id',mcol]:\n",
    "            res = res.drop(col,axis=1)\n",
    "    train = train.merge(res,on='all_row_id',how='left')\n",
    "    del res\n",
    "    test,_ = mtr(train_x,cols,test)\n",
    "    del train_x\n",
    "    return train,test,mcol"
   ]
  },
  {
   "cell_type": "markdown",
   "metadata": {},
   "source": [
    "### Read pair data"
   ]
  },
  {
   "cell_type": "code",
   "execution_count": 6,
   "metadata": {},
   "outputs": [],
   "source": [
    "if os.path.exists('cache')==False:\n",
    "    os.mkdir('cache')"
   ]
  },
  {
   "cell_type": "code",
   "execution_count": 7,
   "metadata": {},
   "outputs": [],
   "source": [
    "path = '/datasets/trivago/data/'"
   ]
  },
  {
   "cell_type": "code",
   "execution_count": 8,
   "metadata": {},
   "outputs": [],
   "source": [
    "step = 'prepare for target encoding'\n",
    "STEPS.append(step)"
   ]
  },
  {
   "cell_type": "code",
   "execution_count": 9,
   "metadata": {},
   "outputs": [
    {
     "name": "stdout",
     "output_type": "stream",
     "text": [
      "(42756036, 9) (5762533, 9)\n",
      "CPU times: user 1min 16s, sys: 49.7 s, total: 2min 6s\n",
      "Wall time: 52.5 s\n"
     ]
    }
   ],
   "source": [
    "%%time\n",
    "start = time.time()\n",
    "\n",
    "cols = ['row_id','current_filters','target','user_id',\n",
    "        'item_id','clickout_missing','city','device']\n",
    "data_pair_pd = pd.read_pickle('cache/data_pair_gd.pkl')[cols]\n",
    "\n",
    "data_pair_pd['all_row_id'] = np.arange(data_pair_pd.shape[0])\n",
    "cols.append('all_row_id')\n",
    "data_pair_pd['current_filters'] = data_pair_pd['current_filters'].fillna('None')\n",
    "\n",
    "train_pair_pd = data_pair_pd[data_pair_pd['clickout_missing']==0]\n",
    "test_pair_pd = data_pair_pd[data_pair_pd['clickout_missing']>0]\n",
    "print(train_pair_pd.shape,test_pair_pd.shape)\n",
    "\n",
    "CPU_RUN_TIME[step] = time.time() - start"
   ]
  },
  {
   "cell_type": "code",
   "execution_count": 10,
   "metadata": {},
   "outputs": [
    {
     "name": "stdout",
     "output_type": "stream",
     "text": [
      "(42756036, 9) (5762533, 9)\n",
      "CPU times: user 24.4 s, sys: 15.2 s, total: 39.6 s\n",
      "Wall time: 26.6 s\n"
     ]
    }
   ],
   "source": [
    "%%time\n",
    "start = time.time()\n",
    "\n",
    "data_pair_gd = gd.from_pandas(data_pair_pd)\n",
    "data_pair_gd['current_filters'] = data_pair_gd['current_filters'].fillna('None')\n",
    "train_pair_gd = data_pair_gd[data_pair_gd['clickout_missing']==0]\n",
    "test_pair_gd = data_pair_gd[data_pair_gd['clickout_missing']>0]\n",
    "print(train_pair_gd.shape,test_pair_gd.shape)\n",
    "del data_pair_gd\n",
    "del data_pair_pd\n",
    "\n",
    "GPU_RUN_TIME[step] = time.time() - start"
   ]
  },
  {
   "cell_type": "markdown",
   "metadata": {},
   "source": [
    "### mean target encoding"
   ]
  },
  {
   "cell_type": "code",
   "execution_count": 11,
   "metadata": {},
   "outputs": [],
   "source": [
    "step = 'mean target encoding'\n",
    "STEPS.append(step)"
   ]
  },
  {
   "cell_type": "markdown",
   "metadata": {},
   "source": [
    "### cudf mean target encoding"
   ]
  },
  {
   "cell_type": "markdown",
   "metadata": {},
   "source": [
    "In practice we also computed n-way mean target encoding as follows:\n",
    "- ['current_filters','city'],\n",
    "- ['current_filters','city','device'],\n",
    "- ['current_filters','device'],\n",
    "- ['current_filters','platform'],\n",
    "\n",
    "*which are not included in this notebook due to memory capacity bottleneck*"
   ]
  },
  {
   "cell_type": "code",
   "execution_count": 12,
   "metadata": {},
   "outputs": [
    {
     "name": "stdout",
     "output_type": "stream",
     "text": [
      "['current_filters'] fold 0 done\n",
      "['current_filters'] fold 1 done\n",
      "['current_filters'] fold 2 done\n",
      "['current_filters'] fold 3 done\n",
      "['current_filters'] fold 4 done\n",
      "['current_filters'] fold 5 done\n",
      "['current_filters'] fold 6 done\n",
      "['current_filters'] fold 7 done\n",
      "['city'] fold 0 done\n",
      "['city'] fold 1 done\n",
      "['city'] fold 2 done\n",
      "['city'] fold 3 done\n",
      "['city'] fold 4 done\n",
      "['city'] fold 5 done\n",
      "['city'] fold 6 done\n",
      "['city'] fold 7 done\n",
      "['device'] fold 0 done\n",
      "['device'] fold 1 done\n",
      "['device'] fold 2 done\n",
      "['device'] fold 3 done\n",
      "['device'] fold 4 done\n",
      "['device'] fold 5 done\n",
      "['device'] fold 6 done\n",
      "['device'] fold 7 done\n",
      "['user_id'] fold 0 done\n",
      "['user_id'] fold 1 done\n",
      "['user_id'] fold 2 done\n",
      "['user_id'] fold 3 done\n",
      "['user_id'] fold 4 done\n",
      "['user_id'] fold 5 done\n",
      "['user_id'] fold 6 done\n",
      "['user_id'] fold 7 done\n",
      "mtr done\n",
      "CPU times: user 2min 43s, sys: 52.9 s, total: 3min 36s\n",
      "Wall time: 1min 48s\n"
     ]
    }
   ],
   "source": [
    "%%time\n",
    "start = time.time()\n",
    "\n",
    "for cols in [\n",
    "    ['current_filters'],\n",
    "    ['city'],\n",
    "    ['device'],\n",
    "    ['user_id'],\n",
    "]:\n",
    "    \n",
    "    train_pair_gd,test_pair_gd,mcol = mtr_encode(train_pair_gd,test_pair_gd,cols=cols)\n",
    "print('mtr done')\n",
    "\n",
    "GPU_RUN_TIME[step] = time.time() - start"
   ]
  },
  {
   "cell_type": "code",
   "execution_count": 13,
   "metadata": {},
   "outputs": [
    {
     "name": "stdout",
     "output_type": "stream",
     "text": [
      "['current_filters'] fold 0 done\n",
      "['current_filters'] fold 1 done\n",
      "['current_filters'] fold 2 done\n",
      "['current_filters'] fold 3 done\n",
      "['current_filters'] fold 4 done\n",
      "['current_filters'] fold 5 done\n",
      "['current_filters'] fold 6 done\n",
      "['current_filters'] fold 7 done\n",
      "['city'] fold 0 done\n",
      "['city'] fold 1 done\n",
      "['city'] fold 2 done\n",
      "['city'] fold 3 done\n",
      "['city'] fold 4 done\n",
      "['city'] fold 5 done\n",
      "['city'] fold 6 done\n",
      "['city'] fold 7 done\n",
      "['device'] fold 0 done\n",
      "['device'] fold 1 done\n",
      "['device'] fold 2 done\n",
      "['device'] fold 3 done\n",
      "['device'] fold 4 done\n",
      "['device'] fold 5 done\n",
      "['device'] fold 6 done\n",
      "['device'] fold 7 done\n",
      "['user_id'] fold 0 done\n",
      "['user_id'] fold 1 done\n",
      "['user_id'] fold 2 done\n",
      "['user_id'] fold 3 done\n",
      "['user_id'] fold 4 done\n",
      "['user_id'] fold 5 done\n",
      "['user_id'] fold 6 done\n",
      "['user_id'] fold 7 done\n",
      "mtr done\n",
      "CPU times: user 39min 59s, sys: 7min 22s, total: 47min 21s\n",
      "Wall time: 17min 51s\n"
     ]
    }
   ],
   "source": [
    "%%time\n",
    "start = time.time()\n",
    "\n",
    "for cols in [\n",
    "    ['current_filters'],\n",
    "    ['city'],\n",
    "    ['device'],\n",
    "    ['user_id'],\n",
    "]:\n",
    "    \n",
    "    train_pair_pd,test_pair_pd,mcol = mtr_encode(train_pair_pd,test_pair_pd,cols=cols)\n",
    "print('mtr done')\n",
    "\n",
    "CPU_RUN_TIME[step] = time.time() - start"
   ]
  },
  {
   "cell_type": "markdown",
   "metadata": {},
   "source": [
    "### Visualize the timing"
   ]
  },
  {
   "cell_type": "code",
   "execution_count": 14,
   "metadata": {},
   "outputs": [
    {
     "data": {
      "text/html": [
       "<div>\n",
       "<style scoped>\n",
       "    .dataframe tbody tr th:only-of-type {\n",
       "        vertical-align: middle;\n",
       "    }\n",
       "\n",
       "    .dataframe tbody tr th {\n",
       "        vertical-align: top;\n",
       "    }\n",
       "\n",
       "    .dataframe thead th {\n",
       "        text-align: right;\n",
       "    }\n",
       "</style>\n",
       "<table border=\"1\" class=\"dataframe\">\n",
       "  <thead>\n",
       "    <tr style=\"text-align: right;\">\n",
       "      <th></th>\n",
       "      <th>step</th>\n",
       "      <th>GPU</th>\n",
       "      <th>CPU</th>\n",
       "    </tr>\n",
       "  </thead>\n",
       "  <tbody>\n",
       "    <tr>\n",
       "      <th>0</th>\n",
       "      <td>prepare for target encoding</td>\n",
       "      <td>26.562680</td>\n",
       "      <td>52.523889</td>\n",
       "    </tr>\n",
       "    <tr>\n",
       "      <th>1</th>\n",
       "      <td>mean target encoding</td>\n",
       "      <td>108.592582</td>\n",
       "      <td>1071.832316</td>\n",
       "    </tr>\n",
       "    <tr>\n",
       "      <th>2</th>\n",
       "      <td>Overall</td>\n",
       "      <td>135.155262</td>\n",
       "      <td>1124.356205</td>\n",
       "    </tr>\n",
       "  </tbody>\n",
       "</table>\n",
       "</div>"
      ],
      "text/plain": [
       "                          step         GPU          CPU\n",
       "0  prepare for target encoding   26.562680    52.523889\n",
       "1         mean target encoding  108.592582  1071.832316\n",
       "2                      Overall  135.155262  1124.356205"
      ]
     },
     "execution_count": 14,
     "metadata": {},
     "output_type": "execute_result"
    }
   ],
   "source": [
    "GPU_RUN_TIME['Overall'] = sum([GPU_RUN_TIME[i] for i in STEPS])\n",
    "CPU_RUN_TIME['Overall'] = sum([CPU_RUN_TIME[i] for i in STEPS])\n",
    "STEPS.append('Overall')\n",
    "\n",
    "timing = pd.DataFrame()\n",
    "timing['step'] = STEPS\n",
    "timing['GPU'] = [GPU_RUN_TIME[i] for i in STEPS]\n",
    "timing['CPU'] = [CPU_RUN_TIME[i] for i in STEPS]\n",
    "timing"
   ]
  },
  {
   "cell_type": "code",
   "execution_count": 15,
   "metadata": {},
   "outputs": [
    {
     "data": {
      "image/png": "[encoded data removed]",
      "text/plain": [
       "<Figure size 1440x360 with 1 Axes>"
      ]
     },
     "metadata": {
      "needs_background": "light"
     },
     "output_type": "display_data"
    }
   ],
   "source": [
    "speedup = [CPU_RUN_TIME[i]/GPU_RUN_TIME[i] for i in STEPS]\n",
    "df = pd.DataFrame({'steps':STEPS, 'speedup':speedup})\n",
    "ax = df.plot.bar(x='steps', y='speedup', figsize=(20,5), fontsize=15, title='GPU Speedup',grid=True)"
   ]
  },
  {
   "cell_type": "code",
   "execution_count": 16,
   "metadata": {},
   "outputs": [
    {
     "data": {
      "text/plain": [
       "<matplotlib.axes._subplots.AxesSubplot at 0x7f4b54953c18>"
      ]
     },
     "execution_count": 16,
     "metadata": {},
     "output_type": "execute_result"
    },
    {
     "data": {
      "image/png": "[encoded data removed]",
      "text/plain": [
       "<Figure size 1440x360 with 1 Axes>"
      ]
     },
     "metadata": {
      "needs_background": "light"
     },
     "output_type": "display_data"
    }
   ],
   "source": [
    "timing.set_index('step').plot.bar(figsize=(20,5),grid=True,fontsize=15, title='Running time: seconds')"
   ]
  },
  {
   "cell_type": "code",
   "execution_count": null,
   "metadata": {},
   "outputs": [],
   "source": []
  }
 ],
 "metadata": {
  "kernelspec": {
   "display_name": "Python 3",
   "language": "python",
   "name": "python3"
  },
  "language_info": {
   "codemirror_mode": {
    "name": "ipython",
    "version": 3
   },
   "file_extension": ".py",
   "mimetype": "text/x-python",
   "name": "python",
   "nbconvert_exporter": "python",
   "pygments_lexer": "ipython3",
   "version": "3.6.8"
  }
 },
 "nbformat": 4,
 "nbformat_minor": 2
}
