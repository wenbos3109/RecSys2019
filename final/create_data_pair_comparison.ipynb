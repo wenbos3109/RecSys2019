{
 "cells": [
  {
   "cell_type": "code",
   "execution_count": 1,
   "metadata": {},
   "outputs": [],
   "source": [
    "import os\n",
    "GPU_id = 1\n",
    "os.environ['CUDA_VISIBLE_DEVICES'] = str(GPU_id)"
   ]
  },
  {
   "cell_type": "code",
   "execution_count": 2,
   "metadata": {},
   "outputs": [],
   "source": [
    "import warnings\n",
    "warnings.filterwarnings(\"ignore\")\n",
    "import cudf as gd\n",
    "import pandas as pd\n",
    "import numpy as np\n",
    "import xgboost as xgb\n",
    "import os\n",
    "import time\n",
    "import nvstrings\n",
    "from librmm_cffi import librmm\n",
    "import matplotlib.pyplot as plt\n",
    "%matplotlib inline"
   ]
  },
  {
   "cell_type": "markdown",
   "metadata": {},
   "source": [
    "### Global"
   ]
  },
  {
   "cell_type": "code",
   "execution_count": 3,
   "metadata": {},
   "outputs": [],
   "source": [
    "GPU_RUN_TIME = {}\n",
    "CPU_RUN_TIME = {}\n",
    "STEPS = []"
   ]
  },
  {
   "cell_type": "markdown",
   "metadata": {},
   "source": [
    "### Functions"
   ]
  },
  {
   "cell_type": "code",
   "execution_count": 4,
   "metadata": {},
   "outputs": [],
   "source": [
    "def on_gpu(words,func,arg=None,dtype=np.int32):\n",
    "    res = librmm.device_array(words.size(), dtype=dtype)\n",
    "    if arg is None:\n",
    "        cmd = 'words.%s(res.device_ctypes_pointer.value)'%(func)\n",
    "    else:\n",
    "        cmd = 'words.%s(arg,res.device_ctypes_pointer.value)'%(func)\n",
    "    eval(cmd)\n",
    "    return res"
   ]
  },
  {
   "cell_type": "markdown",
   "metadata": {},
   "source": [
    "### Read data"
   ]
  },
  {
   "cell_type": "code",
   "execution_count": 5,
   "metadata": {},
   "outputs": [],
   "source": [
    "if os.path.exists('cache')==False:\n",
    "    os.mkdir('cache')"
   ]
  },
  {
   "cell_type": "code",
   "execution_count": 6,
   "metadata": {},
   "outputs": [],
   "source": [
    "path = '/datasets/trivago/data/'"
   ]
  },
  {
   "cell_type": "code",
   "execution_count": 7,
   "metadata": {},
   "outputs": [],
   "source": [
    "step = 'read csv'\n",
    "STEPS.append(step)"
   ]
  },
  {
   "cell_type": "markdown",
   "metadata": {},
   "source": [
    "### cudf read csv"
   ]
  },
  {
   "cell_type": "code",
   "execution_count": 8,
   "metadata": {},
   "outputs": [
    {
     "name": "stdout",
     "output_type": "stream",
     "text": [
      "train & test (15932992, 12) (3782335, 12)\n",
      "combined (19715327, 12)\n",
      "CPU times: user 3.74 s, sys: 1.48 s, total: 5.22 s\n",
      "Wall time: 5.24 s\n"
     ]
    }
   ],
   "source": [
    "%%time\n",
    "start = time.time()\n",
    "train_gd = gd.read_csv('%s/train.csv'%path)\n",
    "test_gd = gd.read_csv('%s/test.csv'%path)\n",
    "submission_gd = gd.read_csv('%s/submission_popular.csv'%path)\n",
    "print(\"train & test\",train_gd.shape,test_gd.shape)\n",
    "data_gd = gd.concat([train_gd,test_gd])\n",
    "print('combined',data_gd.shape)\n",
    "GPU_RUN_TIME[step] = time.time() - start"
   ]
  },
  {
   "cell_type": "markdown",
   "metadata": {},
   "source": [
    "### pandas read csv"
   ]
  },
  {
   "cell_type": "code",
   "execution_count": 9,
   "metadata": {},
   "outputs": [
    {
     "name": "stdout",
     "output_type": "stream",
     "text": [
      "train & test (15932992, 12) (3782335, 12)\n",
      "combined (19715327, 12)\n",
      "CPU times: user 1min 30s, sys: 10.4 s, total: 1min 41s\n",
      "Wall time: 57.6 s\n"
     ]
    }
   ],
   "source": [
    "%%time\n",
    "start = time.time()\n",
    "train_pd = pd.read_csv('%s/train.csv'%path)\n",
    "test_pd = pd.read_csv('%s/test.csv'%path)\n",
    "submission_pd = pd.read_csv('%s/submission_popular.csv'%path)\n",
    "print(\"train & test\",train_pd.shape,test_pd.shape)\n",
    "data_pd = pd.concat([train_pd,test_pd])\n",
    "print('combined',data_pd.shape)\n",
    "CPU_RUN_TIME[step] = time.time() - start"
   ]
  },
  {
   "cell_type": "code",
   "execution_count": 10,
   "metadata": {},
   "outputs": [],
   "source": [
    "del train_gd,test_gd\n",
    "del train_pd,test_pd"
   ]
  },
  {
   "cell_type": "markdown",
   "metadata": {},
   "source": [
    "### Only keep click out rows"
   ]
  },
  {
   "cell_type": "code",
   "execution_count": 11,
   "metadata": {},
   "outputs": [],
   "source": [
    "step = 'string comparsion and masking'\n",
    "STEPS.append(step)"
   ]
  },
  {
   "cell_type": "markdown",
   "metadata": {},
   "source": [
    "### cudf string comparsion and masking"
   ]
  },
  {
   "cell_type": "code",
   "execution_count": 12,
   "metadata": {},
   "outputs": [
    {
     "name": "stdout",
     "output_type": "stream",
     "text": [
      "# of clickouts: 2115365\n",
      "true test (253573, 13)\n",
      "true test shape match submission shape\n",
      "CPU times: user 2.24 s, sys: 780 ms, total: 3.02 s\n",
      "Wall time: 3.04 s\n"
     ]
    }
   ],
   "source": [
    "%%time\n",
    "start = time.time()\n",
    "data_gd['is_click_out'] = on_gpu(data_gd['action_type'].data,'compare',arg='clickout item')\n",
    "data_gd['is_click_out'] = data_gd['is_click_out']==0 # 0 means string match\n",
    "data_gd['is_click_out'] = data_gd['is_click_out'].astype('bool')\n",
    "data_gd = data_gd[data_gd['is_click_out']]\n",
    "\n",
    "data_gd.drop_column('is_click_out')\n",
    "print(\"# of clickouts:\",data_gd.shape[0])\n",
    "data_gd['clickout_missing'] = data_gd['reference'].isnull()\n",
    "\n",
    "print('true test',data_gd[data_gd['clickout_missing']].shape)\n",
    "assert submission_gd.shape[0] == data_gd[data_gd['clickout_missing']].shape[0]\n",
    "print('true test shape match submission shape')\n",
    "GPU_RUN_TIME[step] = time.time() - start"
   ]
  },
  {
   "cell_type": "markdown",
   "metadata": {},
   "source": [
    "### pandas string comparsion and masking"
   ]
  },
  {
   "cell_type": "code",
   "execution_count": 13,
   "metadata": {},
   "outputs": [
    {
     "name": "stdout",
     "output_type": "stream",
     "text": [
      "# of clickouts: 2115365\n",
      "true test (253573, 13)\n",
      "true test shape match submission shape\n",
      "CPU times: user 21.5 s, sys: 4.49 s, total: 25.9 s\n",
      "Wall time: 14.8 s\n"
     ]
    }
   ],
   "source": [
    "%%time\n",
    "start = time.time()\n",
    "data_pd['is_click_out'] = data_pd['action_type']=='clickout item'\n",
    "data_pd = data_pd[data_pd['is_click_out']]\n",
    "\n",
    "data_pd.drop('is_click_out',axis=1,inplace=True)\n",
    "print(\"# of clickouts:\",data_pd.shape[0])\n",
    "data_pd['clickout_missing'] = data_pd['reference'].isnull()\n",
    "\n",
    "print('true test',data_pd[data_pd['clickout_missing']].shape)\n",
    "assert submission_pd.shape[0] == data_pd[data_pd['clickout_missing']].shape[0]\n",
    "print('true test shape match submission shape')\n",
    "CPU_RUN_TIME[step] = time.time() - start"
   ]
  },
  {
   "cell_type": "code",
   "execution_count": 14,
   "metadata": {},
   "outputs": [
    {
     "name": "stdout",
     "output_type": "stream",
     "text": [
      "CPU times: user 692 ms, sys: 24 ms, total: 716 ms\n",
      "Wall time: 19.1 ms\n"
     ]
    }
   ],
   "source": [
    "%%time\n",
    "data_gd['row_id'] = np.arange(data_gd.shape[0])\n",
    "data_pd['row_id'] = np.arange(data_pd.shape[0])"
   ]
  },
  {
   "cell_type": "markdown",
   "metadata": {},
   "source": [
    "### Create recommendation list from `impressions`"
   ]
  },
  {
   "cell_type": "code",
   "execution_count": 15,
   "metadata": {},
   "outputs": [],
   "source": [
    "step = 'string column split & expand'\n",
    "STEPS.append(step)"
   ]
  },
  {
   "cell_type": "markdown",
   "metadata": {},
   "source": [
    "### cudf string column split and expand"
   ]
  },
  {
   "cell_type": "code",
   "execution_count": 16,
   "metadata": {},
   "outputs": [
    {
     "name": "stdout",
     "output_type": "stream",
     "text": [
      "CPU times: user 6.7 s, sys: 812 ms, total: 7.51 s\n",
      "Wall time: 614 ms\n"
     ]
    }
   ],
   "source": [
    "%%time\n",
    "start = time.time()\n",
    "# impressions/prices will be split into 25 columns\n",
    "candidates_gd = data_gd['impressions'].data.split('|')\n",
    "prices_gd = data_gd['prices'].data.split('|')\n",
    "GPU_RUN_TIME[step] = time.time() - start"
   ]
  },
  {
   "cell_type": "markdown",
   "metadata": {},
   "source": [
    "### pandas string column split and expand"
   ]
  },
  {
   "cell_type": "code",
   "execution_count": 17,
   "metadata": {},
   "outputs": [
    {
     "name": "stdout",
     "output_type": "stream",
     "text": [
      "CPU times: user 1min 17s, sys: 6.27 s, total: 1min 23s\n",
      "Wall time: 1min 10s\n"
     ]
    }
   ],
   "source": [
    "%%time\n",
    "start = time.time()\n",
    "candidates_pd = data_pd['impressions'].str.split(\"|\", expand = True) \n",
    "prices_pd = data_pd['prices'].str.split(\"|\", expand = True) \n",
    "CPU_RUN_TIME[step] = time.time() - start"
   ]
  },
  {
   "cell_type": "code",
   "execution_count": 18,
   "metadata": {},
   "outputs": [
    {
     "name": "stdout",
     "output_type": "stream",
     "text": [
      "CPU times: user 7.24 s, sys: 864 ms, total: 8.11 s\n",
      "Wall time: 663 ms\n"
     ]
    }
   ],
   "source": [
    "%%time\n",
    "data_gd.drop_column('impressions')\n",
    "data_gd.drop_column('prices')\n",
    "data_pd.drop('impressions',axis=1,inplace=True)\n",
    "data_pd.drop('prices',axis=1,inplace=True)"
   ]
  },
  {
   "cell_type": "markdown",
   "metadata": {},
   "source": [
    "### Assign string columns to dataframe"
   ]
  },
  {
   "cell_type": "code",
   "execution_count": 19,
   "metadata": {},
   "outputs": [],
   "source": [
    "step = 'assign string columns to dataframe'\n",
    "STEPS.append(step)"
   ]
  },
  {
   "cell_type": "code",
   "execution_count": 20,
   "metadata": {},
   "outputs": [
    {
     "name": "stdout",
     "output_type": "stream",
     "text": [
      "CPU times: user 33.8 s, sys: 7.7 s, total: 41.5 s\n",
      "Wall time: 26.8 s\n"
     ]
    }
   ],
   "source": [
    "%%time\n",
    "start = time.time()\n",
    "data_gd_rec_list = data_gd[['row_id']].to_pandas()\n",
    "for i in range(len(candidates_gd)):\n",
    "    data_gd_rec_list['item_%d'%i] = candidates_gd[i].to_host()\n",
    "    data_gd_rec_list['price_%d'%i] = prices_gd[i].to_host()\n",
    "data_gd_rec_list = data_gd_rec_list.set_index('row_id')\n",
    "GPU_RUN_TIME[step] = time.time() - start"
   ]
  },
  {
   "cell_type": "code",
   "execution_count": 21,
   "metadata": {},
   "outputs": [
    {
     "name": "stdout",
     "output_type": "stream",
     "text": [
      "CPU times: user 46.4 s, sys: 5.17 s, total: 51.6 s\n",
      "Wall time: 44.2 s\n"
     ]
    }
   ],
   "source": [
    "%%time\n",
    "start = time.time()\n",
    "data_pd_rec_list = data_pd[['row_id']]\n",
    "for i in range(candidates_pd.shape[1]):\n",
    "    data_pd_rec_list['item_%d'%i] = candidates_pd[i]\n",
    "    data_pd_rec_list['price_%d'%i] = prices_pd[i]\n",
    "data_pd_rec_list = data_pd_rec_list.set_index('row_id')\n",
    "CPU_RUN_TIME[step] = time.time() - start"
   ]
  },
  {
   "cell_type": "markdown",
   "metadata": {},
   "source": [
    "### Create data pair"
   ]
  },
  {
   "cell_type": "code",
   "execution_count": 22,
   "metadata": {},
   "outputs": [],
   "source": [
    "step = 'create data pair'\n",
    "STEPS.append(step)"
   ]
  },
  {
   "cell_type": "markdown",
   "metadata": {},
   "source": [
    "### cudf create data pair\n",
    "For functionalities that are not supported by cudf yet, such as `stack`, we fall back to pandas. "
   ]
  },
  {
   "cell_type": "code",
   "execution_count": 23,
   "metadata": {},
   "outputs": [
    {
     "name": "stdout",
     "output_type": "stream",
     "text": [
      "CPU times: user 2min 42s, sys: 30.4 s, total: 3min 12s\n",
      "Wall time: 1min 29s\n"
     ]
    }
   ],
   "source": [
    "%%time\n",
    "start = time.time()\n",
    "\n",
    "cols = [i for i in data_gd_rec_list.columns if i.startswith('item_')]\n",
    "items = data_gd_rec_list[cols].stack().reset_index()\n",
    "items.columns = ['row_id','candidate_order','item_id']\n",
    "\n",
    "cols = [i for i in data_gd_rec_list.columns if i.startswith('price_')]\n",
    "prices = data_gd_rec_list[cols].stack().reset_index()\n",
    "prices.columns = ['row_id','candidate_order','price']\n",
    "\n",
    "items['price'] = prices['price'].astype(int)\n",
    "items['candidate_order'] = items['candidate_order'].apply(lambda x:x.split('_')[1]).astype(int)\n",
    "\n",
    "count = items['row_id'].value_counts()\n",
    "items['row_id_count'] = items['row_id'].map(count)\n",
    "items = items[items['row_id_count']>1]\n",
    "items_gd = gd.from_pandas(items)\n",
    "\n",
    "data_gd['clickout_missing'] = data_gd['clickout_missing'].astype(int)\n",
    "data_pair_gd = items_gd.merge(data_gd,on='row_id',how='left')\n",
    "\n",
    "data_pair_gd['reference'] = data_pair_gd['reference'].astype(int)\n",
    "data_pair_gd['item_id'] = data_pair_gd['item_id'].astype(int)\n",
    "data_pair_gd['target'] = data_pair_gd['reference'] == data_pair_gd['item_id']\n",
    "data_pair_gd['target'] = data_pair_gd['target'].astype(int)\n",
    "\n",
    "GPU_RUN_TIME[step] = time.time() - start"
   ]
  },
  {
   "cell_type": "code",
   "execution_count": 24,
   "metadata": {},
   "outputs": [
    {
     "name": "stdout",
     "output_type": "stream",
     "text": [
      "CPU times: user 3min 34s, sys: 45.1 s, total: 4min 19s\n",
      "Wall time: 1min 57s\n"
     ]
    }
   ],
   "source": [
    "%%time\n",
    "start = time.time()\n",
    "\n",
    "cols = [i for i in data_pd_rec_list.columns if i.startswith('item_')]\n",
    "items = data_pd_rec_list[cols].stack().reset_index()\n",
    "items.columns = ['row_id','candidate_order','item_id']\n",
    "\n",
    "cols = [i for i in data_pd_rec_list.columns if i.startswith('price_')]\n",
    "prices = data_pd_rec_list[cols].stack().reset_index()\n",
    "prices.columns = ['row_id','candidate_order','price']\n",
    "\n",
    "items['price'] = prices['price'].astype(int)\n",
    "items['candidate_order'] = items['candidate_order'].apply(lambda x:x.split('_')[1]).astype(int)\n",
    "\n",
    "count = items['row_id'].value_counts()\n",
    "items['row_id_count'] = items['row_id'].map(count)\n",
    "items = items[items['row_id_count']>1]\n",
    "\n",
    "data_pd['clickout_missing'] = data_pd['clickout_missing'].astype(int)\n",
    "data_pair_pd = items.merge(data_pd,on='row_id',how='left')\n",
    "\n",
    "data_pair_pd['reference'] = data_pair_pd['reference'].fillna(-1).astype(int)\n",
    "data_pair_pd['item_id'] = data_pair_pd['item_id'].fillna(-1).astype(int)\n",
    "data_pair_pd['target'] = data_pair_pd['reference'] == data_pair_pd['item_id']\n",
    "data_pair_pd['target'] = data_pair_pd['target'].astype(int)\n",
    "\n",
    "CPU_RUN_TIME[step] = time.time() - start"
   ]
  },
  {
   "cell_type": "markdown",
   "metadata": {},
   "source": [
    "### Visualize the timing"
   ]
  },
  {
   "cell_type": "code",
   "execution_count": 27,
   "metadata": {},
   "outputs": [
    {
     "data": {
      "text/html": [
       "<div>\n",
       "<style scoped>\n",
       "    .dataframe tbody tr th:only-of-type {\n",
       "        vertical-align: middle;\n",
       "    }\n",
       "\n",
       "    .dataframe tbody tr th {\n",
       "        vertical-align: top;\n",
       "    }\n",
       "\n",
       "    .dataframe thead th {\n",
       "        text-align: right;\n",
       "    }\n",
       "</style>\n",
       "<table border=\"1\" class=\"dataframe\">\n",
       "  <thead>\n",
       "    <tr style=\"text-align: right;\">\n",
       "      <th></th>\n",
       "      <th>step</th>\n",
       "      <th>GPU</th>\n",
       "      <th>CPU</th>\n",
       "    </tr>\n",
       "  </thead>\n",
       "  <tbody>\n",
       "    <tr>\n",
       "      <th>0</th>\n",
       "      <td>read csv</td>\n",
       "      <td>5.236530</td>\n",
       "      <td>57.576515</td>\n",
       "    </tr>\n",
       "    <tr>\n",
       "      <th>1</th>\n",
       "      <td>string comparsion and masking</td>\n",
       "      <td>3.042940</td>\n",
       "      <td>14.772895</td>\n",
       "    </tr>\n",
       "    <tr>\n",
       "      <th>2</th>\n",
       "      <td>string column split &amp; expand</td>\n",
       "      <td>0.614177</td>\n",
       "      <td>70.012572</td>\n",
       "    </tr>\n",
       "    <tr>\n",
       "      <th>3</th>\n",
       "      <td>assign string columns to dataframe</td>\n",
       "      <td>26.808215</td>\n",
       "      <td>44.185446</td>\n",
       "    </tr>\n",
       "    <tr>\n",
       "      <th>4</th>\n",
       "      <td>create data pair</td>\n",
       "      <td>89.859261</td>\n",
       "      <td>117.327982</td>\n",
       "    </tr>\n",
       "    <tr>\n",
       "      <th>5</th>\n",
       "      <td>Overall</td>\n",
       "      <td>125.561122</td>\n",
       "      <td>303.875410</td>\n",
       "    </tr>\n",
       "  </tbody>\n",
       "</table>\n",
       "</div>"
      ],
      "text/plain": [
       "                                 step         GPU         CPU\n",
       "0                            read csv    5.236530   57.576515\n",
       "1       string comparsion and masking    3.042940   14.772895\n",
       "2        string column split & expand    0.614177   70.012572\n",
       "3  assign string columns to dataframe   26.808215   44.185446\n",
       "4                    create data pair   89.859261  117.327982\n",
       "5                             Overall  125.561122  303.875410"
      ]
     },
     "execution_count": 27,
     "metadata": {},
     "output_type": "execute_result"
    }
   ],
   "source": [
    "GPU_RUN_TIME['Overall'] = sum([GPU_RUN_TIME[i] for i in STEPS])\n",
    "CPU_RUN_TIME['Overall'] = sum([CPU_RUN_TIME[i] for i in STEPS])\n",
    "STEPS.append('Overall')\n",
    "\n",
    "timing = pd.DataFrame()\n",
    "timing['step'] = STEPS\n",
    "timing['GPU'] = [GPU_RUN_TIME[i] for i in STEPS]\n",
    "timing['CPU'] = [CPU_RUN_TIME[i] for i in STEPS]\n",
    "timing"
   ]
  },
  {
   "cell_type": "code",
   "execution_count": 31,
   "metadata": {},
   "outputs": [
    {
     "data": {
      "image/png": "[encoded data removed]",
      "text/plain": [
       "<Figure size 1440x360 with 1 Axes>"
      ]
     },
     "metadata": {
      "needs_background": "light"
     },
     "output_type": "display_data"
    }
   ],
   "source": [
    "speedup = [CPU_RUN_TIME[i]/GPU_RUN_TIME[i] for i in STEPS]\n",
    "df = pd.DataFrame({'steps':STEPS, 'speedup':speedup})\n",
    "ax = df.plot.bar(x='steps', y='speedup', figsize=(20,5), fontsize=15, title='GPU Speedup',grid=True)"
   ]
  },
  {
   "cell_type": "code",
   "execution_count": 35,
   "metadata": {},
   "outputs": [
    {
     "data": {
      "text/plain": [
       "<matplotlib.axes._subplots.AxesSubplot at 0x7f8c1aca38d0>"
      ]
     },
     "execution_count": 35,
     "metadata": {},
     "output_type": "execute_result"
    },
    {
     "data": {
      "image/png": "[encoded data removed]",
      "text/plain": [
       "<Figure size 1440x360 with 1 Axes>"
      ]
     },
     "metadata": {
      "needs_background": "light"
     },
     "output_type": "display_data"
    }
   ],
   "source": [
    "timing.set_index('step').plot.bar(figsize=(20,5),grid=True,fontsize=15, title='Running time: seconds')"
   ]
  }
 ],
 "metadata": {
  "kernelspec": {
   "display_name": "Python 3",
   "language": "python",
   "name": "python3"
  },
  "language_info": {
   "codemirror_mode": {
    "name": "ipython",
    "version": 3
   },
   "file_extension": ".py",
   "mimetype": "text/x-python",
   "name": "python",
   "nbconvert_exporter": "python",
   "pygments_lexer": "ipython3",
   "version": "3.6.8"
  }
 },
 "nbformat": 4,
 "nbformat_minor": 2
}
