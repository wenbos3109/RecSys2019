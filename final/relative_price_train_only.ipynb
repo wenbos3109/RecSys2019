{
 "cells": [
  {
   "cell_type": "markdown",
   "metadata": {},
   "source": [
    "In this notebook, we will engineer the relatie price feature for *training data* only."
   ]
  },
  {
   "cell_type": "code",
   "execution_count": 1,
   "metadata": {},
   "outputs": [],
   "source": [
    "import os\n",
    "GPU_id = 2\n",
    "os.environ['CUDA_VISIBLE_DEVICES'] = str(GPU_id)"
   ]
  },
  {
   "cell_type": "code",
   "execution_count": 2,
   "metadata": {},
   "outputs": [],
   "source": [
    "import warnings\n",
    "warnings.filterwarnings(\"ignore\")\n",
    "\n",
    "import cudf as gd\n",
    "import pandas as pd\n",
    "import numpy as np\n",
    "from numba import cuda\n",
    "import os\n",
    "import time\n",
    "import nvstrings\n",
    "from librmm_cffi import librmm\n",
    "import matplotlib.pyplot as plt\n",
    "%matplotlib inline"
   ]
  },
  {
   "cell_type": "markdown",
   "metadata": {},
   "source": [
    "### Global"
   ]
  },
  {
   "cell_type": "code",
   "execution_count": 3,
   "metadata": {},
   "outputs": [],
   "source": [
    "GPU_RUN_TIME = {}\n",
    "CPU_RUN_TIME = {}\n",
    "STEPS = []"
   ]
  },
  {
   "cell_type": "markdown",
   "metadata": {},
   "source": [
    "### Functions"
   ]
  },
  {
   "cell_type": "code",
   "execution_count": 4,
   "metadata": {},
   "outputs": [],
   "source": [
    "def on_gpu(words,func,arg=None,dtype=np.int32):\n",
    "    res = librmm.device_array(words.size(), dtype=dtype)\n",
    "    if arg is None:\n",
    "        cmd = 'words.%s(devptr=res.device_ctypes_pointer.value)'%(func)\n",
    "    else:\n",
    "        cmd = 'words.%s(arg,devptr=res.device_ctypes_pointer.value)'%(func)\n",
    "    eval(cmd)\n",
    "    return res\n",
    "\n",
    "def count_items(data,cols):\n",
    "    dg = data.groupby(cols+['item_id'],\n",
    "            as_index=False).agg({'step':['count']})\n",
    "    if len(cols) == 0:\n",
    "        tag = 'global'\n",
    "    else:\n",
    "        tag = '_'.join(cols)\n",
    "    dg.columns = cols + ['item_id', 'count_item_%s'%tag]\n",
    "\n",
    "    if len(cols):\n",
    "        df = data.groupby(cols,\n",
    "            as_index=False).agg({'step':['count']})\n",
    "        df.columns = cols + ['count_item_%s_all'%tag]\n",
    "    \n",
    "        dg = dg.merge(df,on=cols,how='left')\n",
    "        dg['count_item_%s_norm'%tag] = dg['count_item_%s'%tag] / dg['count_item_%s_all'%tag]\n",
    "    \n",
    "        dg = dg.drop('count_item_%s_all'%tag,axis=1)\n",
    "        del df\n",
    "    return dg"
   ]
  },
  {
   "cell_type": "code",
   "execution_count": 5,
   "metadata": {},
   "outputs": [],
   "source": [
    "def get_prev_next_price(price,prev_price,next_price):\n",
    "    N = len(price)\n",
    "    for i in range(cuda.threadIdx.x, len(price), cuda.blockDim.x):\n",
    "        if i>0:\n",
    "            prev_price[i] = price[i-1]\n",
    "        else:\n",
    "            prev_price[i] = 10000 # marker for none\n",
    "        if i<N-1:\n",
    "            next_price[i] = price[i+1]\n",
    "        else:\n",
    "            next_price[i] = 10000"
   ]
  },
  {
   "cell_type": "code",
   "execution_count": 6,
   "metadata": {},
   "outputs": [],
   "source": [
    "def pd_next(ds):\n",
    "    # ds is a pandas data series\n",
    "    ds.iloc[:-1] = ds.iloc[1:].values\n",
    "    ds.iloc[-1] = 10000\n",
    "    return ds\n",
    "\n",
    "def pd_prev(ds):\n",
    "    # ds is a pandas data series\n",
    "    ds.iloc[1:] = ds.iloc[:-1].values\n",
    "    ds.iloc[0] = 10000\n",
    "    return ds"
   ]
  },
  {
   "cell_type": "markdown",
   "metadata": {},
   "source": [
    "### Read pair data"
   ]
  },
  {
   "cell_type": "code",
   "execution_count": 7,
   "metadata": {},
   "outputs": [],
   "source": [
    "if os.path.exists('cache')==False:\n",
    "    os.mkdir('cache')"
   ]
  },
  {
   "cell_type": "code",
   "execution_count": 8,
   "metadata": {},
   "outputs": [],
   "source": [
    "path = '/datasets/trivago/data/'"
   ]
  },
  {
   "cell_type": "code",
   "execution_count": 9,
   "metadata": {},
   "outputs": [],
   "source": [
    "step = 'prepare'\n",
    "STEPS.append(step)"
   ]
  },
  {
   "cell_type": "code",
   "execution_count": 10,
   "metadata": {},
   "outputs": [
    {
     "name": "stdout",
     "output_type": "stream",
     "text": [
      "CPU times: user 2min 35s, sys: 55 s, total: 3min 30s\n",
      "Wall time: 1min\n"
     ]
    }
   ],
   "source": [
    "%%time\n",
    "start = time.time()\n",
    "cols = ['user_id','item_id','timestamp','target','price','clickout_missing']\n",
    "data_pair_pd = pd.read_pickle('cache/data_pair_gd.pkl')[cols]\n",
    "data_pair_pd = data_pair_pd[data_pair_pd['clickout_missing']==0] # train only\n",
    "data_pair_pd['all_row_id'] = np.arange(data_pair_pd.shape[0])\n",
    "for col in data_pair_pd.columns:\n",
    "    if data_pair_pd[col].dtype=='int64':\n",
    "        data_pair_pd[col] = data_pair_pd[col].astype('int32')\n",
    "data_pair_pd = data_pair_pd.sort_values(by=['user_id','timestamp']) \n",
    "\n",
    "click_pd = data_pair_pd[data_pair_pd['target']>0]\n",
    "click_pd = click_pd.sort_values(by=['user_id','timestamp']) \n",
    "CPU_RUN_TIME[step] = time.time() - start"
   ]
  },
  {
   "cell_type": "code",
   "execution_count": 11,
   "metadata": {},
   "outputs": [
    {
     "name": "stdout",
     "output_type": "stream",
     "text": [
      "CPU times: user 31.8 s, sys: 10.2 s, total: 42 s\n",
      "Wall time: 12.2 s\n"
     ]
    }
   ],
   "source": [
    "%%time\n",
    "start = time.time()\n",
    "\n",
    "data_pair_gd = gd.from_pandas(data_pair_pd)\n",
    "data_pair_gd['user_id'] = data_pair_gd['user_id'].data.hash()\n",
    "data_pair_gd = data_pair_gd.sort_values(by=['user_id','timestamp']) \n",
    "click_gd = data_pair_gd[data_pair_gd['target']>0]\n",
    "click_gd = click_gd.sort_values(by=['user_id','timestamp']) \n",
    "GPU_RUN_TIME[step] = time.time() - start"
   ]
  },
  {
   "cell_type": "code",
   "execution_count": 12,
   "metadata": {},
   "outputs": [
    {
     "name": "stdout",
     "output_type": "stream",
     "text": [
      "(1856058, 7) (1856058, 7)\n"
     ]
    }
   ],
   "source": [
    "print(click_pd.shape,click_gd.shape)"
   ]
  },
  {
   "cell_type": "markdown",
   "metadata": {},
   "source": [
    "### get pervious and next price"
   ]
  },
  {
   "cell_type": "code",
   "execution_count": 13,
   "metadata": {},
   "outputs": [],
   "source": [
    "step = 'pervious and next price'\n",
    "STEPS.append(step)"
   ]
  },
  {
   "cell_type": "code",
   "execution_count": 14,
   "metadata": {},
   "outputs": [
    {
     "name": "stdout",
     "output_type": "stream",
     "text": [
      "CPU times: user 8.06 s, sys: 460 ms, total: 8.52 s\n",
      "Wall time: 1.18 s\n"
     ]
    }
   ],
   "source": [
    "%%time\n",
    "start = time.time()\n",
    "\n",
    "click_gd = click_gd.groupby('user_id',method=\"cudf\",as_index=False).apply_grouped(get_prev_next_price,\n",
    "                                  incols=['price'],\n",
    "                                  outcols={'prev_price': np.float32,\n",
    "                                           'next_price':np.float32},\n",
    "                                  tpb=32)\n",
    "GPU_RUN_TIME[step] = time.time() - start"
   ]
  },
  {
   "cell_type": "code",
   "execution_count": 15,
   "metadata": {},
   "outputs": [
    {
     "name": "stdout",
     "output_type": "stream",
     "text": [
      "CPU times: user 18min 42s, sys: 13.4 s, total: 18min 55s\n",
      "Wall time: 18min 8s\n"
     ]
    }
   ],
   "source": [
    "%%time\n",
    "start = time.time()\n",
    "\n",
    "next_price = click_pd.groupby('user_id')['price'].apply(pd_next)\n",
    "next_price = next_price.reset_index()\n",
    "next_price.columns = ['all_row_id','next_price']\n",
    "click_pd = click_pd.merge(next_price,on='all_row_id',how='left')\n",
    "\n",
    "prev_price = click_pd.groupby('user_id')['price'].apply(pd_prev)\n",
    "prev_price = prev_price.reset_index()\n",
    "prev_price.columns = ['all_row_id','prev_price']\n",
    "click_pd = click_pd.merge(prev_price,on='all_row_id',how='left')\n",
    "\n",
    "CPU_RUN_TIME[step] = time.time() - start"
   ]
  },
  {
   "cell_type": "code",
   "execution_count": 16,
   "metadata": {},
   "outputs": [
    {
     "name": "stdout",
     "output_type": "stream",
     "text": [
      "(1856058, 9) (1856058, 9)\n"
     ]
    }
   ],
   "source": [
    "print(click_pd.shape,click_gd.shape)"
   ]
  },
  {
   "cell_type": "markdown",
   "metadata": {},
   "source": [
    "### compute difference"
   ]
  },
  {
   "cell_type": "code",
   "execution_count": 17,
   "metadata": {},
   "outputs": [],
   "source": [
    "step = 'compute difference'\n",
    "STEPS.append(step)"
   ]
  },
  {
   "cell_type": "markdown",
   "metadata": {},
   "source": [
    "### cudf compute difference"
   ]
  },
  {
   "cell_type": "code",
   "execution_count": 18,
   "metadata": {},
   "outputs": [
    {
     "name": "stdout",
     "output_type": "stream",
     "text": [
      "CPU times: user 5.36 s, sys: 424 ms, total: 5.79 s\n",
      "Wall time: 568 ms\n"
     ]
    }
   ],
   "source": [
    "%%time\n",
    "start = time.time()\n",
    "\n",
    "for col in click_gd.columns:\n",
    "    if col not in ['user_id','timestamp','next_price','prev_price']:\n",
    "        click_gd.drop_column(col)\n",
    "\n",
    "data_pair_gd = data_pair_gd.merge(click_gd,on=['user_id','timestamp'],how='left')\n",
    "\n",
    "\n",
    "data_pair_gd['prev_price_diff'] = data_pair_gd['prev_price'] - data_pair_gd['price']\n",
    "data_pair_gd['next_price_diff'] = data_pair_gd['next_price'] - data_pair_gd['price']\n",
    "GPU_RUN_TIME[step] = time.time() - start"
   ]
  },
  {
   "cell_type": "markdown",
   "metadata": {},
   "source": [
    "### pandas compute difference"
   ]
  },
  {
   "cell_type": "code",
   "execution_count": 19,
   "metadata": {},
   "outputs": [
    {
     "name": "stdout",
     "output_type": "stream",
     "text": [
      "CPU times: user 30.7 s, sys: 6.85 s, total: 37.6 s\n",
      "Wall time: 12 s\n"
     ]
    }
   ],
   "source": [
    "%%time\n",
    "start = time.time()\n",
    "\n",
    "for col in click_pd.columns:\n",
    "    if col not in ['user_id','timestamp','next_price','prev_price']:\n",
    "        click_pd = click_pd.drop(col,axis=1)\n",
    "\n",
    "data_pair_pd = data_pair_pd.merge(click_pd,on=['user_id','timestamp'],how='left')\n",
    "\n",
    "\n",
    "data_pair_pd['prev_price_diff'] = data_pair_pd['prev_price'] - data_pair_pd['price']\n",
    "data_pair_pd['next_price_diff'] = data_pair_pd['next_price'] - data_pair_pd['price']\n",
    "CPU_RUN_TIME[step] = time.time() - start"
   ]
  },
  {
   "cell_type": "markdown",
   "metadata": {},
   "source": [
    "### Visualize the timing"
   ]
  },
  {
   "cell_type": "code",
   "execution_count": 20,
   "metadata": {},
   "outputs": [
    {
     "data": {
      "text/html": [
       "<div>\n",
       "<style scoped>\n",
       "    .dataframe tbody tr th:only-of-type {\n",
       "        vertical-align: middle;\n",
       "    }\n",
       "\n",
       "    .dataframe tbody tr th {\n",
       "        vertical-align: top;\n",
       "    }\n",
       "\n",
       "    .dataframe thead th {\n",
       "        text-align: right;\n",
       "    }\n",
       "</style>\n",
       "<table border=\"1\" class=\"dataframe\">\n",
       "  <thead>\n",
       "    <tr style=\"text-align: right;\">\n",
       "      <th></th>\n",
       "      <th>step</th>\n",
       "      <th>GPU</th>\n",
       "      <th>CPU</th>\n",
       "    </tr>\n",
       "  </thead>\n",
       "  <tbody>\n",
       "    <tr>\n",
       "      <th>0</th>\n",
       "      <td>prepare</td>\n",
       "      <td>12.181949</td>\n",
       "      <td>60.828371</td>\n",
       "    </tr>\n",
       "    <tr>\n",
       "      <th>1</th>\n",
       "      <td>pervious and next price</td>\n",
       "      <td>1.183835</td>\n",
       "      <td>1088.216188</td>\n",
       "    </tr>\n",
       "    <tr>\n",
       "      <th>2</th>\n",
       "      <td>compute difference</td>\n",
       "      <td>0.568073</td>\n",
       "      <td>12.002198</td>\n",
       "    </tr>\n",
       "    <tr>\n",
       "      <th>3</th>\n",
       "      <td>Overall</td>\n",
       "      <td>13.933858</td>\n",
       "      <td>1161.046757</td>\n",
       "    </tr>\n",
       "  </tbody>\n",
       "</table>\n",
       "</div>"
      ],
      "text/plain": [
       "                      step        GPU          CPU\n",
       "0                  prepare  12.181949    60.828371\n",
       "1  pervious and next price   1.183835  1088.216188\n",
       "2       compute difference   0.568073    12.002198\n",
       "3                  Overall  13.933858  1161.046757"
      ]
     },
     "execution_count": 20,
     "metadata": {},
     "output_type": "execute_result"
    }
   ],
   "source": [
    "GPU_RUN_TIME['Overall'] = sum([GPU_RUN_TIME[i] for i in STEPS])\n",
    "CPU_RUN_TIME['Overall'] = sum([CPU_RUN_TIME[i] for i in STEPS])\n",
    "STEPS.append('Overall')\n",
    "\n",
    "timing = pd.DataFrame()\n",
    "timing['step'] = STEPS\n",
    "timing['GPU'] = [GPU_RUN_TIME[i] for i in STEPS]\n",
    "timing['CPU'] = [CPU_RUN_TIME[i] for i in STEPS]\n",
    "timing"
   ]
  },
  {
   "cell_type": "code",
   "execution_count": 21,
   "metadata": {},
   "outputs": [
    {
     "data": {
      "image/png": "[encoded data removed]",
      "text/plain": [
       "<Figure size 1440x360 with 1 Axes>"
      ]
     },
     "metadata": {
      "needs_background": "light"
     },
     "output_type": "display_data"
    }
   ],
   "source": [
    "speedup = [CPU_RUN_TIME[i]/GPU_RUN_TIME[i] for i in STEPS]\n",
    "df = pd.DataFrame({'steps':STEPS, 'speedup':speedup})\n",
    "ax = df.plot.bar(x='steps', y='speedup', figsize=(20,5), fontsize=15, title='GPU Speedup',grid=True)"
   ]
  },
  {
   "cell_type": "code",
   "execution_count": 22,
   "metadata": {},
   "outputs": [
    {
     "data": {
      "text/plain": [
       "<matplotlib.axes._subplots.AxesSubplot at 0x7f3046228828>"
      ]
     },
     "execution_count": 22,
     "metadata": {},
     "output_type": "execute_result"
    },
    {
     "data": {
      "image/png": "[encoded data removed]",
      "text/plain": [
       "<Figure size 1440x360 with 1 Axes>"
      ]
     },
     "metadata": {
      "needs_background": "light"
     },
     "output_type": "display_data"
    }
   ],
   "source": [
    "timing.set_index('step').plot.bar(figsize=(20,5),grid=True,fontsize=15, title='Running time: seconds')"
   ]
  }
 ],
 "metadata": {
  "kernelspec": {
   "display_name": "Python 3",
   "language": "python",
   "name": "python3"
  },
  "language_info": {
   "codemirror_mode": {
    "name": "ipython",
    "version": 3
   },
   "file_extension": ".py",
   "mimetype": "text/x-python",
   "name": "python",
   "nbconvert_exporter": "python",
   "pygments_lexer": "ipython3",
   "version": "3.6.8"
  }
 },
 "nbformat": 4,
 "nbformat_minor": 2
}
