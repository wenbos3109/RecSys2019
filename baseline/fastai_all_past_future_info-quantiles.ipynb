{
 "cells": [
  {
   "cell_type": "code",
   "execution_count": 2,
   "metadata": {},
   "outputs": [],
   "source": [
    "import pandas as pd\n",
    "import numpy as np\n",
    "import time\n",
    "import pickle\n",
    "import re \n",
    "import matplotlib.pyplot as plt\n",
    "import nvstrings\n",
    "import warnings\n",
    "import cudf as gd\n",
    "import torch\n",
    "import torch.nn\n",
    "\n",
    "from numba import cuda\n",
    "from sklearn.metrics import roc_auc_score\n",
    "from datetime import date\n",
    "from fastai.callbacks import *\n",
    "from fastai import *\n",
    "from fastai.tabular import *\n",
    "from fastai.text import *\n",
    "from fastai.metrics import accuracy\n",
    "from multiprocessing import Process\n",
    "from os import listdir\n",
    "from os.path import isfile, join\n",
    "warnings.filterwarnings(\"ignore\")\n",
    "%matplotlib inline"
   ]
  },
  {
   "cell_type": "code",
   "execution_count": 3,
   "metadata": {},
   "outputs": [],
   "source": [
    "import os\n",
    "GPU_id = 3\n",
    "os.environ['CUDA_VISIBLE_DEVICES'] = str(GPU_id)"
   ]
  },
  {
   "cell_type": "code",
   "execution_count": 4,
   "metadata": {},
   "outputs": [
    {
     "data": {
      "text/plain": [
       "0"
      ]
     },
     "execution_count": 4,
     "metadata": {},
     "output_type": "execute_result"
    }
   ],
   "source": [
    "torch.cuda.current_device()"
   ]
  },
  {
   "cell_type": "markdown",
   "metadata": {},
   "source": [
    "\n",
    "<h2> Functions </h2>"
   ]
  },
  {
   "cell_type": "code",
   "execution_count": 57,
   "metadata": {},
   "outputs": [],
   "source": [
    "#########################\n",
    "#                       #\n",
    "# Metrics and callbacks #\n",
    "#                       #\n",
    "#########################\n",
    "\n",
    "def write_pkl(obj, file_path=None):\n",
    "    if not file_path:\n",
    "        date_time = date.fromtimestamp(time.time()).strftime(\"%m_%d_%Y_%H-%M-%S\")\n",
    "        file_path=f'{date_time}.csv'\n",
    "    if os.path.exists(file_path):\n",
    "        os.remove(file_path)\n",
    "    max_bytes = 2**31 - 1\n",
    "    bytes_out = pickle.dumps(obj, protocol=4)\n",
    "    with open(file_path, 'wb') as f_out:\n",
    "        for idx in range(0, len(bytes_out), max_bytes):\n",
    "            f_out.write(bytes_out[idx:idx+max_bytes])\n",
    "\n",
    "\n",
    "def get_mean_reciprocal_rank(sub):\n",
    "    # sub is a pandas dataframe\n",
    "    # sub should have the following columns:\n",
    "    # 'row_id', 'prob', 'reference', 'item_id'\n",
    "    # sorted by prob in descending order for each group\n",
    "    sub = gd.from_pandas(sub)\n",
    "    \n",
    "    def get_order_in_group(prob,row_id,order):\n",
    "        for i in range(cuda.threadIdx.x, len(prob), cuda.blockDim.x):\n",
    "            order[i] = i\n",
    "\n",
    "    dg = sub.groupby('row_id',method=\"cudf\").apply_grouped(get_order_in_group,incols=['prob','row_id'],\n",
    "                                  outcols={'order': np.int32},\n",
    "                                  tpb=32)\n",
    "\n",
    "    dg = dg.to_pandas()\n",
    "    dg['order'] = 1.0/(1+dg['order'])\n",
    "    dg = dg[dg['reference']==dg['item_id']]\n",
    "    return dg['order'].mean()\n",
    "\n",
    "def auroc_score(input, target):\n",
    "    input, target = input.cpu().numpy()[:,1], target.cpu().numpy()\n",
    "    return roc_auc_score(target, input)\n",
    "\n",
    "# Callback to calculate AUC at the end of each epoch\n",
    "class AUROC(Callback):\n",
    "    _order = -20 #Needs to run before the recorder\n",
    "\n",
    "    def __init__(self, learn, **kwargs): self.learn = learn\n",
    "    def on_train_begin(self, **kwargs): self.learn.recorder.add_metric_names(['AUROC'])\n",
    "    def on_epoch_begin(self, **kwargs): self.output, self.target = [], []\n",
    "\n",
    "    def on_batch_end(self, last_target, last_output, train, **kwargs):\n",
    "        if not train:\n",
    "            self.output.append(last_output)\n",
    "            self.target.append(last_target)\n",
    "\n",
    "    def on_epoch_end(self, last_metrics, **kwargs):\n",
    "        if len(self.output) > 0:\n",
    "            output = torch.cat(self.output)\n",
    "            target = torch.cat(self.target)\n",
    "            preds = F.softmax(output, dim=1)\n",
    "            metric = auroc_score(preds, target)\n",
    "            return add_metrics(last_metrics, [metric])\n",
    "\n",
    "        \n",
    "def get_idx(x): \n",
    "    return 0 if pd.isnull(x) else id_to_index.get(str(x), 0)"
   ]
  },
  {
   "cell_type": "markdown",
   "metadata": {},
   "source": [
    "<h1> <center> Data Processing </center> </h1>"
   ]
  },
  {
   "cell_type": "markdown",
   "metadata": {},
   "source": [
    "### 1. If data is not saved before"
   ]
  },
  {
   "cell_type": "code",
   "execution_count": null,
   "metadata": {},
   "outputs": [],
   "source": [
    "with open('cache/id_to_index.pkl', 'rb') as handle:\n",
    "    id_to_index = pickle.load(handle)"
   ]
  },
  {
   "cell_type": "code",
   "execution_count": null,
   "metadata": {},
   "outputs": [],
   "source": [
    "%%time\n",
    "#load tabular data \n",
    "data_pair = pd.read_pickle('cache/data_pair_all.pkl')\n",
    "data_pair = data_pair.drop(columns = [c for c in data_pair.columns if c.startswith('delta') or c.startswith('is')])"
   ]
  },
  {
   "cell_type": "code",
   "execution_count": null,
   "metadata": {},
   "outputs": [],
   "source": [
    "%%time\n",
    "data_context = pd.read_csv('cache/context_info.csv')\n",
    "data_context['past_clickout_item'] = data_context['past_clickout_item'].apply(get_idx)\n",
    "data_context['future_clickout_item'] = data_context['future_clickout_item'].apply(get_idx)"
   ]
  },
  {
   "cell_type": "code",
   "execution_count": null,
   "metadata": {},
   "outputs": [],
   "source": [
    "%%time\n",
    "data_pair = data_pair.merge(data_context, on='row_id', how='left')"
   ]
  },
  {
   "cell_type": "code",
   "execution_count": null,
   "metadata": {},
   "outputs": [],
   "source": [
    "data_pair['past_clickout_price_diff'] = data_pair['price'] - data_pair['past_clickout_price']\n",
    "data_pair['future_clickout_price_diff'] = data_pair['price'] - data_pair['future_clickout_price']"
   ]
  },
  {
   "cell_type": "markdown",
   "metadata": {},
   "source": [
    "### 2. Otherwise, load the data"
   ]
  },
  {
   "cell_type": "code",
   "execution_count": 40,
   "metadata": {},
   "outputs": [
    {
     "name": "stdout",
     "output_type": "stream",
     "text": [
      "CPU times: user 12.4 s, sys: 17.9 s, total: 30.2 s\n",
      "Wall time: 30.2 s\n"
     ]
    }
   ],
   "source": [
    "%%time\n",
    "data_pair = pd.read_pickle('cache/data_pair_context.pkl')"
   ]
  },
  {
   "cell_type": "code",
   "execution_count": 41,
   "metadata": {},
   "outputs": [
    {
     "data": {
      "text/plain": [
       "Index(['row_id', 'candidate_order', 'item_id', 'price', 'row_id_count',\n",
       "       'item_count', 'user_id', 'session_id', 'timestamp', 'step', 'reference',\n",
       "       'platform', 'city', 'device', 'current_filters', 'clickout_missing',\n",
       "       'target', 'count_item_user_id_session_id',\n",
       "       'count_item_user_id_session_id_norm', 'count_item_user_id',\n",
       "       'count_item_user_id_norm', 'price_rank', 'price_rank_norm',\n",
       "       'item_count_rank', 'item_count_rank_norm',\n",
       "       'count_item_user_id_session_id_rank',\n",
       "       'count_item_user_id_session_id_rank_norm', 'count_item_user_id_rank',\n",
       "       'count_item_user_id_rank_norm', 'past_clickout_available',\n",
       "       'past_clickout_item', 'past_clickout_step_diff',\n",
       "       'past_clickout_timestamp_diff', 'past_clickout_price',\n",
       "       'past_clickout_is_same', 'past_clickout_impression_valid',\n",
       "       'past_clickout_price_mean', 'past_clickout_price_std',\n",
       "       'cur_item_count_past', 'future_clickout_available',\n",
       "       'future_clickout_item', 'future_clickout_step_diff',\n",
       "       'future_clickout_timestamp_diff', 'future_clickout_price',\n",
       "       'future_clickout_is_same', 'future_clickout_impression_valid',\n",
       "       'future_clickout_price_mean', 'future_clickout_price_std',\n",
       "       'cur_item_count_future', 'past_clickout_price_diff',\n",
       "       'future_clickout_price_diff'],\n",
       "      dtype='object')"
      ]
     },
     "execution_count": 41,
     "metadata": {},
     "output_type": "execute_result"
    }
   ],
   "source": [
    "data_pair.columns"
   ]
  },
  {
   "cell_type": "markdown",
   "metadata": {},
   "source": [
    "### 3. Quantile"
   ]
  },
  {
   "cell_type": "code",
   "execution_count": 42,
   "metadata": {},
   "outputs": [
    {
     "name": "stdout",
     "output_type": "stream",
     "text": [
      "['price', 'candidate_order', 'item_count', 'count_item_user_id_session_id', 'count_item_user_id_session_id_norm', 'count_item_user_id', 'count_item_user_id_norm', 'price_rank', 'price_rank_norm', 'item_count_rank', 'item_count_rank_norm', 'count_item_user_id_session_id_rank', 'count_item_user_id_session_id_rank_norm', 'count_item_user_id_rank', 'count_item_user_id_rank_norm']\n"
     ]
    }
   ],
   "source": [
    "cat_names = ['user_id','item_id','platform','city','device','current_filters']\n",
    "cat_names +=['past_clickout_available', \n",
    "             'past_clickout_is_same', \n",
    "             'past_clickout_impression_valid', \n",
    "             'future_clickout_available',\n",
    "             'future_clickout_is_same', \n",
    "             'future_clickout_impression_valid']\n",
    "\n",
    "cont_names = ['price','candidate_order','item_count'] + [i for i in train.columns if i.startswith('count') or 'rank' in i]\n",
    "print(cont_names)\n",
    "cont_names += [ 'past_clickout_step_diff', \n",
    "                'past_clickout_timestamp_diff',\n",
    "                'past_clickout_price', \n",
    "                'past_clickout_price_mean',  \n",
    "                'past_clickout_price_std',\n",
    "                'past_clickout_price_diff',\n",
    "                'cur_item_count_past',\n",
    "                'future_clickout_step_diff', \n",
    "                'future_clickout_timestamp_diff',\n",
    "                'future_clickout_price',   \n",
    "                'future_clickout_price_mean', \n",
    "                'future_clickout_price_std',\n",
    "                'future_clickout_price_diff',\n",
    "                'cur_item_count_future']"
   ]
  },
  {
   "cell_type": "code",
   "execution_count": 43,
   "metadata": {},
   "outputs": [],
   "source": [
    "# range_to_num_bins = {}\n",
    "# for c in cont_names:\n",
    "#     value_range = data_pair[c].max()-data_pair[c].min() + 1\n",
    "#     range_to_num_bins[c] = max(4, 2*np.int(np.log2(value_range)))"
   ]
  },
  {
   "cell_type": "code",
   "execution_count": 44,
   "metadata": {},
   "outputs": [
    {
     "name": "stdout",
     "output_type": "stream",
     "text": [
      "CPU times: user 1min 30s, sys: 57.4 s, total: 2min 27s\n",
      "Wall time: 2min 28s\n"
     ]
    }
   ],
   "source": [
    "%%time \n",
    "for c in cont_names:\n",
    "    data_pair[c] = pd.qcut(data_pair[c], 20, labels=False, duplicates='drop')"
   ]
  },
  {
   "cell_type": "code",
   "execution_count": 45,
   "metadata": {},
   "outputs": [
    {
     "name": "stdout",
     "output_type": "stream",
     "text": [
      "(42756036, 51) (5762533, 51)\n",
      "CPU times: user 16.9 s, sys: 32.9 s, total: 49.8 s\n",
      "Wall time: 49.7 s\n"
     ]
    }
   ],
   "source": [
    "%%time\n",
    "train = data_pair[data_pair.clickout_missing==0]\n",
    "test = data_pair[data_pair.clickout_missing>0]\n",
    "print(train.shape,test.shape)"
   ]
  },
  {
   "cell_type": "markdown",
   "metadata": {},
   "source": [
    "<h3> Test quantiles </h3> "
   ]
  },
  {
   "cell_type": "code",
   "execution_count": 14,
   "metadata": {},
   "outputs": [],
   "source": [
    "df = train[['price']].copy()"
   ]
  },
  {
   "cell_type": "code",
   "execution_count": 15,
   "metadata": {},
   "outputs": [],
   "source": [
    "df['quantized_price'] = pd.qcut(df['price'], 20, labels=False, duplicates='drop')"
   ]
  },
  {
   "cell_type": "code",
   "execution_count": 19,
   "metadata": {},
   "outputs": [
    {
     "data": {
      "text/plain": [
       "(array([     0., 220615., 560744., 953874., ...,  10739.,  11088.,  10849.,  12455.]),\n",
       " array([  0,   5,  10,  15, ..., 580, 585, 590, 595]),\n",
       " <a list of 119 Patch objects>)"
      ]
     },
     "execution_count": 19,
     "metadata": {},
     "output_type": "execute_result"
    },
    {
     "data": {
      "image/png": "[encoded data removed]",
      "text/plain": [
       "<Figure size 432x288 with 1 Axes>"
      ]
     },
     "metadata": {
      "needs_background": "light"
     },
     "output_type": "display_data"
    }
   ],
   "source": [
    "plt.hist(train['price'].values, bins=list(range(0, 600, 5)))"
   ]
  },
  {
   "cell_type": "code",
   "execution_count": 20,
   "metadata": {},
   "outputs": [
    {
     "data": {
      "text/html": [
       "<div>\n",
       "<style scoped>\n",
       "    .dataframe tbody tr th:only-of-type {\n",
       "        vertical-align: middle;\n",
       "    }\n",
       "\n",
       "    .dataframe tbody tr th {\n",
       "        vertical-align: top;\n",
       "    }\n",
       "\n",
       "    .dataframe thead th {\n",
       "        text-align: right;\n",
       "    }\n",
       "</style>\n",
       "<table border=\"1\" class=\"dataframe\">\n",
       "  <thead>\n",
       "    <tr style=\"text-align: right;\">\n",
       "      <th></th>\n",
       "      <th>price</th>\n",
       "      <th>quantized_price</th>\n",
       "    </tr>\n",
       "  </thead>\n",
       "  <tbody>\n",
       "    <tr>\n",
       "      <th>20</th>\n",
       "      <td>92</td>\n",
       "      <td>11</td>\n",
       "    </tr>\n",
       "    <tr>\n",
       "      <th>21</th>\n",
       "      <td>200</td>\n",
       "      <td>17</td>\n",
       "    </tr>\n",
       "    <tr>\n",
       "      <th>22</th>\n",
       "      <td>139</td>\n",
       "      <td>15</td>\n",
       "    </tr>\n",
       "    <tr>\n",
       "      <th>23</th>\n",
       "      <td>11</td>\n",
       "      <td>0</td>\n",
       "    </tr>\n",
       "    <tr>\n",
       "      <th>24</th>\n",
       "      <td>15</td>\n",
       "      <td>0</td>\n",
       "    </tr>\n",
       "    <tr>\n",
       "      <th>25</th>\n",
       "      <td>15</td>\n",
       "      <td>0</td>\n",
       "    </tr>\n",
       "    <tr>\n",
       "      <th>26</th>\n",
       "      <td>45</td>\n",
       "      <td>4</td>\n",
       "    </tr>\n",
       "    <tr>\n",
       "      <th>27</th>\n",
       "      <td>16</td>\n",
       "      <td>0</td>\n",
       "    </tr>\n",
       "    <tr>\n",
       "      <th>28</th>\n",
       "      <td>17</td>\n",
       "      <td>0</td>\n",
       "    </tr>\n",
       "    <tr>\n",
       "      <th>29</th>\n",
       "      <td>16</td>\n",
       "      <td>0</td>\n",
       "    </tr>\n",
       "  </tbody>\n",
       "</table>\n",
       "</div>"
      ],
      "text/plain": [
       "    price  quantized_price\n",
       "20     92               11\n",
       "21    200               17\n",
       "22    139               15\n",
       "23     11                0\n",
       "24     15                0\n",
       "25     15                0\n",
       "26     45                4\n",
       "27     16                0\n",
       "28     17                0\n",
       "29     16                0"
      ]
     },
     "execution_count": 20,
     "metadata": {},
     "output_type": "execute_result"
    }
   ],
   "source": [
    "df.iloc[20: 30]"
   ]
  },
  {
   "cell_type": "code",
   "execution_count": 46,
   "metadata": {},
   "outputs": [
    {
     "name": "stdout",
     "output_type": "stream",
     "text": [
      "CPU times: user 4min 13s, sys: 5min 6s, total: 9min 19s\n",
      "Wall time: 9min 20s\n"
     ]
    }
   ],
   "source": [
    "%%time\n",
    "procs = [FillMissing,Categorify]\n",
    "train['is_va'] = train.row_id%5 == 0\n",
    "\n",
    "test_list = TabularList.from_df(test, path='./', cat_names=cat_names+cont_names)\n",
    "\n",
    "data_tab = (TabularList.from_df(train, path='./', cat_names=cat_names+cont_names, procs=procs)\n",
    "                           .split_from_df('is_va')\n",
    "                           .label_from_df(cols='target')\n",
    "                           .add_test(test_list)\n",
    "                           .databunch(num_workers=10,bs=1024))"
   ]
  },
  {
   "cell_type": "code",
   "execution_count": 47,
   "metadata": {},
   "outputs": [
    {
     "name": "stdout",
     "output_type": "stream",
     "text": [
      "CPU times: user 26.1 s, sys: 1min 5s, total: 1min 31s\n",
      "Wall time: 1min 48s\n"
     ]
    }
   ],
   "source": [
    "%%time \n",
    "write_pkl(data_tab)\n",
    "del data_pair"
   ]
  },
  {
   "cell_type": "code",
   "execution_count": 49,
   "metadata": {},
   "outputs": [
    {
     "name": "stdout",
     "output_type": "stream",
     "text": [
      "CPU times: user 8.5 s, sys: 3.74 s, total: 12.2 s\n",
      "Wall time: 12.7 s\n"
     ]
    }
   ],
   "source": [
    "%%time\n",
    "emb_szs = {'user_id': 32,'item_id':32,'platform':4,'city':8,'device':1,\n",
    "                   'current_filters':8}\n",
    "emb_szs.update({c: 5 for c in cont_names})\n",
    "learn = tabular_learner(data_tab, layers=[128,64], metrics=None, callback_fns=AUROC,#wd=0.2,\n",
    "        emb_szs = emb_szs)"
   ]
  },
  {
   "cell_type": "code",
   "execution_count": 62,
   "metadata": {},
   "outputs": [
    {
     "data": {
      "text/html": [],
      "text/plain": [
       "<IPython.core.display.HTML object>"
      ]
     },
     "metadata": {},
     "output_type": "display_data"
    },
    {
     "name": "stdout",
     "output_type": "stream",
     "text": [
      "LR Finder is complete, type {learner_name}.recorder.plot() to see the graph.\n"
     ]
    }
   ],
   "source": [
    "learn.lr_find()"
   ]
  },
  {
   "cell_type": "code",
   "execution_count": 63,
   "metadata": {},
   "outputs": [
    {
     "data": {
      "image/png": "[encoded data removed]",
      "text/plain": [
       "<Figure size 432x288 with 1 Axes>"
      ]
     },
     "metadata": {
      "needs_background": "light"
     },
     "output_type": "display_data"
    }
   ],
   "source": [
    "learn.recorder.plot()"
   ]
  },
  {
   "cell_type": "code",
   "execution_count": 52,
   "metadata": {},
   "outputs": [
    {
     "data": {
      "text/html": [
       "<table border=\"1\" class=\"dataframe\">\n",
       "  <thead>\n",
       "    <tr style=\"text-align: left;\">\n",
       "      <th>epoch</th>\n",
       "      <th>train_loss</th>\n",
       "      <th>valid_loss</th>\n",
       "      <th>AUROC</th>\n",
       "      <th>time</th>\n",
       "    </tr>\n",
       "  </thead>\n",
       "  <tbody>\n",
       "    <tr>\n",
       "      <td>0</td>\n",
       "      <td>0.110583</td>\n",
       "      <td>0.106902</td>\n",
       "      <td>0.914721</td>\n",
       "      <td>1:00:52</td>\n",
       "    </tr>\n",
       "  </tbody>\n",
       "</table>"
      ],
      "text/plain": [
       "<IPython.core.display.HTML object>"
      ]
     },
     "metadata": {},
     "output_type": "display_data"
    },
    {
     "name": "stdout",
     "output_type": "stream",
     "text": [
      "Better model found at epoch 0 with AUROC value: 0.9147205802980725.\n"
     ]
    }
   ],
   "source": [
    "learn.fit_one_cycle(1, max_lr=slice(1e-2), callbacks=[SaveModelCallback(learn,\n",
    "        every='improvement', monitor='AUROC',name='tab_nn_quantile')])"
   ]
  },
  {
   "cell_type": "code",
   "execution_count": 60,
   "metadata": {},
   "outputs": [],
   "source": [
    "learn.save(\"trained_fastai_context_and_quantized_1_epoch\")"
   ]
  },
  {
   "cell_type": "markdown",
   "metadata": {},
   "source": [
    "<h2> Performance Evaluation</h2>"
   ]
  },
  {
   "cell_type": "code",
   "execution_count": 55,
   "metadata": {},
   "outputs": [
    {
     "name": "stdout",
     "output_type": "stream",
     "text": [
      "CPU times: user 1min, sys: 49.8 s, total: 1min 50s\n",
      "Wall time: 2min 7s\n"
     ]
    }
   ],
   "source": [
    "%%time\n",
    "yp,y_valid = learn.get_preds()"
   ]
  },
  {
   "cell_type": "code",
   "execution_count": 56,
   "metadata": {},
   "outputs": [
    {
     "name": "stdout",
     "output_type": "stream",
     "text": [
      "here\n",
      "CPU times: user 12.9 s, sys: 8.2 s, total: 21.1 s\n",
      "Wall time: 21.4 s\n"
     ]
    }
   ],
   "source": [
    "%%time\n",
    "cv = train.loc[train['is_va']>0,['row_id','reference','item_id']].copy()\n",
    "cv['prob'] = yp.numpy()[:,1]\n",
    "cv = cv.sort_values(by=['row_id','prob'],ascending=False)\n",
    "print('here')\n",
    "# del train"
   ]
  },
  {
   "cell_type": "code",
   "execution_count": 58,
   "metadata": {},
   "outputs": [],
   "source": [
    "cv['row_id'] = cv['row_id'].astype('int32')\n",
    "cv['reference'] = cv['reference'].astype('int32')\n",
    "cv['item_id'] = cv['item_id'].astype('int32')"
   ]
  },
  {
   "cell_type": "code",
   "execution_count": 59,
   "metadata": {},
   "outputs": [
    {
     "name": "stdout",
     "output_type": "stream",
     "text": [
      "mean_reciprocal_rank 0.6312, AUC 0.9147\n",
      "CPU times: user 5.53 s, sys: 2.37 s, total: 7.9 s\n",
      "Wall time: 8.7 s\n"
     ]
    }
   ],
   "source": [
    "%%time\n",
    "auc = roc_auc_score(y_valid.numpy().ravel(),yp.numpy()[:,1])\n",
    "mean_reciprocal_rank = get_mean_reciprocal_rank(cv)\n",
    "print('mean_reciprocal_rank %.4f, AUC %.4f'%(mean_reciprocal_rank,auc))"
   ]
  },
  {
   "cell_type": "code",
   "execution_count": 64,
   "metadata": {},
   "outputs": [
    {
     "name": "stdout",
     "output_type": "stream",
     "text": [
      "CPU times: user 40.8 s, sys: 36 s, total: 1min 16s\n",
      "Wall time: 1min 28s\n"
     ]
    }
   ],
   "source": [
    "%%time\n",
    "yps,_ = learn.get_preds(DatasetType.Test)"
   ]
  },
  {
   "cell_type": "code",
   "execution_count": 65,
   "metadata": {},
   "outputs": [
    {
     "name": "stdout",
     "output_type": "stream",
     "text": [
      "CPU times: user 944 ms, sys: 1.54 s, total: 2.49 s\n",
      "Wall time: 2.49 s\n"
     ]
    }
   ],
   "source": [
    "%%time\n",
    "test['target'] = yps.numpy()[:,1]\n",
    "test = test['row_id,user_id,session_id,timestamp,step,item_id,target'.split(',')]\n",
    "test.head()"
   ]
  },
  {
   "cell_type": "code",
   "execution_count": 66,
   "metadata": {},
   "outputs": [
    {
     "name": "stdout",
     "output_type": "stream",
     "text": [
      "CPU times: user 4.55 s, sys: 1.22 s, total: 5.77 s\n",
      "Wall time: 5.77 s\n"
     ]
    }
   ],
   "source": [
    "%%time\n",
    "test = test.sort_values(by=['row_id','target'],ascending=False) # larger probs first"
   ]
  },
  {
   "cell_type": "code",
   "execution_count": 67,
   "metadata": {},
   "outputs": [
    {
     "data": {
      "text/html": [
       "<div>\n",
       "<style scoped>\n",
       "    .dataframe tbody tr th:only-of-type {\n",
       "        vertical-align: middle;\n",
       "    }\n",
       "\n",
       "    .dataframe tbody tr th {\n",
       "        vertical-align: top;\n",
       "    }\n",
       "\n",
       "    .dataframe thead th {\n",
       "        text-align: right;\n",
       "    }\n",
       "</style>\n",
       "<table border=\"1\" class=\"dataframe\">\n",
       "  <thead>\n",
       "    <tr style=\"text-align: right;\">\n",
       "      <th></th>\n",
       "      <th>row_id</th>\n",
       "      <th>user_id</th>\n",
       "      <th>session_id</th>\n",
       "      <th>timestamp</th>\n",
       "      <th>step</th>\n",
       "      <th>item_id</th>\n",
       "      <th>target</th>\n",
       "    </tr>\n",
       "  </thead>\n",
       "  <tbody>\n",
       "    <tr>\n",
       "      <th>48512154</th>\n",
       "      <td>2115364</td>\n",
       "      <td>ZZCM39YKI3NR</td>\n",
       "      <td>6226bde1465e7</td>\n",
       "      <td>1541601178</td>\n",
       "      <td>1</td>\n",
       "      <td>109974</td>\n",
       "      <td>0.205580</td>\n",
       "    </tr>\n",
       "    <tr>\n",
       "      <th>48512153</th>\n",
       "      <td>2115364</td>\n",
       "      <td>ZZCM39YKI3NR</td>\n",
       "      <td>6226bde1465e7</td>\n",
       "      <td>1541601178</td>\n",
       "      <td>1</td>\n",
       "      <td>46149</td>\n",
       "      <td>0.129749</td>\n",
       "    </tr>\n",
       "    <tr>\n",
       "      <th>48512162</th>\n",
       "      <td>2115364</td>\n",
       "      <td>ZZCM39YKI3NR</td>\n",
       "      <td>6226bde1465e7</td>\n",
       "      <td>1541601178</td>\n",
       "      <td>1</td>\n",
       "      <td>46144</td>\n",
       "      <td>0.075075</td>\n",
       "    </tr>\n",
       "    <tr>\n",
       "      <th>48512157</th>\n",
       "      <td>2115364</td>\n",
       "      <td>ZZCM39YKI3NR</td>\n",
       "      <td>6226bde1465e7</td>\n",
       "      <td>1541601178</td>\n",
       "      <td>1</td>\n",
       "      <td>12455</td>\n",
       "      <td>0.037099</td>\n",
       "    </tr>\n",
       "    <tr>\n",
       "      <th>48512163</th>\n",
       "      <td>2115364</td>\n",
       "      <td>ZZCM39YKI3NR</td>\n",
       "      <td>6226bde1465e7</td>\n",
       "      <td>1541601178</td>\n",
       "      <td>1</td>\n",
       "      <td>1345912</td>\n",
       "      <td>0.024199</td>\n",
       "    </tr>\n",
       "  </tbody>\n",
       "</table>\n",
       "</div>"
      ],
      "text/plain": [
       "           row_id       user_id     session_id   timestamp  step  item_id  \\\n",
       "48512154  2115364  ZZCM39YKI3NR  6226bde1465e7  1541601178     1   109974   \n",
       "48512153  2115364  ZZCM39YKI3NR  6226bde1465e7  1541601178     1    46149   \n",
       "48512162  2115364  ZZCM39YKI3NR  6226bde1465e7  1541601178     1    46144   \n",
       "48512157  2115364  ZZCM39YKI3NR  6226bde1465e7  1541601178     1    12455   \n",
       "48512163  2115364  ZZCM39YKI3NR  6226bde1465e7  1541601178     1  1345912   \n",
       "\n",
       "            target  \n",
       "48512154  0.205580  \n",
       "48512153  0.129749  \n",
       "48512162  0.075075  \n",
       "48512157  0.037099  \n",
       "48512163  0.024199  "
      ]
     },
     "execution_count": 67,
     "metadata": {},
     "output_type": "execute_result"
    }
   ],
   "source": [
    "test.head()"
   ]
  },
  {
   "cell_type": "code",
   "execution_count": 68,
   "metadata": {},
   "outputs": [
    {
     "name": "stdout",
     "output_type": "stream",
     "text": [
      "CPU times: user 22.8 s, sys: 1.41 s, total: 24.2 s\n",
      "Wall time: 24.2 s\n"
     ]
    }
   ],
   "source": [
    "%%time\n",
    "sub = test[['row_id','item_id']].copy()\n",
    "sub = sub.groupby('row_id')['item_id'].apply(lambda x: ' '.join([str(i) for i in x]))\n",
    "sub = sub.to_frame()\n",
    "sub.columns = ['new_item_recommendations']\n",
    "sub = sub.reset_index()\n",
    "\n",
    "test = test.drop_duplicates(subset=['row_id'])\n",
    "sub = test.merge(sub,on='row_id',how='left')\n",
    "sub = sub[['session_id','new_item_recommendations']]"
   ]
  },
  {
   "cell_type": "code",
   "execution_count": 69,
   "metadata": {},
   "outputs": [
    {
     "name": "stdout",
     "output_type": "stream",
     "text": [
      "CPU times: user 2.82 s, sys: 516 ms, total: 3.33 s\n",
      "Wall time: 3.42 s\n"
     ]
    }
   ],
   "source": [
    "%%time\n",
    "sample_sub = pd.read_csv('/datasets/trivago/data/submission_popular.csv')\n",
    "# sample_sub = pd.read_csv('../input/submission_popular.csv')\n",
    "assert sample_sub.shape[0] == sample_sub.session_id.unique().shape[0]\n",
    "sub = sample_sub.merge(sub,on='session_id',how='left')\n",
    "\n",
    "from datetime import datetime\n",
    "clock = \"{}\".format(datetime.now()).replace(' ','-').replace(':','-').split('.')[0]\n",
    "\n",
    "mask = sub.new_item_recommendations.isnull() == 0\n",
    "sub.loc[mask,'item_recommendations'] = sub.loc[mask,'new_item_recommendations']\n",
    "sub = sub.drop('new_item_recommendations',axis=1)\n",
    "out = 'fastai_%s_mrr_%.4f_auc_%.4f.csv'%(clock,mean_reciprocal_rank,auc)\n",
    "sub.to_csv(out,index=False)\n",
    "\n",
    "sub.head()"
   ]
  },
  {
   "cell_type": "code",
   "execution_count": null,
   "metadata": {},
   "outputs": [],
   "source": []
  }
 ],
 "metadata": {
  "kernelspec": {
   "display_name": "Python 3",
   "language": "python",
   "name": "python3"
  },
  "language_info": {
   "codemirror_mode": {
    "name": "ipython",
    "version": 3
   },
   "file_extension": ".py",
   "mimetype": "text/x-python",
   "name": "python",
   "nbconvert_exporter": "python",
   "pygments_lexer": "ipython3",
   "version": "3.7.3"
  }
 },
 "nbformat": 4,
 "nbformat_minor": 4
}
