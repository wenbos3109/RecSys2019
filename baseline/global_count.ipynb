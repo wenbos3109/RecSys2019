{
 "cells": [
  {
   "cell_type": "code",
   "execution_count": 1,
   "metadata": {},
   "outputs": [],
   "source": [
    "import os\n",
    "GPU_id = 6\n",
    "os.environ['CUDA_VISIBLE_DEVICES'] = str(GPU_id)"
   ]
  },
  {
   "cell_type": "code",
   "execution_count": 2,
   "metadata": {},
   "outputs": [],
   "source": [
    "import cudf as gd\n",
    "import pandas as pd\n",
    "import numpy as np\n",
    "import xgboost as xgb\n",
    "import os\n",
    "import time\n",
    "import nvstrings\n",
    "from librmm_cffi import librmm\n",
    "import matplotlib.pyplot as plt\n",
    "%matplotlib inline"
   ]
  },
  {
   "cell_type": "markdown",
   "metadata": {},
   "source": [
    "### Functions"
   ]
  },
  {
   "cell_type": "code",
   "execution_count": 3,
   "metadata": {},
   "outputs": [],
   "source": [
    "def on_gpu(words,func,arg=None,dtype=np.int32):\n",
    "    res = librmm.device_array(words.size(), dtype=dtype)\n",
    "    if arg is None:\n",
    "        cmd = 'words.%s(devptr=res.device_ctypes_pointer.value)'%(func)\n",
    "    else:\n",
    "        cmd = 'words.%s(arg,devptr=res.device_ctypes_pointer.value)'%(func)\n",
    "    eval(cmd)\n",
    "    return res\n",
    "\n",
    "def get_count(data,cols):\n",
    "    dg = data_interaction.groupby(cols+['item_id'],\n",
    "            as_index=False).agg({'step':['count']})\n",
    "    tag = '_'.join(cols)\n",
    "    dg.columns = cols + ['item_id', 'count_item_%s'%tag]\n",
    "\n",
    "    df = data_interaction.groupby(cols,\n",
    "            as_index=False).agg({'step':['count']})\n",
    "    df.columns = cols + ['count_item_%s_all'%tag]\n",
    "    \n",
    "    dg = dg.merge(df,on=cols,how='left')\n",
    "    dg['count_item_%s_norm'%tag] = dg['count_item_%s'%tag] / dg['count_item_%s_all'%tag]\n",
    "    dg.drop_column('count_item_%s_all'%tag)\n",
    "    del df\n",
    "    return dg"
   ]
  },
  {
   "cell_type": "markdown",
   "metadata": {},
   "source": [
    "### Read data"
   ]
  },
  {
   "cell_type": "code",
   "execution_count": 4,
   "metadata": {},
   "outputs": [
    {
     "data": {
      "text/plain": [
       "['item_metadata.csv',\n",
       " 'submission_popular.csv',\n",
       " 'test.csv',\n",
       " 'train.csv',\n",
       " 'text_classification_full.pkl',\n",
       " 'bin_itemmeta.csv']"
      ]
     },
     "execution_count": 4,
     "metadata": {},
     "output_type": "execute_result"
    }
   ],
   "source": [
    "path = '/datasets/trivago/data/'\n",
    "os.listdir(path)"
   ]
  },
  {
   "cell_type": "code",
   "execution_count": 5,
   "metadata": {},
   "outputs": [
    {
     "name": "stdout",
     "output_type": "stream",
     "text": [
      "CPU times: user 2.68 s, sys: 1.31 s, total: 3.99 s\n",
      "Wall time: 4.2 s\n"
     ]
    }
   ],
   "source": [
    "%%time\n",
    "train = gd.read_csv('%s/train.csv'%path)\n",
    "test = gd.read_csv('%s/test.csv'%path)\n",
    "data = gd.concat([train,test])"
   ]
  },
  {
   "cell_type": "markdown",
   "metadata": {},
   "source": [
    "### Get browsing history"
   ]
  },
  {
   "cell_type": "code",
   "execution_count": 6,
   "metadata": {},
   "outputs": [],
   "source": [
    "cols = ['user_id', 'session_id', 'step', 'action_type', 'reference']\n",
    "data = data[cols]\n",
    "cols = ['user_id', 'session_id', 'step', 'action_type', 'item_id']\n",
    "data.columns = cols"
   ]
  },
  {
   "cell_type": "code",
   "execution_count": 7,
   "metadata": {},
   "outputs": [
    {
     "name": "stdout",
     "output_type": "stream",
     "text": [
      "(19715327, 6) (15299599, 6)\n",
      "CPU times: user 824 ms, sys: 244 ms, total: 1.07 s\n",
      "Wall time: 1.13 s\n"
     ]
    }
   ],
   "source": [
    "%%time\n",
    "data['is_interaction'] = on_gpu(data['action_type'].data,'contains',\n",
    "                                          arg='interaction',dtype=np.bool)\n",
    "data_interaction = data[data['is_interaction']]\n",
    "data_interaction['item_id'] = data_interaction['item_id'].astype(int)\n",
    "print(data.shape,data_interaction.shape)\n",
    "del data"
   ]
  },
  {
   "cell_type": "code",
   "execution_count": 8,
   "metadata": {},
   "outputs": [
    {
     "data": {
      "text/html": [
       "<div>\n",
       "<style scoped>\n",
       "    .dataframe tbody tr th:only-of-type {\n",
       "        vertical-align: middle;\n",
       "    }\n",
       "\n",
       "    .dataframe tbody tr th {\n",
       "        vertical-align: top;\n",
       "    }\n",
       "\n",
       "    .dataframe thead th {\n",
       "        text-align: right;\n",
       "    }\n",
       "</style>\n",
       "<table border=\"1\" class=\"dataframe\">\n",
       "  <thead>\n",
       "    <tr style=\"text-align: right;\">\n",
       "      <th></th>\n",
       "      <th>user_id</th>\n",
       "      <th>session_id</th>\n",
       "      <th>step</th>\n",
       "      <th>action_type</th>\n",
       "      <th>item_id</th>\n",
       "      <th>is_interaction</th>\n",
       "    </tr>\n",
       "  </thead>\n",
       "  <tbody>\n",
       "    <tr>\n",
       "      <th>1</th>\n",
       "      <td>00RL8Z82B2Z1</td>\n",
       "      <td>aff3928535f48</td>\n",
       "      <td>2</td>\n",
       "      <td>interaction item image</td>\n",
       "      <td>666856</td>\n",
       "      <td>True</td>\n",
       "    </tr>\n",
       "    <tr>\n",
       "      <th>2</th>\n",
       "      <td>00RL8Z82B2Z1</td>\n",
       "      <td>aff3928535f48</td>\n",
       "      <td>3</td>\n",
       "      <td>interaction item image</td>\n",
       "      <td>666856</td>\n",
       "      <td>True</td>\n",
       "    </tr>\n",
       "    <tr>\n",
       "      <th>3</th>\n",
       "      <td>00RL8Z82B2Z1</td>\n",
       "      <td>aff3928535f48</td>\n",
       "      <td>4</td>\n",
       "      <td>interaction item image</td>\n",
       "      <td>666856</td>\n",
       "      <td>True</td>\n",
       "    </tr>\n",
       "    <tr>\n",
       "      <th>4</th>\n",
       "      <td>00RL8Z82B2Z1</td>\n",
       "      <td>aff3928535f48</td>\n",
       "      <td>5</td>\n",
       "      <td>interaction item image</td>\n",
       "      <td>109038</td>\n",
       "      <td>True</td>\n",
       "    </tr>\n",
       "    <tr>\n",
       "      <th>5</th>\n",
       "      <td>00RL8Z82B2Z1</td>\n",
       "      <td>aff3928535f48</td>\n",
       "      <td>6</td>\n",
       "      <td>interaction item image</td>\n",
       "      <td>666856</td>\n",
       "      <td>True</td>\n",
       "    </tr>\n",
       "  </tbody>\n",
       "</table>\n",
       "</div>"
      ],
      "text/plain": [
       "        user_id     session_id  step             action_type  item_id  \\\n",
       "1  00RL8Z82B2Z1  aff3928535f48     2  interaction item image   666856   \n",
       "2  00RL8Z82B2Z1  aff3928535f48     3  interaction item image   666856   \n",
       "3  00RL8Z82B2Z1  aff3928535f48     4  interaction item image   666856   \n",
       "4  00RL8Z82B2Z1  aff3928535f48     5  interaction item image   109038   \n",
       "5  00RL8Z82B2Z1  aff3928535f48     6  interaction item image   666856   \n",
       "\n",
       "   is_interaction  \n",
       "1            True  \n",
       "2            True  \n",
       "3            True  \n",
       "4            True  \n",
       "5            True  "
      ]
     },
     "execution_count": 8,
     "metadata": {},
     "output_type": "execute_result"
    }
   ],
   "source": [
    "data_interaction.head().to_pandas()"
   ]
  },
  {
   "cell_type": "code",
   "execution_count": 9,
   "metadata": {},
   "outputs": [
    {
     "name": "stdout",
     "output_type": "stream",
     "text": [
      "CPU times: user 1.08 s, sys: 744 ms, total: 1.82 s\n",
      "Wall time: 2.03 s\n"
     ]
    }
   ],
   "source": [
    "%%time\n",
    "dg_user_session = get_count(data_interaction,cols=['user_id','session_id'])\n",
    "dg_user = get_count(data_interaction,cols=['user_id'])"
   ]
  },
  {
   "cell_type": "code",
   "execution_count": 10,
   "metadata": {},
   "outputs": [
    {
     "data": {
      "text/html": [
       "<div>\n",
       "<style scoped>\n",
       "    .dataframe tbody tr th:only-of-type {\n",
       "        vertical-align: middle;\n",
       "    }\n",
       "\n",
       "    .dataframe tbody tr th {\n",
       "        vertical-align: top;\n",
       "    }\n",
       "\n",
       "    .dataframe thead th {\n",
       "        text-align: right;\n",
       "    }\n",
       "</style>\n",
       "<table border=\"1\" class=\"dataframe\">\n",
       "  <thead>\n",
       "    <tr style=\"text-align: right;\">\n",
       "      <th></th>\n",
       "      <th>user_id</th>\n",
       "      <th>session_id</th>\n",
       "      <th>item_id</th>\n",
       "      <th>count_item_user_id_session_id</th>\n",
       "      <th>count_item_user_id_session_id_norm</th>\n",
       "    </tr>\n",
       "  </thead>\n",
       "  <tbody>\n",
       "    <tr>\n",
       "      <th>0</th>\n",
       "      <td>LGRKYE43DWYO</td>\n",
       "      <td>6b7edaef011ec</td>\n",
       "      <td>79838</td>\n",
       "      <td>13</td>\n",
       "      <td>0.333333</td>\n",
       "    </tr>\n",
       "    <tr>\n",
       "      <th>1</th>\n",
       "      <td>9VDG6GGTEKXE</td>\n",
       "      <td>9a570eb5210f9</td>\n",
       "      <td>41190</td>\n",
       "      <td>19</td>\n",
       "      <td>0.147287</td>\n",
       "    </tr>\n",
       "    <tr>\n",
       "      <th>2</th>\n",
       "      <td>PMMFBC5VA4G7</td>\n",
       "      <td>715997ff66ada</td>\n",
       "      <td>10259246</td>\n",
       "      <td>29</td>\n",
       "      <td>0.276190</td>\n",
       "    </tr>\n",
       "    <tr>\n",
       "      <th>3</th>\n",
       "      <td>QYOZ1MOX7PB1</td>\n",
       "      <td>c8c35692197bb</td>\n",
       "      <td>1100322</td>\n",
       "      <td>2</td>\n",
       "      <td>0.040816</td>\n",
       "    </tr>\n",
       "    <tr>\n",
       "      <th>4</th>\n",
       "      <td>9R81UQ2QVJXN</td>\n",
       "      <td>12d1b27ddcb36</td>\n",
       "      <td>5967496</td>\n",
       "      <td>1</td>\n",
       "      <td>1.000000</td>\n",
       "    </tr>\n",
       "    <tr>\n",
       "      <th>5</th>\n",
       "      <td>6AOHTXSMLY3P</td>\n",
       "      <td>9640c7010f614</td>\n",
       "      <td>147888</td>\n",
       "      <td>19</td>\n",
       "      <td>0.159664</td>\n",
       "    </tr>\n",
       "    <tr>\n",
       "      <th>6</th>\n",
       "      <td>H0VYHQS69U4C</td>\n",
       "      <td>34c2b679d9d3c</td>\n",
       "      <td>5819070</td>\n",
       "      <td>48</td>\n",
       "      <td>0.352941</td>\n",
       "    </tr>\n",
       "    <tr>\n",
       "      <th>7</th>\n",
       "      <td>ZJRJ8RHCRA9E</td>\n",
       "      <td>6b8088b18d942</td>\n",
       "      <td>8275</td>\n",
       "      <td>1</td>\n",
       "      <td>1.000000</td>\n",
       "    </tr>\n",
       "    <tr>\n",
       "      <th>8</th>\n",
       "      <td>8517XTQGS8Q4</td>\n",
       "      <td>25ca8b94ac9ab</td>\n",
       "      <td>82492</td>\n",
       "      <td>1</td>\n",
       "      <td>1.000000</td>\n",
       "    </tr>\n",
       "    <tr>\n",
       "      <th>9</th>\n",
       "      <td>KL948I22H9GB</td>\n",
       "      <td>d5a46aaa1d747</td>\n",
       "      <td>2240588</td>\n",
       "      <td>15</td>\n",
       "      <td>0.033186</td>\n",
       "    </tr>\n",
       "  </tbody>\n",
       "</table>\n",
       "</div>"
      ],
      "text/plain": [
       "        user_id     session_id   item_id  count_item_user_id_session_id  \\\n",
       "0  LGRKYE43DWYO  6b7edaef011ec     79838                             13   \n",
       "1  9VDG6GGTEKXE  9a570eb5210f9     41190                             19   \n",
       "2  PMMFBC5VA4G7  715997ff66ada  10259246                             29   \n",
       "3  QYOZ1MOX7PB1  c8c35692197bb   1100322                              2   \n",
       "4  9R81UQ2QVJXN  12d1b27ddcb36   5967496                              1   \n",
       "5  6AOHTXSMLY3P  9640c7010f614    147888                             19   \n",
       "6  H0VYHQS69U4C  34c2b679d9d3c   5819070                             48   \n",
       "7  ZJRJ8RHCRA9E  6b8088b18d942      8275                              1   \n",
       "8  8517XTQGS8Q4  25ca8b94ac9ab     82492                              1   \n",
       "9  KL948I22H9GB  d5a46aaa1d747   2240588                             15   \n",
       "\n",
       "   count_item_user_id_session_id_norm  \n",
       "0                            0.333333  \n",
       "1                            0.147287  \n",
       "2                            0.276190  \n",
       "3                            0.040816  \n",
       "4                            1.000000  \n",
       "5                            0.159664  \n",
       "6                            0.352941  \n",
       "7                            1.000000  \n",
       "8                            1.000000  \n",
       "9                            0.033186  "
      ]
     },
     "execution_count": 10,
     "metadata": {},
     "output_type": "execute_result"
    }
   ],
   "source": [
    "dg_user_session.head(10).to_pandas()"
   ]
  },
  {
   "cell_type": "code",
   "execution_count": 11,
   "metadata": {},
   "outputs": [],
   "source": [
    "del data_interaction"
   ]
  },
  {
   "cell_type": "markdown",
   "metadata": {},
   "source": [
    "### Merge with clickout data"
   ]
  },
  {
   "cell_type": "code",
   "execution_count": 12,
   "metadata": {},
   "outputs": [
    {
     "name": "stdout",
     "output_type": "stream",
     "text": [
      "CPU times: user 10.7 s, sys: 7.36 s, total: 18.1 s\n",
      "Wall time: 18.1 s\n"
     ]
    }
   ],
   "source": [
    "%%time\n",
    "data_pair = pd.read_pickle('cache/data_pair_clickout_only.pkl')\n",
    "data_pair['all_row_id'] = np.arange(data_pair.shape[0])"
   ]
  },
  {
   "cell_type": "code",
   "execution_count": 13,
   "metadata": {},
   "outputs": [
    {
     "name": "stdout",
     "output_type": "stream",
     "text": [
      "CPU times: user 11.8 s, sys: 12.2 s, total: 24 s\n",
      "Wall time: 24 s\n"
     ]
    }
   ],
   "source": [
    "%%time\n",
    "cols = ['all_row_id','user_id','session_id','item_id','target','step']\n",
    "agg_all = gd.from_pandas(data_pair[cols])"
   ]
  },
  {
   "cell_type": "code",
   "execution_count": 14,
   "metadata": {},
   "outputs": [
    {
     "name": "stdout",
     "output_type": "stream",
     "text": [
      "(48518569, 10) (48518569, 20)\n",
      "CPU times: user 3.17 s, sys: 1.43 s, total: 4.6 s\n",
      "Wall time: 4.74 s\n"
     ]
    }
   ],
   "source": [
    "%%time\n",
    "agg_all = agg_all.merge(dg_user_session,on=['user_id','session_id','item_id'],how='left')\n",
    "agg_all = agg_all.merge(dg_user,on=['user_id','item_id'],how='left')\n",
    "print(agg_all.shape,data_pair.shape)\n",
    "agg_all = agg_all.sort_values(by='all_row_id')"
   ]
  },
  {
   "cell_type": "code",
   "execution_count": 15,
   "metadata": {},
   "outputs": [
    {
     "data": {
      "text/html": [
       "<div>\n",
       "<style scoped>\n",
       "    .dataframe tbody tr th:only-of-type {\n",
       "        vertical-align: middle;\n",
       "    }\n",
       "\n",
       "    .dataframe tbody tr th {\n",
       "        vertical-align: top;\n",
       "    }\n",
       "\n",
       "    .dataframe thead th {\n",
       "        text-align: right;\n",
       "    }\n",
       "</style>\n",
       "<table border=\"1\" class=\"dataframe\">\n",
       "  <thead>\n",
       "    <tr style=\"text-align: right;\">\n",
       "      <th></th>\n",
       "      <th>all_row_id</th>\n",
       "      <th>user_id</th>\n",
       "      <th>session_id</th>\n",
       "      <th>item_id</th>\n",
       "      <th>target</th>\n",
       "      <th>step</th>\n",
       "      <th>count_item_user_id_session_id</th>\n",
       "      <th>count_item_user_id_session_id_norm</th>\n",
       "      <th>count_item_user_id</th>\n",
       "      <th>count_item_user_id_norm</th>\n",
       "    </tr>\n",
       "  </thead>\n",
       "  <tbody>\n",
       "    <tr>\n",
       "      <th>46498</th>\n",
       "      <td>0</td>\n",
       "      <td>9Z8H0R5BPH3H</td>\n",
       "      <td>b0d46e23f4544</td>\n",
       "      <td>1812701</td>\n",
       "      <td>0</td>\n",
       "      <td>2</td>\n",
       "      <td>-1</td>\n",
       "      <td>NaN</td>\n",
       "      <td>-1</td>\n",
       "      <td>NaN</td>\n",
       "    </tr>\n",
       "    <tr>\n",
       "      <th>46499</th>\n",
       "      <td>1</td>\n",
       "      <td>9Z8H0R5BPH3H</td>\n",
       "      <td>b0d46e23f4544</td>\n",
       "      <td>5164712</td>\n",
       "      <td>0</td>\n",
       "      <td>2</td>\n",
       "      <td>-1</td>\n",
       "      <td>NaN</td>\n",
       "      <td>-1</td>\n",
       "      <td>NaN</td>\n",
       "    </tr>\n",
       "    <tr>\n",
       "      <th>46500</th>\n",
       "      <td>2</td>\n",
       "      <td>9Z8H0R5BPH3H</td>\n",
       "      <td>b0d46e23f4544</td>\n",
       "      <td>9791940</td>\n",
       "      <td>0</td>\n",
       "      <td>2</td>\n",
       "      <td>-1</td>\n",
       "      <td>NaN</td>\n",
       "      <td>-1</td>\n",
       "      <td>NaN</td>\n",
       "    </tr>\n",
       "    <tr>\n",
       "      <th>46501</th>\n",
       "      <td>3</td>\n",
       "      <td>9Z8H0R5BPH3H</td>\n",
       "      <td>b0d46e23f4544</td>\n",
       "      <td>80878</td>\n",
       "      <td>0</td>\n",
       "      <td>2</td>\n",
       "      <td>-1</td>\n",
       "      <td>NaN</td>\n",
       "      <td>-1</td>\n",
       "      <td>NaN</td>\n",
       "    </tr>\n",
       "    <tr>\n",
       "      <th>46502</th>\n",
       "      <td>4</td>\n",
       "      <td>9Z8H0R5BPH3H</td>\n",
       "      <td>b0d46e23f4544</td>\n",
       "      <td>1336778</td>\n",
       "      <td>0</td>\n",
       "      <td>2</td>\n",
       "      <td>-1</td>\n",
       "      <td>NaN</td>\n",
       "      <td>-1</td>\n",
       "      <td>NaN</td>\n",
       "    </tr>\n",
       "  </tbody>\n",
       "</table>\n",
       "</div>"
      ],
      "text/plain": [
       "       all_row_id       user_id     session_id  item_id  target  step  \\\n",
       "46498           0  9Z8H0R5BPH3H  b0d46e23f4544  1812701       0     2   \n",
       "46499           1  9Z8H0R5BPH3H  b0d46e23f4544  5164712       0     2   \n",
       "46500           2  9Z8H0R5BPH3H  b0d46e23f4544  9791940       0     2   \n",
       "46501           3  9Z8H0R5BPH3H  b0d46e23f4544    80878       0     2   \n",
       "46502           4  9Z8H0R5BPH3H  b0d46e23f4544  1336778       0     2   \n",
       "\n",
       "       count_item_user_id_session_id  count_item_user_id_session_id_norm  \\\n",
       "46498                             -1                                 NaN   \n",
       "46499                             -1                                 NaN   \n",
       "46500                             -1                                 NaN   \n",
       "46501                             -1                                 NaN   \n",
       "46502                             -1                                 NaN   \n",
       "\n",
       "       count_item_user_id  count_item_user_id_norm  \n",
       "46498                  -1                      NaN  \n",
       "46499                  -1                      NaN  \n",
       "46500                  -1                      NaN  \n",
       "46501                  -1                      NaN  \n",
       "46502                  -1                      NaN  "
      ]
     },
     "execution_count": 15,
     "metadata": {},
     "output_type": "execute_result"
    }
   ],
   "source": [
    "agg_all.head().to_pandas()"
   ]
  },
  {
   "cell_type": "code",
   "execution_count": 16,
   "metadata": {},
   "outputs": [],
   "source": [
    "agg_all.to_pandas().to_pickle('cache/global_count.pkl')"
   ]
  },
  {
   "cell_type": "code",
   "execution_count": 17,
   "metadata": {},
   "outputs": [],
   "source": [
    "dx = agg_all.to_pandas()"
   ]
  },
  {
   "cell_type": "markdown",
   "metadata": {},
   "source": [
    "#### higher mean means higher precision? higher sum means higher recall?"
   ]
  },
  {
   "cell_type": "code",
   "execution_count": 18,
   "metadata": {},
   "outputs": [
    {
     "name": "stdout",
     "output_type": "stream",
     "text": [
      "646418 0.25786004461365153\n"
     ]
    }
   ],
   "source": [
    "print(dx.loc[dx.count_item_user_id>0,'target'].sum(),dx.loc[dx.count_item_user_id>0,'target'].mean())"
   ]
  },
  {
   "cell_type": "code",
   "execution_count": 19,
   "metadata": {},
   "outputs": [
    {
     "name": "stdout",
     "output_type": "stream",
     "text": [
      "601990 0.2865609261498329\n"
     ]
    }
   ],
   "source": [
    "print(dx.loc[dx.count_item_user_id_session_id>0,'target'].sum(),dx.loc[dx.count_item_user_id_session_id>0,'target'].mean())"
   ]
  },
  {
   "cell_type": "code",
   "execution_count": null,
   "metadata": {},
   "outputs": [],
   "source": []
  }
 ],
 "metadata": {
  "kernelspec": {
   "display_name": "Python 3",
   "language": "python",
   "name": "python3"
  },
  "language_info": {
   "codemirror_mode": {
    "name": "ipython",
    "version": 3
   },
   "file_extension": ".py",
   "mimetype": "text/x-python",
   "name": "python",
   "nbconvert_exporter": "python",
   "pygments_lexer": "ipython3",
   "version": "3.6.8"
  }
 },
 "nbformat": 4,
 "nbformat_minor": 2
}
