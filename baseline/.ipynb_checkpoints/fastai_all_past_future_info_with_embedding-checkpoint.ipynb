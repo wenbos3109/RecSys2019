{
 "cells": [
  {
   "cell_type": "code",
   "execution_count": 1,
   "metadata": {},
   "outputs": [],
   "source": [
    "import pandas as pd\n",
    "import numpy as np\n",
    "import time\n",
    "import pickle\n",
    "import re \n",
    "import matplotlib.pyplot as plt\n",
    "import nvstrings\n",
    "import warnings\n",
    "import cudf as gd\n",
    "import torch\n",
    "import torch.nn\n",
    "\n",
    "from numba import cuda\n",
    "from sklearn.metrics import roc_auc_score\n",
    "from datetime import date\n",
    "from fastai.callbacks import *\n",
    "from fastai import *\n",
    "from fastai.tabular import *\n",
    "from fastai.text import *\n",
    "from fastai.metrics import accuracy\n",
    "from multiprocessing import Process\n",
    "from os import listdir\n",
    "from os.path import isfile, join\n",
    "warnings.filterwarnings(\"ignore\")\n",
    "%matplotlib inline"
   ]
  },
  {
   "cell_type": "code",
   "execution_count": 2,
   "metadata": {},
   "outputs": [],
   "source": [
    "import os\n",
    "GPU_id = 2\n",
    "os.environ['CUDA_VISIBLE_DEVICES'] = str(GPU_id)"
   ]
  },
  {
   "cell_type": "code",
   "execution_count": 3,
   "metadata": {},
   "outputs": [
    {
     "data": {
      "text/plain": [
       "0"
      ]
     },
     "execution_count": 3,
     "metadata": {},
     "output_type": "execute_result"
    }
   ],
   "source": [
    "torch.cuda.current_device()"
   ]
  },
  {
   "cell_type": "markdown",
   "metadata": {},
   "source": [
    "\n",
    "<h2> Functions </h2>"
   ]
  },
  {
   "cell_type": "code",
   "execution_count": 4,
   "metadata": {},
   "outputs": [],
   "source": [
    "#########################\n",
    "#                       #\n",
    "# Metrics and callbacks #\n",
    "#                       #\n",
    "#########################\n",
    "\n",
    "def write_pkl(obj, file_path=None):\n",
    "    if not file_path:\n",
    "        date_time = date.fromtimestamp(time.time()).strftime(\"%m_%d_%Y_%H-%M-%S\")\n",
    "        file_path=f'{date_time}.csv'\n",
    "    if os.path.exists(file_path):\n",
    "        os.remove(file_path)\n",
    "    max_bytes = 2**31 - 1\n",
    "    bytes_out = pickle.dumps(obj, protocol=4)\n",
    "    with open(file_path, 'wb') as f_out:\n",
    "        for idx in range(0, len(bytes_out), max_bytes):\n",
    "            f_out.write(bytes_out[idx:idx+max_bytes])\n",
    "\n",
    "\n",
    "def get_mean_reciprocal_rank(sub):\n",
    "    # sub is a pandas dataframe\n",
    "    # sub should have the following columns:\n",
    "    # 'row_id', 'prob', 'reference', 'item_id'\n",
    "    # sorted by prob in descending order for each group\n",
    "    sub = gd.from_pandas(sub)\n",
    "    \n",
    "    def get_order_in_group(prob,row_id,order):\n",
    "        for i in range(cuda.threadIdx.x, len(prob), cuda.blockDim.x):\n",
    "            order[i] = i\n",
    "\n",
    "    dg = sub.groupby('row_id',method=\"cudf\").apply_grouped(get_order_in_group,incols=['prob','row_id'],\n",
    "                                  outcols={'order': np.int32},\n",
    "                                  tpb=32)\n",
    "\n",
    "    dg = dg.to_pandas()\n",
    "    dg['order'] = 1.0/(1+dg['order'])\n",
    "    dg = dg[dg['reference']==dg['item_id']]\n",
    "    print(dg.isnull().values.any())\n",
    "    return dg['order'].mean()\n",
    "\n",
    "def auroc_score(input, target):\n",
    "    input, target = input.cpu().numpy()[:,1], target.cpu().numpy()\n",
    "    return roc_auc_score(target, input)\n",
    "\n",
    "# Callback to calculate AUC at the end of each epoch\n",
    "class AUROC(Callback):\n",
    "    _order = -20 #Needs to run before the recorder\n",
    "\n",
    "    def __init__(self, learn, **kwargs): self.learn = learn\n",
    "    def on_train_begin(self, **kwargs): self.learn.recorder.add_metric_names(['AUROC'])\n",
    "    def on_epoch_begin(self, **kwargs): self.output, self.target = [], []\n",
    "\n",
    "    def on_batch_end(self, last_target, last_output, train, **kwargs):\n",
    "        if not train:\n",
    "            self.output.append(last_output)\n",
    "            self.target.append(last_target)\n",
    "\n",
    "    def on_epoch_end(self, last_metrics, **kwargs):\n",
    "        if len(self.output) > 0:\n",
    "            output = torch.cat(self.output)\n",
    "            target = torch.cat(self.target)\n",
    "            preds = F.softmax(output, dim=1)\n",
    "            metric = auroc_score(preds, target)\n",
    "            return add_metrics(last_metrics, [metric])\n",
    "\n",
    "        \n",
    "def get_idx(x): \n",
    "    return 0 if pd.isnull(x) else id_to_index.get(str(x), 0)"
   ]
  },
  {
   "cell_type": "markdown",
   "metadata": {},
   "source": [
    "<h1> <center> Data Processing </center> </h1>"
   ]
  },
  {
   "cell_type": "code",
   "execution_count": 6,
   "metadata": {},
   "outputs": [],
   "source": [
    "with open('cache/id_to_index.pkl', 'rb') as handle:\n",
    "    id_to_index = pickle.load(handle)"
   ]
  },
  {
   "cell_type": "code",
   "execution_count": 7,
   "metadata": {},
   "outputs": [
    {
     "name": "stdout",
     "output_type": "stream",
     "text": [
      "CPU times: user 16 s, sys: 25.1 s, total: 41 s\n",
      "Wall time: 46 s\n"
     ]
    }
   ],
   "source": [
    "%%time\n",
    "#load tabular data \n",
    "data_pair = pd.read_pickle('cache/data_pair_all.pkl')\n",
    "data_pair = data_pair.drop(columns = [c for c in data_pair.columns if c.startswith('delta') or c.startswith('is')])"
   ]
  },
  {
   "cell_type": "code",
   "execution_count": 8,
   "metadata": {},
   "outputs": [
    {
     "name": "stdout",
     "output_type": "stream",
     "text": [
      "CPU times: user 11.8 s, sys: 560 ms, total: 12.4 s\n",
      "Wall time: 12.4 s\n"
     ]
    }
   ],
   "source": [
    "%%time\n",
    "data_context = pd.read_csv('cache/context_info.csv')\n",
    "data_context['past_clickout_item'] = data_context['past_clickout_item'].apply(get_idx)\n",
    "data_context['future_clickout_item'] = data_context['future_clickout_item'].apply(get_idx)"
   ]
  },
  {
   "cell_type": "code",
   "execution_count": 9,
   "metadata": {},
   "outputs": [
    {
     "data": {
      "text/html": [
       "<div>\n",
       "<style scoped>\n",
       "    .dataframe tbody tr th:only-of-type {\n",
       "        vertical-align: middle;\n",
       "    }\n",
       "\n",
       "    .dataframe tbody tr th {\n",
       "        vertical-align: top;\n",
       "    }\n",
       "\n",
       "    .dataframe thead th {\n",
       "        text-align: right;\n",
       "    }\n",
       "</style>\n",
       "<table border=\"1\" class=\"dataframe\">\n",
       "  <thead>\n",
       "    <tr style=\"text-align: right;\">\n",
       "      <th></th>\n",
       "      <th>past_clickout_available</th>\n",
       "      <th>past_clickout_item</th>\n",
       "      <th>past_clickout_step_diff</th>\n",
       "      <th>past_clickout_timestamp_diff</th>\n",
       "      <th>past_clickout_price</th>\n",
       "      <th>past_clickout_is_same</th>\n",
       "      <th>past_clickout_impression_valid</th>\n",
       "      <th>past_clickout_price_mean</th>\n",
       "      <th>past_clickout_price_std</th>\n",
       "      <th>cur_item_count_past</th>\n",
       "      <th>...</th>\n",
       "      <th>future_clickout_available</th>\n",
       "      <th>future_clickout_item</th>\n",
       "      <th>future_clickout_step_diff</th>\n",
       "      <th>future_clickout_timestamp_diff</th>\n",
       "      <th>future_clickout_price</th>\n",
       "      <th>future_clickout_is_same</th>\n",
       "      <th>future_clickout_impression_valid</th>\n",
       "      <th>future_clickout_price_mean</th>\n",
       "      <th>future_clickout_price_std</th>\n",
       "      <th>cur_item_count_future</th>\n",
       "    </tr>\n",
       "  </thead>\n",
       "  <tbody>\n",
       "    <tr>\n",
       "      <th>0</th>\n",
       "      <td>False</td>\n",
       "      <td>0</td>\n",
       "      <td>0</td>\n",
       "      <td>0</td>\n",
       "      <td>0</td>\n",
       "      <td>False</td>\n",
       "      <td>False</td>\n",
       "      <td>0.00</td>\n",
       "      <td>0.000000</td>\n",
       "      <td>7</td>\n",
       "      <td>...</td>\n",
       "      <td>True</td>\n",
       "      <td>151329</td>\n",
       "      <td>2</td>\n",
       "      <td>942</td>\n",
       "      <td>49</td>\n",
       "      <td>False</td>\n",
       "      <td>True</td>\n",
       "      <td>110.04</td>\n",
       "      <td>45.531071</td>\n",
       "      <td>0</td>\n",
       "    </tr>\n",
       "    <tr>\n",
       "      <th>1</th>\n",
       "      <td>True</td>\n",
       "      <td>56985</td>\n",
       "      <td>-2</td>\n",
       "      <td>-942</td>\n",
       "      <td>56</td>\n",
       "      <td>False</td>\n",
       "      <td>True</td>\n",
       "      <td>115.76</td>\n",
       "      <td>88.270620</td>\n",
       "      <td>0</td>\n",
       "      <td>...</td>\n",
       "      <td>False</td>\n",
       "      <td>0</td>\n",
       "      <td>0</td>\n",
       "      <td>0</td>\n",
       "      <td>0</td>\n",
       "      <td>False</td>\n",
       "      <td>False</td>\n",
       "      <td>0.00</td>\n",
       "      <td>0.000000</td>\n",
       "      <td>0</td>\n",
       "    </tr>\n",
       "    <tr>\n",
       "      <th>2</th>\n",
       "      <td>False</td>\n",
       "      <td>0</td>\n",
       "      <td>0</td>\n",
       "      <td>0</td>\n",
       "      <td>0</td>\n",
       "      <td>False</td>\n",
       "      <td>False</td>\n",
       "      <td>0.00</td>\n",
       "      <td>0.000000</td>\n",
       "      <td>34</td>\n",
       "      <td>...</td>\n",
       "      <td>False</td>\n",
       "      <td>0</td>\n",
       "      <td>0</td>\n",
       "      <td>0</td>\n",
       "      <td>0</td>\n",
       "      <td>False</td>\n",
       "      <td>False</td>\n",
       "      <td>0.00</td>\n",
       "      <td>0.000000</td>\n",
       "      <td>0</td>\n",
       "    </tr>\n",
       "    <tr>\n",
       "      <th>3</th>\n",
       "      <td>False</td>\n",
       "      <td>0</td>\n",
       "      <td>0</td>\n",
       "      <td>0</td>\n",
       "      <td>0</td>\n",
       "      <td>False</td>\n",
       "      <td>False</td>\n",
       "      <td>0.00</td>\n",
       "      <td>0.000000</td>\n",
       "      <td>2</td>\n",
       "      <td>...</td>\n",
       "      <td>True</td>\n",
       "      <td>127557</td>\n",
       "      <td>1</td>\n",
       "      <td>330</td>\n",
       "      <td>103</td>\n",
       "      <td>True</td>\n",
       "      <td>True</td>\n",
       "      <td>95.84</td>\n",
       "      <td>9.689912</td>\n",
       "      <td>1</td>\n",
       "    </tr>\n",
       "    <tr>\n",
       "      <th>4</th>\n",
       "      <td>True</td>\n",
       "      <td>127557</td>\n",
       "      <td>-1</td>\n",
       "      <td>-330</td>\n",
       "      <td>103</td>\n",
       "      <td>True</td>\n",
       "      <td>True</td>\n",
       "      <td>95.84</td>\n",
       "      <td>9.689912</td>\n",
       "      <td>3</td>\n",
       "      <td>...</td>\n",
       "      <td>False</td>\n",
       "      <td>0</td>\n",
       "      <td>0</td>\n",
       "      <td>0</td>\n",
       "      <td>0</td>\n",
       "      <td>False</td>\n",
       "      <td>False</td>\n",
       "      <td>0.00</td>\n",
       "      <td>0.000000</td>\n",
       "      <td>0</td>\n",
       "    </tr>\n",
       "  </tbody>\n",
       "</table>\n",
       "<p>5 rows × 21 columns</p>\n",
       "</div>"
      ],
      "text/plain": [
       "   past_clickout_available  past_clickout_item  past_clickout_step_diff  \\\n",
       "0                    False                   0                        0   \n",
       "1                     True               56985                       -2   \n",
       "2                    False                   0                        0   \n",
       "3                    False                   0                        0   \n",
       "4                     True              127557                       -1   \n",
       "\n",
       "   past_clickout_timestamp_diff  past_clickout_price  past_clickout_is_same  \\\n",
       "0                             0                    0                  False   \n",
       "1                          -942                   56                  False   \n",
       "2                             0                    0                  False   \n",
       "3                             0                    0                  False   \n",
       "4                          -330                  103                   True   \n",
       "\n",
       "   past_clickout_impression_valid  past_clickout_price_mean  \\\n",
       "0                           False                      0.00   \n",
       "1                            True                    115.76   \n",
       "2                           False                      0.00   \n",
       "3                           False                      0.00   \n",
       "4                            True                     95.84   \n",
       "\n",
       "   past_clickout_price_std  cur_item_count_past          ...            \\\n",
       "0                 0.000000                    7          ...             \n",
       "1                88.270620                    0          ...             \n",
       "2                 0.000000                   34          ...             \n",
       "3                 0.000000                    2          ...             \n",
       "4                 9.689912                    3          ...             \n",
       "\n",
       "   future_clickout_available  future_clickout_item  future_clickout_step_diff  \\\n",
       "0                       True                151329                          2   \n",
       "1                      False                     0                          0   \n",
       "2                      False                     0                          0   \n",
       "3                       True                127557                          1   \n",
       "4                      False                     0                          0   \n",
       "\n",
       "   future_clickout_timestamp_diff  future_clickout_price  \\\n",
       "0                             942                     49   \n",
       "1                               0                      0   \n",
       "2                               0                      0   \n",
       "3                             330                    103   \n",
       "4                               0                      0   \n",
       "\n",
       "   future_clickout_is_same  future_clickout_impression_valid  \\\n",
       "0                    False                              True   \n",
       "1                    False                             False   \n",
       "2                    False                             False   \n",
       "3                     True                              True   \n",
       "4                    False                             False   \n",
       "\n",
       "   future_clickout_price_mean  future_clickout_price_std  \\\n",
       "0                      110.04                  45.531071   \n",
       "1                        0.00                   0.000000   \n",
       "2                        0.00                   0.000000   \n",
       "3                       95.84                   9.689912   \n",
       "4                        0.00                   0.000000   \n",
       "\n",
       "   cur_item_count_future  \n",
       "0                      0  \n",
       "1                      0  \n",
       "2                      0  \n",
       "3                      1  \n",
       "4                      0  \n",
       "\n",
       "[5 rows x 21 columns]"
      ]
     },
     "execution_count": 9,
     "metadata": {},
     "output_type": "execute_result"
    }
   ],
   "source": [
    "data_context.head()"
   ]
  },
  {
   "cell_type": "code",
   "execution_count": 10,
   "metadata": {},
   "outputs": [
    {
     "name": "stdout",
     "output_type": "stream",
     "text": [
      "CPU times: user 29 s, sys: 31.2 s, total: 1min\n",
      "Wall time: 1min\n"
     ]
    }
   ],
   "source": [
    "%%time\n",
    "data_pair = data_pair.merge(data_context, on='row_id', how='left')"
   ]
  },
  {
   "cell_type": "code",
   "execution_count": 11,
   "metadata": {},
   "outputs": [],
   "source": [
    "data_pair['past_clickout_price_diff'] = data_pair['price'] - data_pair['past_clickout_price']\n",
    "data_pair['future_clickout_price_diff'] = data_pair['price'] - data_pair['future_clickout_price']"
   ]
  },
  {
   "cell_type": "code",
   "execution_count": 12,
   "metadata": {},
   "outputs": [
    {
     "name": "stdout",
     "output_type": "stream",
     "text": [
      "(42756036, 51) (5762533, 51)\n"
     ]
    }
   ],
   "source": [
    "# get the train and test dataset \n",
    "train = data_pair[data_pair.clickout_missing==0]\n",
    "test = data_pair[data_pair.clickout_missing>0]\n",
    "print(train.shape,test.shape)"
   ]
  },
  {
   "cell_type": "markdown",
   "metadata": {},
   "source": [
    "<h2> Tabular model </h2> "
   ]
  },
  {
   "cell_type": "markdown",
   "metadata": {},
   "source": [
    "<h3> Input Data </h3> "
   ]
  },
  {
   "cell_type": "code",
   "execution_count": 15,
   "metadata": {},
   "outputs": [
    {
     "name": "stdout",
     "output_type": "stream",
     "text": [
      "CPU times: user 3min 34s, sys: 3min 52s, total: 7min 26s\n",
      "Wall time: 6min 38s\n"
     ]
    }
   ],
   "source": [
    "%%time \n",
    "cat_names = ['user_id','item_id','platform','city','device','current_filters']\n",
    "cat_names +=['past_clickout_available', \n",
    "             'past_clickout_is_same', \n",
    "             'past_clickout_impression_valid', \n",
    "             'future_clickout_available',\n",
    "             'future_clickout_is_same', \n",
    "             'future_clickout_impression_valid']\n",
    "\n",
    "cont_names = ['price','candidate_order','item_count'] + [i for i in train.columns if i.startswith('count') or 'rank' in i or i.startswith('delta_')]\n",
    "cont_names += [ 'past_clickout_step_diff', \n",
    "                'past_clickout_timestamp_diff',\n",
    "                'past_clickout_price', \n",
    "                'past_clickout_price_mean',  \n",
    "                'past_clickout_price_std',\n",
    "                'past_clickout_price_diff',\n",
    "                'cur_item_count_past',\n",
    "                'future_clickout_step_diff', \n",
    "                'future_clickout_timestamp_diff',\n",
    "                'future_clickout_price',   \n",
    "                'future_clickout_price_mean', \n",
    "                'future_clickout_price_std',\n",
    "                'future_clickout_price_diff',\n",
    "                'cur_item_count_future']\n",
    "\n",
    "procs = [FillMissing,Categorify, Normalize]\n",
    "train['is_va'] = train.row_id%5 == 0\n",
    "\n",
    "test_list = TabularList.from_df(test, path='./', cat_names=cat_names, cont_names=cont_names)\n",
    "\n",
    "data_tab = (TabularList.from_df(train, path='./', cat_names=cat_names, cont_names=cont_names, procs=procs)\n",
    "                           .split_from_df('is_va')\n",
    "                           .label_from_df(cols='target')\n",
    "                           .add_test(test_list)\n",
    "                           .databunch(num_workers=10,bs=1024))"
   ]
  },
  {
   "cell_type": "code",
   "execution_count": 16,
   "metadata": {},
   "outputs": [
    {
     "name": "stdout",
     "output_type": "stream",
     "text": [
      "CPU times: user 30.3 s, sys: 1min 29s, total: 2min\n",
      "Wall time: 2min 45s\n"
     ]
    }
   ],
   "source": [
    "%%time \n",
    "write_pkl(data_tab)"
   ]
  },
  {
   "cell_type": "code",
   "execution_count": 17,
   "metadata": {},
   "outputs": [
    {
     "name": "stdout",
     "output_type": "stream",
     "text": [
      "CPU times: user 22.5 s, sys: 41.6 s, total: 1min 4s\n",
      "Wall time: 2min 8s\n"
     ]
    }
   ],
   "source": [
    "%%time \n",
    "data_pair.to_pickle('cache/data_pair_context.pkl')\n",
    "del data_pair"
   ]
  },
  {
   "cell_type": "code",
   "execution_count": 311,
   "metadata": {},
   "outputs": [
    {
     "name": "stdout",
     "output_type": "stream",
     "text": [
      "CPU times: user 3.04 s, sys: 44 ms, total: 3.08 s\n",
      "Wall time: 719 ms\n"
     ]
    }
   ],
   "source": [
    "%%time\n",
    "learn_tab = tabular_learner(data_tab, layers=[64], metrics=None, callback_fns=AUROC,#wd=0.2,\n",
    "        emb_szs = {'user_id': 16,'item_id':32,'platform':4,'city':8,'device':1,\n",
    "                   'current_filters':8})"
   ]
  },
  {
   "cell_type": "code",
   "execution_count": 20,
   "metadata": {},
   "outputs": [
    {
     "data": {
      "text/html": [],
      "text/plain": [
       "<IPython.core.display.HTML object>"
      ]
     },
     "metadata": {},
     "output_type": "display_data"
    },
    {
     "name": "stdout",
     "output_type": "stream",
     "text": [
      "LR Finder is complete, type {learner_name}.recorder.plot() to see the graph.\n"
     ]
    }
   ],
   "source": [
    "learn.lr_find()"
   ]
  },
  {
   "cell_type": "code",
   "execution_count": 23,
   "metadata": {},
   "outputs": [
    {
     "data": {
      "image/png": "[encoded data removed]",
      "text/plain": [
       "<Figure size 432x288 with 1 Axes>"
      ]
     },
     "metadata": {
      "needs_background": "light"
     },
     "output_type": "display_data"
    }
   ],
   "source": [
    "learn.recorder.plot()"
   ]
  },
  {
   "cell_type": "code",
   "execution_count": 40,
   "metadata": {},
   "outputs": [
    {
     "data": {
      "text/html": [
       "<table border=\"1\" class=\"dataframe\">\n",
       "  <thead>\n",
       "    <tr style=\"text-align: left;\">\n",
       "      <th>epoch</th>\n",
       "      <th>train_loss</th>\n",
       "      <th>valid_loss</th>\n",
       "      <th>AUROC</th>\n",
       "      <th>time</th>\n",
       "    </tr>\n",
       "  </thead>\n",
       "  <tbody>\n",
       "    <tr>\n",
       "      <td>0</td>\n",
       "      <td>0.103962</td>\n",
       "      <td>0.107174</td>\n",
       "      <td>0.909833</td>\n",
       "      <td>11:30</td>\n",
       "    </tr>\n",
       "    <tr>\n",
       "      <td>1</td>\n",
       "      <td>0.100819</td>\n",
       "      <td>0.108271</td>\n",
       "      <td>0.909144</td>\n",
       "      <td>11:53</td>\n",
       "    </tr>\n",
       "  </tbody>\n",
       "</table>"
      ],
      "text/plain": [
       "<IPython.core.display.HTML object>"
      ]
     },
     "metadata": {},
     "output_type": "display_data"
    },
    {
     "name": "stdout",
     "output_type": "stream",
     "text": [
      "Better model found at epoch 0 with AUROC value: 0.9098326042758308.\n"
     ]
    }
   ],
   "source": [
    "learn.fit_one_cycle(2, max_lr=slice(3e-3), callbacks=[SaveModelCallback(learn,\n",
    "        every='improvement', monitor='AUROC',name='tab_nn')])"
   ]
  },
  {
   "cell_type": "code",
   "execution_count": 312,
   "metadata": {},
   "outputs": [
    {
     "data": {
      "text/plain": [
       "TabularModel(\n",
       "  (embeds): ModuleList(\n",
       "    (0): Embedding(715920, 16)\n",
       "    (1): Embedding(851589, 32)\n",
       "    (2): Embedding(56, 4)\n",
       "    (3): Embedding(29504, 8)\n",
       "    (4): Embedding(4, 1)\n",
       "    (5): Embedding(23104, 8)\n",
       "    (6): Embedding(3, 3)\n",
       "    (7): Embedding(3, 3)\n",
       "    (8): Embedding(3, 3)\n",
       "    (9): Embedding(3, 3)\n",
       "    (10): Embedding(3, 3)\n",
       "    (11): Embedding(3, 3)\n",
       "    (12): Embedding(3, 3)\n",
       "    (13): Embedding(3, 3)\n",
       "  )\n",
       "  (emb_drop): Dropout(p=0.0)\n",
       "  (bn_cont): BatchNorm1d(29, eps=1e-05, momentum=0.1, affine=True, track_running_stats=True)\n",
       "  (layers): Sequential(\n",
       "    (0): Linear(in_features=122, out_features=64, bias=True)\n",
       "    (1): ReLU(inplace)\n",
       "    (2): BatchNorm1d(64, eps=1e-05, momentum=0.1, affine=True, track_running_stats=True)\n",
       "    (3): Linear(in_features=64, out_features=2, bias=True)\n",
       "  )\n",
       ")"
      ]
     },
     "execution_count": 312,
     "metadata": {},
     "output_type": "execute_result"
    }
   ],
   "source": [
    "learn_tab.model"
   ]
  },
  {
   "cell_type": "code",
   "execution_count": 313,
   "metadata": {},
   "outputs": [],
   "source": [
    "# we drop the output classification layer,\n",
    "learn_tab.model.layers = learn_tab.model.layers[:-3]"
   ]
  },
  {
   "cell_type": "code",
   "execution_count": 314,
   "metadata": {},
   "outputs": [
    {
     "data": {
      "text/plain": [
       "TabularModel(\n",
       "  (embeds): ModuleList(\n",
       "    (0): Embedding(715920, 16)\n",
       "    (1): Embedding(851589, 32)\n",
       "    (2): Embedding(56, 4)\n",
       "    (3): Embedding(29504, 8)\n",
       "    (4): Embedding(4, 1)\n",
       "    (5): Embedding(23104, 8)\n",
       "    (6): Embedding(3, 3)\n",
       "    (7): Embedding(3, 3)\n",
       "    (8): Embedding(3, 3)\n",
       "    (9): Embedding(3, 3)\n",
       "    (10): Embedding(3, 3)\n",
       "    (11): Embedding(3, 3)\n",
       "    (12): Embedding(3, 3)\n",
       "    (13): Embedding(3, 3)\n",
       "  )\n",
       "  (emb_drop): Dropout(p=0.0)\n",
       "  (bn_cont): BatchNorm1d(29, eps=1e-05, momentum=0.1, affine=True, track_running_stats=True)\n",
       "  (layers): Sequential(\n",
       "    (0): Linear(in_features=122, out_features=64, bias=True)\n",
       "  )\n",
       ")"
      ]
     },
     "execution_count": 314,
     "metadata": {},
     "output_type": "execute_result"
    }
   ],
   "source": [
    "learn_tab.model"
   ]
  },
  {
   "cell_type": "markdown",
   "metadata": {},
   "source": [
    "<h2> <left> Binary features from metadata</left> </h2>"
   ]
  },
  {
   "cell_type": "code",
   "execution_count": 142,
   "metadata": {},
   "outputs": [
    {
     "name": "stdout",
     "output_type": "stream",
     "text": [
      "CPU times: user 10.4 s, sys: 2.86 s, total: 13.3 s\n",
      "Wall time: 13.3 s\n"
     ]
    }
   ],
   "source": [
    "%%time\n",
    "bin_feature = pd.read_csv('bin_itemmeta.csv')\n",
    "bin_feature.rename(columns={'index': 'item_id'}, inplace=True)\n",
    "bin_feature.drop(columns=['Unnamed: 0', 'Unnamed: 2'], inplace=True)"
   ]
  },
  {
   "cell_type": "code",
   "execution_count": 143,
   "metadata": {},
   "outputs": [
    {
     "name": "stdout",
     "output_type": "stream",
     "text": [
      "CPU times: user 6.1 s, sys: 3.33 s, total: 9.43 s\n",
      "Wall time: 9.43 s\n"
     ]
    }
   ],
   "source": [
    "%%time\n",
    "item_embd_idx = 'item_embd_idx'\n",
    "\n",
    "bin_feature[item_embd_idx] = bin_feature['item_id'].apply(get_idx)\n",
    "bin_feature_cols = [c for c in bin_feature.columns if c != item_embd_idx and c != 'item_id']\n",
    "bin_feature = bin_feature[bin_feature[item_embd_idx] != 0]\n",
    "max_idx = max(id_to_index.values())\n",
    "bin_feature_matrix = np.random.rand(max_idx+1, bin_feature.shape[1]-2)\n",
    "bin_feature_matrix[bin_feature['item_embd_idx'], :] = bin_feature[bin_feature_cols].values"
   ]
  },
  {
   "cell_type": "code",
   "execution_count": 159,
   "metadata": {},
   "outputs": [
    {
     "data": {
      "text/plain": [
       "True"
      ]
     },
     "execution_count": 159,
     "metadata": {},
     "output_type": "execute_result"
    }
   ],
   "source": [
    "# test equivalency\n",
    "rand_row = random.choice(range(bin_feature.shape[0]))\n",
    "embed_orig = bin_feature.iloc[rand_row][bin_feature_cols].values\n",
    "idx = bin_feature.iloc[rand_row][item_embd_idx]\n",
    "embed_matrix = bin_feature_matrix[idx, :]\n",
    "print(\"embedding matrix matched: {}\".format(np.array_equal(embed_matrix, embed_orig))"
   ]
  },
  {
   "cell_type": "code",
   "execution_count": 160,
   "metadata": {},
   "outputs": [],
   "source": [
    "np.save('cache/bin_feature_matrix', bin_feature_matrix)\n",
    "bin_feature_matrix = torch.from_numpy(bin_feature_matrix).float().cuda()"
   ]
  },
  {
   "cell_type": "markdown",
   "metadata": {},
   "source": [
    "<h2> <left> Concate dataset </left> </h2>"
   ]
  },
  {
   "cell_type": "code",
   "execution_count": 178,
   "metadata": {},
   "outputs": [],
   "source": [
    "class DatasetPast(Dataset):\n",
    "    def __init__(self, data): \n",
    "        self.data = data\n",
    "    def __len__(self): \n",
    "        return len(self.data)\n",
    "    def __getitem__(self, i):\n",
    "        return self.data[i]"
   ]
  },
  {
   "cell_type": "code",
   "execution_count": 180,
   "metadata": {},
   "outputs": [
    {
     "name": "stdout",
     "output_type": "stream",
     "text": [
      "CPU times: user 8.61 s, sys: 8.04 s, total: 16.7 s\n",
      "Wall time: 16.6 s\n"
     ]
    }
   ],
   "source": [
    "%%time\n",
    "context_cols = ['past_clickout_item', 'future_clickout_item']\n",
    "train_past_future_click = train[train.is_va==0][context_cols].values\n",
    "valid_past_future_click = train[train.is_va==1][context_cols].values\n",
    "test_past_future_click = test[context_cols].values"
   ]
  },
  {
   "cell_type": "code",
   "execution_count": 181,
   "metadata": {},
   "outputs": [],
   "source": [
    "class ConcatDataset(Dataset):\n",
    "    def __init__(self, x_tab, x_pf_click, y):\n",
    "        self.x_tab = x_tab\n",
    "        self.x_pf_click = x_pf_click\n",
    "        self.y = [0] * len(x_pf_click) if not y else y\n",
    "    def __len__(self):\n",
    "        return len(self.y)\n",
    "    def __getitem__(self, i):\n",
    "        return (self.x_tab[i],  self.x_pf_click[i]), self.y[i]\n",
    "\n",
    "train_ds = ConcatDataset(data_tab.train_ds.x, train_past_future_click, data_tab.train_ds.y)\n",
    "valid_ds = ConcatDataset(data_tab.valid_ds.x, valid_past_future_click, data_tab.valid_ds.y)\n",
    "test_ds =  ConcatDataset(data_tab.test_ds.x, test_past_future_click, None)"
   ]
  },
  {
   "cell_type": "code",
   "execution_count": 182,
   "metadata": {},
   "outputs": [],
   "source": [
    "def my_collate(batch): \n",
    "    x, y = list(zip(*batch))\n",
    "    x_tab, x_pf_click = list(zip(*x))\n",
    "    x_cats, x_conts = zip(*[(t.cats, t.conts) for t in x_tab])\n",
    "    x_cats = torch.tensor(x_cats, dtype=torch.long)\n",
    "    x_conts = torch.tensor(x_conts, dtype=torch.float)\n",
    "    x_pf_click = torch.tensor(x_pf_click, dtype=torch.long)\n",
    "    y = torch.tensor([int(t) for t in y])\n",
    "    return ((x_cats, x_conts), x_pf_click), y"
   ]
  },
  {
   "cell_type": "code",
   "execution_count": 304,
   "metadata": {},
   "outputs": [],
   "source": [
    "bs = 1024\n",
    "train_dl = DataLoader(train_ds, bs, collate_fn=my_collate, shuffle=True)\n",
    "valid_dl = DataLoader(valid_ds, bs, collate_fn=my_collate, shuffle=True)\n",
    "test_dl = DataLoader(test_ds, bs, collate_fn=my_collate, shuffle=True)"
   ]
  },
  {
   "cell_type": "code",
   "execution_count": 286,
   "metadata": {},
   "outputs": [],
   "source": [
    "batch = train_dl.__iter__().__next__()"
   ]
  },
  {
   "cell_type": "code",
   "execution_count": 287,
   "metadata": {},
   "outputs": [
    {
     "data": {
      "text/plain": [
       "tensor([[     0,      0],\n",
       "        [     0,      0],\n",
       "        [     0,      0],\n",
       "        ...,\n",
       "        [812454,  22622],\n",
       "        [812454,  22622],\n",
       "        [812454,  22622]])"
      ]
     },
     "execution_count": 287,
     "metadata": {},
     "output_type": "execute_result"
    }
   ],
   "source": [
    "batch[0][1]"
   ]
  },
  {
   "cell_type": "code",
   "execution_count": 305,
   "metadata": {},
   "outputs": [],
   "source": [
    "data = DataBunch(train_dl=train_dl, valid_dl=valid_dl, test_dl=test_dl, device=defaults.device, \n",
    "                 collate_fn=my_collate, path=\"./\")"
   ]
  },
  {
   "cell_type": "code",
   "execution_count": 317,
   "metadata": {},
   "outputs": [],
   "source": [
    "import torch\n",
    "\n",
    "class WrapModel(nn.Module):\n",
    "    def __init__(self, mod_tab, layers, bin_feature_matrix, id_emb_matrix_idx, p=0.2):\n",
    "\n",
    "        super(WrapModel, self).__init__()\n",
    "        self.mod_tab = mod_tab\n",
    "        # this is the index of the id embedding in embeds.\n",
    "        self.bin_feature_matrix = bin_feature_matrix\n",
    "        self.id_embed = mod_tab.embeds[id_emb_matrix_idx]\n",
    "        self.cos = nn.CosineSimilarity(dim=1, eps=1e-6)\n",
    "        lst_layers = []\n",
    "        activs = [nn.ReLU(inplace=True), ] * (len(layers) - 2) + [None]\n",
    "        for i in range(len(layers) - 1):\n",
    "            lst_layers += bn_drop_lin(layers[i], layers[i + 1], p, actn=activs[i])\n",
    "        self.layers = nn.Sequential(*lst_layers)\n",
    "\n",
    "    def get_cosine_similarity(self, x1, x2):\n",
    "        out = self.cos(x1, x2).unsqueeze(1)\n",
    "        out = out.detach()\n",
    "        return out\n",
    "\n",
    "    def forward(self, *x):\n",
    "        # x[0] is tab, x[0][0] is cat, x[0][0][:, 1] is item_id\n",
    "        x_cur_id = x[0][0][:, 1]\n",
    "        x_tab = self.mod_tab(*x[0])\n",
    "        x_cur_bin = self.bin_feature_matrix[x_cur_id, :]\n",
    "        x_cur_emb = self.id_embed(x_cur_id)\n",
    "\n",
    "\n",
    "        x_past_id = x[1][:, 0]\n",
    "        x_past_bin = self.bin_feature_matrix[x_past_id, :]\n",
    "        x_past_emb = self.id_embed(x_past_id)\n",
    "\n",
    "        x_future_id = x[1][:, 1]\n",
    "        x_future_bin = self.bin_feature_matrix[x_future_id, :]\n",
    "        x_future_emb = self.id_embed(x_future_id)\n",
    "\n",
    "        x_past_cur_bin_sim = self.get_cosine_similarity(x_cur_bin, x_past_bin)\n",
    "        x_past_cur_emb_sim = self.get_cosine_similarity(x_cur_emb, x_past_emb)\n",
    "\n",
    "        x_future_cur_bin_sim = self.get_cosine_similarity(x_cur_bin, x_future_bin)\n",
    "        x_future_cur_emb_sim = self.get_cosine_similarity(x_cur_emb, x_future_emb)\n",
    "\n",
    "        x_past_future_bin_sim = self.get_cosine_similarity(x_past_bin, x_future_bin)\n",
    "        x_past_future_emb_sim = self.get_cosine_similarity(x_past_emb, x_future_emb)\n",
    "\n",
    "        x = torch.cat([x_tab, x_past_cur_bin_sim, x_past_cur_emb_sim, x_future_cur_bin_sim,\n",
    "                       x_future_cur_emb_sim, x_past_future_bin_sim, x_past_future_emb_sim], dim=1)\n",
    "\n",
    "        return self.layers(x)"
   ]
  },
  {
   "cell_type": "code",
   "execution_count": 318,
   "metadata": {},
   "outputs": [],
   "source": [
    "lin_layers = [64+6, 32, 16, 2]\n",
    "ps = [0.2]\n",
    "model = WrapModel(learn_tab.model, lin_layers, bin_feature_matrix, 1)\n",
    "learn = Learner(data, model, metrics=None, callback_fns=AUROC)"
   ]
  },
  {
   "cell_type": "code",
   "execution_count": 320,
   "metadata": {},
   "outputs": [
    {
     "data": {
      "text/html": [],
      "text/plain": [
       "<IPython.core.display.HTML object>"
      ]
     },
     "metadata": {},
     "output_type": "display_data"
    },
    {
     "name": "stdout",
     "output_type": "stream",
     "text": [
      "LR Finder is complete, type {learner_name}.recorder.plot() to see the graph.\n"
     ]
    }
   ],
   "source": [
    "learn.lr_find()"
   ]
  },
  {
   "cell_type": "code",
   "execution_count": 321,
   "metadata": {},
   "outputs": [
    {
     "data": {
      "image/png": "[encoded data removed]",
      "text/plain": [
       "<Figure size 432x288 with 1 Axes>"
      ]
     },
     "metadata": {
      "needs_background": "light"
     },
     "output_type": "display_data"
    }
   ],
   "source": [
    "learn.recorder.plot()"
   ]
  },
  {
   "cell_type": "code",
   "execution_count": 322,
   "metadata": {},
   "outputs": [
    {
     "data": {
      "text/html": [
       "<table border=\"1\" class=\"dataframe\">\n",
       "  <thead>\n",
       "    <tr style=\"text-align: left;\">\n",
       "      <th>epoch</th>\n",
       "      <th>train_loss</th>\n",
       "      <th>valid_loss</th>\n",
       "      <th>AUROC</th>\n",
       "      <th>time</th>\n",
       "    </tr>\n",
       "  </thead>\n",
       "  <tbody>\n",
       "    <tr>\n",
       "      <td>0</td>\n",
       "      <td>0.092256</td>\n",
       "      <td>0.094373</td>\n",
       "      <td>0.926578</td>\n",
       "      <td>1:03:43</td>\n",
       "    </tr>\n",
       "  </tbody>\n",
       "</table>"
      ],
      "text/plain": [
       "<IPython.core.display.HTML object>"
      ]
     },
     "metadata": {},
     "output_type": "display_data"
    }
   ],
   "source": [
    "learn.fit_one_cycle(1, slice(1e-2))"
   ]
  },
  {
   "cell_type": "code",
   "execution_count": 345,
   "metadata": {},
   "outputs": [
    {
     "data": {
      "image/png": "[encoded data removed]",
      "text/plain": [
       "<Figure size 432x288 with 1 Axes>"
      ]
     },
     "metadata": {
      "needs_background": "light"
     },
     "output_type": "display_data"
    }
   ],
   "source": [
    "learn.recorder.plot_losses()"
   ]
  },
  {
   "cell_type": "markdown",
   "metadata": {},
   "source": [
    "<h2> Performance </h2>"
   ]
  },
  {
   "cell_type": "markdown",
   "metadata": {},
   "source": [
    "### For convenience, load everything saved before"
   ]
  },
  {
   "cell_type": "code",
   "execution_count": null,
   "metadata": {},
   "outputs": [],
   "source": [
    "# load the databunch\n",
    "# data_bunch = pickle.load(open('06_28_2019_00-00-00.csv', 'rb'))\n",
    "# data_pair = pd.read_pickle('cache/data_pair_context.pkl')\n",
    "# learn = learn.load(\"trained_fastai_context_and_binary\")\n",
    "# train = data_pair[data_pair.clickout_missing==0]\n",
    "# test = data_pair[data_pair.clickout_missing>0]\n",
    "# train['is_va'] = train.row_id%5 == 0"
   ]
  },
  {
   "cell_type": "code",
   "execution_count": 323,
   "metadata": {},
   "outputs": [
    {
     "name": "stdout",
     "output_type": "stream",
     "text": [
      "CPU times: user 8min 44s, sys: 59.5 s, total: 9min 43s\n",
      "Wall time: 9min 13s\n"
     ]
    }
   ],
   "source": [
    "%%time\n",
    "yp, y_valid = learn.get_preds()"
   ]
  },
  {
   "cell_type": "code",
   "execution_count": 352,
   "metadata": {},
   "outputs": [
    {
     "data": {
      "text/plain": [
       "tensor([[9.9994e-01, 6.3966e-05],\n",
       "        [9.6959e-01, 3.0407e-02],\n",
       "        [9.9965e-01, 3.4517e-04],\n",
       "        [9.8834e-01, 1.1662e-02],\n",
       "        [9.9345e-01, 6.5507e-03],\n",
       "        [8.3846e-01, 1.6154e-01],\n",
       "        [9.9996e-01, 3.9233e-05],\n",
       "        [9.8879e-01, 1.1210e-02],\n",
       "        [9.9989e-01, 1.1220e-04],\n",
       "        [9.8201e-01, 1.7987e-02]])"
      ]
     },
     "execution_count": 352,
     "metadata": {},
     "output_type": "execute_result"
    }
   ],
   "source": [
    "yp[:10]"
   ]
  },
  {
   "cell_type": "code",
   "execution_count": 351,
   "metadata": {},
   "outputs": [
    {
     "data": {
      "text/plain": [
       "tensor([0, 0, 0,  ..., 0, 0, 0])"
      ]
     },
     "execution_count": 351,
     "metadata": {},
     "output_type": "execute_result"
    }
   ],
   "source": [
    "y_valid"
   ]
  },
  {
   "cell_type": "code",
   "execution_count": 358,
   "metadata": {},
   "outputs": [
    {
     "name": "stdout",
     "output_type": "stream",
     "text": [
      "CPU times: user 10.6 s, sys: 4.66 s, total: 15.2 s\n",
      "Wall time: 15.2 s\n"
     ]
    }
   ],
   "source": [
    "%%time\n",
    "cv = train.loc[train['row_id']%5 == 0,['row_id','reference','item_id', 'target']].copy()\n",
    "cv['prob'] = yp.numpy()[:,1]\n",
    "cv = cv.sort_values(by=['row_id','prob'],ascending=False)\n",
    "# del train"
   ]
  },
  {
   "cell_type": "code",
   "execution_count": 361,
   "metadata": {},
   "outputs": [
    {
     "data": {
      "text/html": [
       "<div>\n",
       "<style scoped>\n",
       "    .dataframe tbody tr th:only-of-type {\n",
       "        vertical-align: middle;\n",
       "    }\n",
       "\n",
       "    .dataframe tbody tr th {\n",
       "        vertical-align: top;\n",
       "    }\n",
       "\n",
       "    .dataframe thead th {\n",
       "        text-align: right;\n",
       "    }\n",
       "</style>\n",
       "<table border=\"1\" class=\"dataframe\">\n",
       "  <thead>\n",
       "    <tr style=\"text-align: right;\">\n",
       "      <th></th>\n",
       "      <th>row_id</th>\n",
       "      <th>reference</th>\n",
       "      <th>item_id</th>\n",
       "      <th>target</th>\n",
       "      <th>prob</th>\n",
       "      <th>rank</th>\n",
       "    </tr>\n",
       "  </thead>\n",
       "  <tbody>\n",
       "    <tr>\n",
       "      <th>48509521</th>\n",
       "      <td>2115355</td>\n",
       "      <td>916029</td>\n",
       "      <td>745041</td>\n",
       "      <td>0</td>\n",
       "      <td>0.984708</td>\n",
       "      <td>1.0</td>\n",
       "    </tr>\n",
       "    <tr>\n",
       "      <th>48509522</th>\n",
       "      <td>2115355</td>\n",
       "      <td>916029</td>\n",
       "      <td>2022139</td>\n",
       "      <td>0</td>\n",
       "      <td>0.157816</td>\n",
       "      <td>2.0</td>\n",
       "    </tr>\n",
       "    <tr>\n",
       "      <th>48509538</th>\n",
       "      <td>2115355</td>\n",
       "      <td>916029</td>\n",
       "      <td>1668443</td>\n",
       "      <td>0</td>\n",
       "      <td>0.103628</td>\n",
       "      <td>3.0</td>\n",
       "    </tr>\n",
       "    <tr>\n",
       "      <th>48509525</th>\n",
       "      <td>2115355</td>\n",
       "      <td>916029</td>\n",
       "      <td>1540073</td>\n",
       "      <td>0</td>\n",
       "      <td>0.094974</td>\n",
       "      <td>4.0</td>\n",
       "    </tr>\n",
       "    <tr>\n",
       "      <th>48509518</th>\n",
       "      <td>2115355</td>\n",
       "      <td>916029</td>\n",
       "      <td>503361</td>\n",
       "      <td>0</td>\n",
       "      <td>0.075471</td>\n",
       "      <td>5.0</td>\n",
       "    </tr>\n",
       "    <tr>\n",
       "      <th>48509536</th>\n",
       "      <td>2115355</td>\n",
       "      <td>916029</td>\n",
       "      <td>1178124</td>\n",
       "      <td>0</td>\n",
       "      <td>0.031860</td>\n",
       "      <td>6.0</td>\n",
       "    </tr>\n",
       "    <tr>\n",
       "      <th>48509531</th>\n",
       "      <td>2115355</td>\n",
       "      <td>916029</td>\n",
       "      <td>2367397</td>\n",
       "      <td>0</td>\n",
       "      <td>0.031002</td>\n",
       "      <td>7.0</td>\n",
       "    </tr>\n",
       "    <tr>\n",
       "      <th>48509539</th>\n",
       "      <td>2115355</td>\n",
       "      <td>916029</td>\n",
       "      <td>1499027</td>\n",
       "      <td>0</td>\n",
       "      <td>0.028918</td>\n",
       "      <td>8.0</td>\n",
       "    </tr>\n",
       "    <tr>\n",
       "      <th>48509516</th>\n",
       "      <td>2115355</td>\n",
       "      <td>916029</td>\n",
       "      <td>1650015</td>\n",
       "      <td>0</td>\n",
       "      <td>0.025712</td>\n",
       "      <td>9.0</td>\n",
       "    </tr>\n",
       "    <tr>\n",
       "      <th>48509523</th>\n",
       "      <td>2115355</td>\n",
       "      <td>916029</td>\n",
       "      <td>3837120</td>\n",
       "      <td>0</td>\n",
       "      <td>0.021980</td>\n",
       "      <td>10.0</td>\n",
       "    </tr>\n",
       "    <tr>\n",
       "      <th>48509532</th>\n",
       "      <td>2115355</td>\n",
       "      <td>916029</td>\n",
       "      <td>479286</td>\n",
       "      <td>0</td>\n",
       "      <td>0.015499</td>\n",
       "      <td>11.0</td>\n",
       "    </tr>\n",
       "    <tr>\n",
       "      <th>48509533</th>\n",
       "      <td>2115355</td>\n",
       "      <td>916029</td>\n",
       "      <td>1658051</td>\n",
       "      <td>0</td>\n",
       "      <td>0.012969</td>\n",
       "      <td>12.0</td>\n",
       "    </tr>\n",
       "    <tr>\n",
       "      <th>48509528</th>\n",
       "      <td>2115355</td>\n",
       "      <td>916029</td>\n",
       "      <td>5059294</td>\n",
       "      <td>0</td>\n",
       "      <td>0.010609</td>\n",
       "      <td>13.0</td>\n",
       "    </tr>\n",
       "    <tr>\n",
       "      <th>48509530</th>\n",
       "      <td>2115355</td>\n",
       "      <td>916029</td>\n",
       "      <td>2247398</td>\n",
       "      <td>0</td>\n",
       "      <td>0.007245</td>\n",
       "      <td>14.0</td>\n",
       "    </tr>\n",
       "    <tr>\n",
       "      <th>48509517</th>\n",
       "      <td>2115355</td>\n",
       "      <td>916029</td>\n",
       "      <td>1326068</td>\n",
       "      <td>0</td>\n",
       "      <td>0.005791</td>\n",
       "      <td>15.0</td>\n",
       "    </tr>\n",
       "    <tr>\n",
       "      <th>48509520</th>\n",
       "      <td>2115355</td>\n",
       "      <td>916029</td>\n",
       "      <td>981989</td>\n",
       "      <td>0</td>\n",
       "      <td>0.003484</td>\n",
       "      <td>16.0</td>\n",
       "    </tr>\n",
       "    <tr>\n",
       "      <th>48509519</th>\n",
       "      <td>2115355</td>\n",
       "      <td>916029</td>\n",
       "      <td>478656</td>\n",
       "      <td>0</td>\n",
       "      <td>0.003448</td>\n",
       "      <td>17.0</td>\n",
       "    </tr>\n",
       "    <tr>\n",
       "      <th>48509527</th>\n",
       "      <td>2115355</td>\n",
       "      <td>916029</td>\n",
       "      <td>2505094</td>\n",
       "      <td>0</td>\n",
       "      <td>0.001374</td>\n",
       "      <td>18.0</td>\n",
       "    </tr>\n",
       "    <tr>\n",
       "      <th>48509535</th>\n",
       "      <td>2115355</td>\n",
       "      <td>916029</td>\n",
       "      <td>2813186</td>\n",
       "      <td>0</td>\n",
       "      <td>0.000385</td>\n",
       "      <td>19.0</td>\n",
       "    </tr>\n",
       "    <tr>\n",
       "      <th>48509537</th>\n",
       "      <td>2115355</td>\n",
       "      <td>916029</td>\n",
       "      <td>2643962</td>\n",
       "      <td>0</td>\n",
       "      <td>0.000290</td>\n",
       "      <td>20.0</td>\n",
       "    </tr>\n",
       "    <tr>\n",
       "      <th>48509534</th>\n",
       "      <td>2115355</td>\n",
       "      <td>916029</td>\n",
       "      <td>4133050</td>\n",
       "      <td>0</td>\n",
       "      <td>0.000086</td>\n",
       "      <td>21.0</td>\n",
       "    </tr>\n",
       "    <tr>\n",
       "      <th>48509526</th>\n",
       "      <td>2115355</td>\n",
       "      <td>916029</td>\n",
       "      <td>1883005</td>\n",
       "      <td>0</td>\n",
       "      <td>0.000054</td>\n",
       "      <td>22.0</td>\n",
       "    </tr>\n",
       "    <tr>\n",
       "      <th>48509529</th>\n",
       "      <td>2115355</td>\n",
       "      <td>916029</td>\n",
       "      <td>1668373</td>\n",
       "      <td>0</td>\n",
       "      <td>0.000006</td>\n",
       "      <td>23.0</td>\n",
       "    </tr>\n",
       "    <tr>\n",
       "      <th>48509524</th>\n",
       "      <td>2115355</td>\n",
       "      <td>916029</td>\n",
       "      <td>1538537</td>\n",
       "      <td>0</td>\n",
       "      <td>0.000005</td>\n",
       "      <td>24.0</td>\n",
       "    </tr>\n",
       "    <tr>\n",
       "      <th>48509515</th>\n",
       "      <td>2115355</td>\n",
       "      <td>916029</td>\n",
       "      <td>916029</td>\n",
       "      <td>1</td>\n",
       "      <td>0.000003</td>\n",
       "      <td>25.0</td>\n",
       "    </tr>\n",
       "    <tr>\n",
       "      <th>48515943</th>\n",
       "      <td>2115330</td>\n",
       "      <td>486686</td>\n",
       "      <td>2287986</td>\n",
       "      <td>0</td>\n",
       "      <td>0.184642</td>\n",
       "      <td>1.0</td>\n",
       "    </tr>\n",
       "    <tr>\n",
       "      <th>48515935</th>\n",
       "      <td>2115330</td>\n",
       "      <td>486686</td>\n",
       "      <td>905137</td>\n",
       "      <td>0</td>\n",
       "      <td>0.096369</td>\n",
       "      <td>2.0</td>\n",
       "    </tr>\n",
       "    <tr>\n",
       "      <th>48515929</th>\n",
       "      <td>2115330</td>\n",
       "      <td>486686</td>\n",
       "      <td>97628</td>\n",
       "      <td>0</td>\n",
       "      <td>0.067817</td>\n",
       "      <td>3.0</td>\n",
       "    </tr>\n",
       "    <tr>\n",
       "      <th>48517805</th>\n",
       "      <td>2115330</td>\n",
       "      <td>486686</td>\n",
       "      <td>95765</td>\n",
       "      <td>0</td>\n",
       "      <td>0.055241</td>\n",
       "      <td>4.0</td>\n",
       "    </tr>\n",
       "    <tr>\n",
       "      <th>48515928</th>\n",
       "      <td>2115330</td>\n",
       "      <td>486686</td>\n",
       "      <td>863116</td>\n",
       "      <td>0</td>\n",
       "      <td>0.046166</td>\n",
       "      <td>5.0</td>\n",
       "    </tr>\n",
       "    <tr>\n",
       "      <th>48515927</th>\n",
       "      <td>2115330</td>\n",
       "      <td>486686</td>\n",
       "      <td>96162</td>\n",
       "      <td>0</td>\n",
       "      <td>0.041840</td>\n",
       "      <td>6.0</td>\n",
       "    </tr>\n",
       "    <tr>\n",
       "      <th>48517801</th>\n",
       "      <td>2115330</td>\n",
       "      <td>486686</td>\n",
       "      <td>96937</td>\n",
       "      <td>0</td>\n",
       "      <td>0.037675</td>\n",
       "      <td>7.0</td>\n",
       "    </tr>\n",
       "    <tr>\n",
       "      <th>48515940</th>\n",
       "      <td>2115330</td>\n",
       "      <td>486686</td>\n",
       "      <td>2027715</td>\n",
       "      <td>0</td>\n",
       "      <td>0.033263</td>\n",
       "      <td>8.0</td>\n",
       "    </tr>\n",
       "    <tr>\n",
       "      <th>48515942</th>\n",
       "      <td>2115330</td>\n",
       "      <td>486686</td>\n",
       "      <td>132163</td>\n",
       "      <td>0</td>\n",
       "      <td>0.030114</td>\n",
       "      <td>9.0</td>\n",
       "    </tr>\n",
       "    <tr>\n",
       "      <th>48515931</th>\n",
       "      <td>2115330</td>\n",
       "      <td>486686</td>\n",
       "      <td>486686</td>\n",
       "      <td>1</td>\n",
       "      <td>0.025451</td>\n",
       "      <td>10.0</td>\n",
       "    </tr>\n",
       "  </tbody>\n",
       "</table>\n",
       "</div>"
      ],
      "text/plain": [
       "           row_id  reference  item_id  target      prob  rank\n",
       "48509521  2115355     916029   745041       0  0.984708   1.0\n",
       "48509522  2115355     916029  2022139       0  0.157816   2.0\n",
       "48509538  2115355     916029  1668443       0  0.103628   3.0\n",
       "48509525  2115355     916029  1540073       0  0.094974   4.0\n",
       "48509518  2115355     916029   503361       0  0.075471   5.0\n",
       "48509536  2115355     916029  1178124       0  0.031860   6.0\n",
       "48509531  2115355     916029  2367397       0  0.031002   7.0\n",
       "48509539  2115355     916029  1499027       0  0.028918   8.0\n",
       "48509516  2115355     916029  1650015       0  0.025712   9.0\n",
       "48509523  2115355     916029  3837120       0  0.021980  10.0\n",
       "48509532  2115355     916029   479286       0  0.015499  11.0\n",
       "48509533  2115355     916029  1658051       0  0.012969  12.0\n",
       "48509528  2115355     916029  5059294       0  0.010609  13.0\n",
       "48509530  2115355     916029  2247398       0  0.007245  14.0\n",
       "48509517  2115355     916029  1326068       0  0.005791  15.0\n",
       "48509520  2115355     916029   981989       0  0.003484  16.0\n",
       "48509519  2115355     916029   478656       0  0.003448  17.0\n",
       "48509527  2115355     916029  2505094       0  0.001374  18.0\n",
       "48509535  2115355     916029  2813186       0  0.000385  19.0\n",
       "48509537  2115355     916029  2643962       0  0.000290  20.0\n",
       "48509534  2115355     916029  4133050       0  0.000086  21.0\n",
       "48509526  2115355     916029  1883005       0  0.000054  22.0\n",
       "48509529  2115355     916029  1668373       0  0.000006  23.0\n",
       "48509524  2115355     916029  1538537       0  0.000005  24.0\n",
       "48509515  2115355     916029   916029       1  0.000003  25.0\n",
       "48515943  2115330     486686  2287986       0  0.184642   1.0\n",
       "48515935  2115330     486686   905137       0  0.096369   2.0\n",
       "48515929  2115330     486686    97628       0  0.067817   3.0\n",
       "48517805  2115330     486686    95765       0  0.055241   4.0\n",
       "48515928  2115330     486686   863116       0  0.046166   5.0\n",
       "48515927  2115330     486686    96162       0  0.041840   6.0\n",
       "48517801  2115330     486686    96937       0  0.037675   7.0\n",
       "48515940  2115330     486686  2027715       0  0.033263   8.0\n",
       "48515942  2115330     486686   132163       0  0.030114   9.0\n",
       "48515931  2115330     486686   486686       1  0.025451  10.0"
      ]
     },
     "execution_count": 361,
     "metadata": {},
     "output_type": "execute_result"
    }
   ],
   "source": [
    "cv.head(35)"
   ]
  },
  {
   "cell_type": "code",
   "execution_count": 360,
   "metadata": {},
   "outputs": [
    {
     "data": {
      "text/plain": [
       "<matplotlib.axes._subplots.AxesSubplot at 0x7f6670996e80>"
      ]
     },
     "execution_count": 360,
     "metadata": {},
     "output_type": "execute_result"
    },
    {
     "data": {
      "image/png": "[encoded data removed]",
      "text/plain": [
       "<Figure size 432x288 with 1 Axes>"
      ]
     },
     "metadata": {
      "needs_background": "light"
     },
     "output_type": "display_data"
    }
   ],
   "source": [
    "cv['rank']=cv.groupby('row_id')['prob'].rank(ascending=False) \n",
    "target_rank = cv[cv['target']==1]['rank']\n",
    "target_rank.hist(bins=25)"
   ]
  },
  {
   "cell_type": "code",
   "execution_count": 343,
   "metadata": {},
   "outputs": [
    {
     "name": "stdout",
     "output_type": "stream",
     "text": [
      "mean_reciprocal_rank 0.1726, AUC 0.9266\n",
      "CPU times: user 2.89 s, sys: 188 ms, total: 3.08 s\n",
      "Wall time: 3.07 s\n"
     ]
    }
   ],
   "source": [
    "%%time\n",
    "auc = roc_auc_score(y_valid.numpy().ravel(),yp.numpy()[:,1])\n",
    "mean_reciprocal_rank = (1/target_rank).mean() # get_mean_reciprocal_rank(cv)\n",
    "print('mean_reciprocal_rank %.4f, AUC %.4f'%(mean_reciprocal_rank,auc))"
   ]
  },
  {
   "cell_type": "code",
   "execution_count": 331,
   "metadata": {},
   "outputs": [
    {
     "name": "stdout",
     "output_type": "stream",
     "text": [
      "CPU times: user 4min 45s, sys: 32.5 s, total: 5min 18s\n",
      "Wall time: 5min 1s\n"
     ]
    }
   ],
   "source": [
    "%%time\n",
    "yps,_ = learn.get_preds(DatasetType.Test)"
   ]
  },
  {
   "cell_type": "code",
   "execution_count": 332,
   "metadata": {},
   "outputs": [
    {
     "name": "stdout",
     "output_type": "stream",
     "text": [
      "CPU times: user 868 ms, sys: 832 ms, total: 1.7 s\n",
      "Wall time: 1.7 s\n"
     ]
    }
   ],
   "source": [
    "%%time\n",
    "test['target'] = yps.numpy()[:,1]\n",
    "test = test['row_id,user_id,session_id,timestamp,step,item_id,target'.split(',')]\n",
    "test.head()"
   ]
  },
  {
   "cell_type": "code",
   "execution_count": 333,
   "metadata": {},
   "outputs": [
    {
     "name": "stdout",
     "output_type": "stream",
     "text": [
      "CPU times: user 4.41 s, sys: 484 ms, total: 4.9 s\n",
      "Wall time: 4.89 s\n"
     ]
    }
   ],
   "source": [
    "%%time\n",
    "test = test.sort_values(by=['row_id','target'],ascending=False) # larger probs first"
   ]
  },
  {
   "cell_type": "code",
   "execution_count": 334,
   "metadata": {},
   "outputs": [
    {
     "data": {
      "text/html": [
       "<div>\n",
       "<style scoped>\n",
       "    .dataframe tbody tr th:only-of-type {\n",
       "        vertical-align: middle;\n",
       "    }\n",
       "\n",
       "    .dataframe tbody tr th {\n",
       "        vertical-align: top;\n",
       "    }\n",
       "\n",
       "    .dataframe thead th {\n",
       "        text-align: right;\n",
       "    }\n",
       "</style>\n",
       "<table border=\"1\" class=\"dataframe\">\n",
       "  <thead>\n",
       "    <tr style=\"text-align: right;\">\n",
       "      <th></th>\n",
       "      <th>row_id</th>\n",
       "      <th>user_id</th>\n",
       "      <th>session_id</th>\n",
       "      <th>timestamp</th>\n",
       "      <th>step</th>\n",
       "      <th>item_id</th>\n",
       "      <th>target</th>\n",
       "    </tr>\n",
       "  </thead>\n",
       "  <tbody>\n",
       "    <tr>\n",
       "      <th>48512162</th>\n",
       "      <td>2115364</td>\n",
       "      <td>ZZCM39YKI3NR</td>\n",
       "      <td>6226bde1465e7</td>\n",
       "      <td>1541601178</td>\n",
       "      <td>1</td>\n",
       "      <td>46144</td>\n",
       "      <td>0.527692</td>\n",
       "    </tr>\n",
       "    <tr>\n",
       "      <th>48507652</th>\n",
       "      <td>2115364</td>\n",
       "      <td>ZZCM39YKI3NR</td>\n",
       "      <td>6226bde1465e7</td>\n",
       "      <td>1541601178</td>\n",
       "      <td>1</td>\n",
       "      <td>895195</td>\n",
       "      <td>0.080294</td>\n",
       "    </tr>\n",
       "    <tr>\n",
       "      <th>48512153</th>\n",
       "      <td>2115364</td>\n",
       "      <td>ZZCM39YKI3NR</td>\n",
       "      <td>6226bde1465e7</td>\n",
       "      <td>1541601178</td>\n",
       "      <td>1</td>\n",
       "      <td>46149</td>\n",
       "      <td>0.065263</td>\n",
       "    </tr>\n",
       "    <tr>\n",
       "      <th>48512157</th>\n",
       "      <td>2115364</td>\n",
       "      <td>ZZCM39YKI3NR</td>\n",
       "      <td>6226bde1465e7</td>\n",
       "      <td>1541601178</td>\n",
       "      <td>1</td>\n",
       "      <td>12455</td>\n",
       "      <td>0.054470</td>\n",
       "    </tr>\n",
       "    <tr>\n",
       "      <th>48507655</th>\n",
       "      <td>2115364</td>\n",
       "      <td>ZZCM39YKI3NR</td>\n",
       "      <td>6226bde1465e7</td>\n",
       "      <td>1541601178</td>\n",
       "      <td>1</td>\n",
       "      <td>2388239</td>\n",
       "      <td>0.046853</td>\n",
       "    </tr>\n",
       "  </tbody>\n",
       "</table>\n",
       "</div>"
      ],
      "text/plain": [
       "           row_id       user_id     session_id   timestamp  step  item_id  \\\n",
       "48512162  2115364  ZZCM39YKI3NR  6226bde1465e7  1541601178     1    46144   \n",
       "48507652  2115364  ZZCM39YKI3NR  6226bde1465e7  1541601178     1   895195   \n",
       "48512153  2115364  ZZCM39YKI3NR  6226bde1465e7  1541601178     1    46149   \n",
       "48512157  2115364  ZZCM39YKI3NR  6226bde1465e7  1541601178     1    12455   \n",
       "48507655  2115364  ZZCM39YKI3NR  6226bde1465e7  1541601178     1  2388239   \n",
       "\n",
       "            target  \n",
       "48512162  0.527692  \n",
       "48507652  0.080294  \n",
       "48512153  0.065263  \n",
       "48512157  0.054470  \n",
       "48507655  0.046853  "
      ]
     },
     "execution_count": 334,
     "metadata": {},
     "output_type": "execute_result"
    }
   ],
   "source": [
    "test.head()"
   ]
  },
  {
   "cell_type": "code",
   "execution_count": 335,
   "metadata": {},
   "outputs": [
    {
     "name": "stdout",
     "output_type": "stream",
     "text": [
      "CPU times: user 21.8 s, sys: 940 ms, total: 22.7 s\n",
      "Wall time: 22.7 s\n"
     ]
    }
   ],
   "source": [
    "%%time\n",
    "sub = test[['row_id','item_id']].copy()\n",
    "sub = sub.groupby('row_id')['item_id'].apply(lambda x: ' '.join([str(i) for i in x]))\n",
    "sub = sub.to_frame()\n",
    "sub.columns = ['new_item_recommendations']\n",
    "sub = sub.reset_index()\n",
    "\n",
    "test = test.drop_duplicates(subset=['row_id'])\n",
    "sub = test.merge(sub,on='row_id',how='left')\n",
    "sub = sub[['session_id','new_item_recommendations']]"
   ]
  },
  {
   "cell_type": "code",
   "execution_count": 336,
   "metadata": {},
   "outputs": [
    {
     "name": "stdout",
     "output_type": "stream",
     "text": [
      "CPU times: user 2.53 s, sys: 184 ms, total: 2.72 s\n",
      "Wall time: 2.83 s\n"
     ]
    }
   ],
   "source": [
    "%%time\n",
    "sample_sub = pd.read_csv('/datasets/trivago/data/submission_popular.csv')\n",
    "# sample_sub = pd.read_csv('../input/submission_popular.csv')\n",
    "assert sample_sub.shape[0] == sample_sub.session_id.unique().shape[0]\n",
    "sub = sample_sub.merge(sub,on='session_id',how='left')\n",
    "\n",
    "from datetime import datetime\n",
    "clock = \"{}\".format(datetime.now()).replace(' ','-').replace(':','-').split('.')[0]\n",
    "\n",
    "mask = sub.new_item_recommendations.isnull() == 0\n",
    "sub.loc[mask,'item_recommendations'] = sub.loc[mask,'new_item_recommendations']\n",
    "sub = sub.drop('new_item_recommendations',axis=1)\n",
    "out = 'fastai_%s_mrr_%.4f_auc_%.4f.csv'%(clock,mean_reciprocal_rank,auc)\n",
    "sub.to_csv(out,index=False)\n",
    "\n",
    "sub.head()"
   ]
  },
  {
   "cell_type": "code",
   "execution_count": 337,
   "metadata": {},
   "outputs": [
    {
     "data": {
      "text/html": [
       "<div>\n",
       "<style scoped>\n",
       "    .dataframe tbody tr th:only-of-type {\n",
       "        vertical-align: middle;\n",
       "    }\n",
       "\n",
       "    .dataframe tbody tr th {\n",
       "        vertical-align: top;\n",
       "    }\n",
       "\n",
       "    .dataframe thead th {\n",
       "        text-align: right;\n",
       "    }\n",
       "</style>\n",
       "<table border=\"1\" class=\"dataframe\">\n",
       "  <thead>\n",
       "    <tr style=\"text-align: right;\">\n",
       "      <th></th>\n",
       "      <th>user_id</th>\n",
       "      <th>session_id</th>\n",
       "      <th>timestamp</th>\n",
       "      <th>step</th>\n",
       "      <th>item_recommendations</th>\n",
       "    </tr>\n",
       "  </thead>\n",
       "  <tbody>\n",
       "    <tr>\n",
       "      <th>0</th>\n",
       "      <td>000324D9BBUC</td>\n",
       "      <td>89643988fdbfb</td>\n",
       "      <td>1541593942</td>\n",
       "      <td>10</td>\n",
       "      <td>106307 904851 2431104 924795 101758 2182130 92...</td>\n",
       "    </tr>\n",
       "    <tr>\n",
       "      <th>1</th>\n",
       "      <td>0004Q49X39PY</td>\n",
       "      <td>9de47d9a66494</td>\n",
       "      <td>1541641157</td>\n",
       "      <td>1</td>\n",
       "      <td>3202412 3202894 2213014 8153310 2714480 271242...</td>\n",
       "    </tr>\n",
       "    <tr>\n",
       "      <th>2</th>\n",
       "      <td>0004Q49X39PY</td>\n",
       "      <td>beea5c27030cb</td>\n",
       "      <td>1541561202</td>\n",
       "      <td>1</td>\n",
       "      <td>3202894 5497362 3823768 10024490 2292254 19536...</td>\n",
       "    </tr>\n",
       "    <tr>\n",
       "      <th>3</th>\n",
       "      <td>00071784XQ6B</td>\n",
       "      <td>9617600e1ba7c</td>\n",
       "      <td>1541630328</td>\n",
       "      <td>2</td>\n",
       "      <td>4082698 102569 22705 22848 22854 150825 22711 ...</td>\n",
       "    </tr>\n",
       "    <tr>\n",
       "      <th>4</th>\n",
       "      <td>0008BO33KUQ0</td>\n",
       "      <td>2d0e2102ee0dc</td>\n",
       "      <td>1541636411</td>\n",
       "      <td>6</td>\n",
       "      <td>1241177 3133204 1008737 1944129 1405084 183063...</td>\n",
       "    </tr>\n",
       "    <tr>\n",
       "      <th>5</th>\n",
       "      <td>000GO9NY6P4M</td>\n",
       "      <td>55dbafdbb9bab</td>\n",
       "      <td>1541594662</td>\n",
       "      <td>2</td>\n",
       "      <td>7231396 8500476 7972640 6120442 160577 7849060...</td>\n",
       "    </tr>\n",
       "    <tr>\n",
       "      <th>6</th>\n",
       "      <td>000IRHJS2DL9</td>\n",
       "      <td>f6ffffd20d43d</td>\n",
       "      <td>1541605541</td>\n",
       "      <td>12</td>\n",
       "      <td>2808050 4481844 2547840 2285010 558046 1652615...</td>\n",
       "    </tr>\n",
       "    <tr>\n",
       "      <th>7</th>\n",
       "      <td>000JB0UNEH23</td>\n",
       "      <td>7df07dc9fe26e</td>\n",
       "      <td>1541618174</td>\n",
       "      <td>1</td>\n",
       "      <td>4105414 3167136 3874514 9670320 4015060 252608...</td>\n",
       "    </tr>\n",
       "    <tr>\n",
       "      <th>8</th>\n",
       "      <td>000OWRCYEHKT</td>\n",
       "      <td>53e84da5c2dad</td>\n",
       "      <td>1541706095</td>\n",
       "      <td>3</td>\n",
       "      <td>1314776 6797450 1153302 8989706 898083 926265 ...</td>\n",
       "    </tr>\n",
       "    <tr>\n",
       "      <th>9</th>\n",
       "      <td>000VBY1D6BP8</td>\n",
       "      <td>033fddaaa99af</td>\n",
       "      <td>1541587306</td>\n",
       "      <td>4</td>\n",
       "      <td>5411980 32233 32235 6865398 5592656 32230 3225...</td>\n",
       "    </tr>\n",
       "  </tbody>\n",
       "</table>\n",
       "</div>"
      ],
      "text/plain": [
       "        user_id     session_id   timestamp  step  \\\n",
       "0  000324D9BBUC  89643988fdbfb  1541593942    10   \n",
       "1  0004Q49X39PY  9de47d9a66494  1541641157     1   \n",
       "2  0004Q49X39PY  beea5c27030cb  1541561202     1   \n",
       "3  00071784XQ6B  9617600e1ba7c  1541630328     2   \n",
       "4  0008BO33KUQ0  2d0e2102ee0dc  1541636411     6   \n",
       "5  000GO9NY6P4M  55dbafdbb9bab  1541594662     2   \n",
       "6  000IRHJS2DL9  f6ffffd20d43d  1541605541    12   \n",
       "7  000JB0UNEH23  7df07dc9fe26e  1541618174     1   \n",
       "8  000OWRCYEHKT  53e84da5c2dad  1541706095     3   \n",
       "9  000VBY1D6BP8  033fddaaa99af  1541587306     4   \n",
       "\n",
       "                                item_recommendations  \n",
       "0  106307 904851 2431104 924795 101758 2182130 92...  \n",
       "1  3202412 3202894 2213014 8153310 2714480 271242...  \n",
       "2  3202894 5497362 3823768 10024490 2292254 19536...  \n",
       "3  4082698 102569 22705 22848 22854 150825 22711 ...  \n",
       "4  1241177 3133204 1008737 1944129 1405084 183063...  \n",
       "5  7231396 8500476 7972640 6120442 160577 7849060...  \n",
       "6  2808050 4481844 2547840 2285010 558046 1652615...  \n",
       "7  4105414 3167136 3874514 9670320 4015060 252608...  \n",
       "8  1314776 6797450 1153302 8989706 898083 926265 ...  \n",
       "9  5411980 32233 32235 6865398 5592656 32230 3225...  "
      ]
     },
     "execution_count": 337,
     "metadata": {},
     "output_type": "execute_result"
    }
   ],
   "source": [
    "sub.head(10)"
   ]
  },
  {
   "cell_type": "code",
   "execution_count": 363,
   "metadata": {},
   "outputs": [],
   "source": [
    "learn.save(\"trained_fastai_context_and_binary\")"
   ]
  },
  {
   "cell_type": "code",
   "execution_count": null,
   "metadata": {},
   "outputs": [],
   "source": []
  }
 ],
 "metadata": {
  "kernelspec": {
   "display_name": "Python 3",
   "language": "python",
   "name": "python3"
  },
  "language_info": {
   "codemirror_mode": {
    "name": "ipython",
    "version": 3
   },
   "file_extension": ".py",
   "mimetype": "text/x-python",
   "name": "python",
   "nbconvert_exporter": "python",
   "pygments_lexer": "ipython3",
   "version": "3.6.8"
  }
 },
 "nbformat": 4,
 "nbformat_minor": 2
}
