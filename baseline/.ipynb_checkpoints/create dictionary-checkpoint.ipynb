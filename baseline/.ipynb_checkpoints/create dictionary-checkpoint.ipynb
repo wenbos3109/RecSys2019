{
 "cells": [
  {
   "cell_type": "code",
   "execution_count": 2,
   "metadata": {},
   "outputs": [],
   "source": [
    "import pandas as pd\n",
    "import pickle\n",
    "\n",
    "from os import listdir\n",
    "from os.path import isfile, join\n",
    "from multiprocessing import Process"
   ]
  },
  {
   "cell_type": "code",
   "execution_count": 3,
   "metadata": {},
   "outputs": [],
   "source": [
    "data_bunch = pickle.load(open('06_28_2019_00-00-00.csv', 'rb'))"
   ]
  },
  {
   "cell_type": "code",
   "execution_count": 4,
   "metadata": {},
   "outputs": [
    {
     "name": "stdout",
     "output_type": "stream",
     "text": [
      "user_id 06OT6WXN246O; item_id 3974944; platform KR; city Namhae, South Korea; device desktop; current_filters #na#; past_clickout_available False; past_clickout_is_same False; past_clickout_impression_valid False; future_clickout_available False; future_clickout_is_same False; future_clickout_impression_valid False; count_item_user_id_session_id_norm_na True; count_item_user_id_norm_na True; price -0.0602; candidate_order -0.9081; item_count -0.6162; count_item_user_id_session_id -0.1404; count_item_user_id_session_id_norm -0.0770; count_item_user_id -0.1462; count_item_user_id_norm -0.0919; price_rank -0.2091; price_rank_norm -0.1531; item_count_rank -1.6072; item_count_rank_norm -1.6829; count_item_user_id_session_id_rank -1.3275; count_item_user_id_session_id_rank_norm -1.3757; count_item_user_id_rank -1.3275; count_item_user_id_rank_norm -1.3758; past_clickout_step_diff 0.1287; past_clickout_timestamp_diff 0.1967; past_clickout_price -0.4156; past_clickout_price_mean -0.5879; past_clickout_price_std -0.3641; past_clickout_price_diff 0.1923; cur_item_count_past -0.3128; future_clickout_step_diff -0.1878; future_clickout_timestamp_diff -0.2751; future_clickout_price -0.4054; future_clickout_price_mean -0.5485; future_clickout_price_std -0.3417; future_clickout_price_diff 0.1693; cur_item_count_future -0.2177; \n",
      "[  5375 358147     31  17289      1      0      1      1      1      1      1      1      2      2]\n",
      "3974944\n"
     ]
    }
   ],
   "source": [
    "print(data_bunch.test_ds[0][0])\n",
    "print(data_bunch.test_ds[0][0].cats)\n",
    "print(data_bunch.test_ds[0][0].classes['item_id'][358147])"
   ]
  },
  {
   "cell_type": "code",
   "execution_count": 7,
   "metadata": {},
   "outputs": [],
   "source": [
    "item_id_list = data_bunch.train_ds[0][0].classes['item_id']"
   ]
  },
  {
   "cell_type": "code",
   "execution_count": 8,
   "metadata": {},
   "outputs": [],
   "source": [
    "id_to_idx = {}\n",
    "for idx, item_id in enumerate(item_id_list):\n",
    "    id_to_idx[item_id] = idx\n",
    "with open('cache/id_to_idx.pkl', 'wb') as f:\n",
    "    pickle.dump(id_to_idx, f)"
   ]
  },
  {
   "cell_type": "code",
   "execution_count": null,
   "metadata": {},
   "outputs": [],
   "source": []
  }
 ],
 "metadata": {
  "kernelspec": {
   "display_name": "Python 3",
   "language": "python",
   "name": "python3"
  },
  "language_info": {
   "codemirror_mode": {
    "name": "ipython",
    "version": 3
   },
   "file_extension": ".py",
   "mimetype": "text/x-python",
   "name": "python",
   "nbconvert_exporter": "python",
   "pygments_lexer": "ipython3",
   "version": "3.6.8"
  }
 },
 "nbformat": 4,
 "nbformat_minor": 2
}
