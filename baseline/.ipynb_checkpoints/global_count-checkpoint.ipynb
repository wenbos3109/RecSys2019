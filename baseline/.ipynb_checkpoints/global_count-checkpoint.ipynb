{
 "cells": [
  {
   "cell_type": "code",
   "execution_count": 1,
   "metadata": {},
   "outputs": [],
   "source": [
    "import os\n",
    "GPU_id = 6\n",
    "os.environ['CUDA_VISIBLE_DEVICES'] = str(GPU_id)"
   ]
  },
  {
   "cell_type": "code",
   "execution_count": 2,
   "metadata": {},
   "outputs": [],
   "source": [
    "import cudf as gd\n",
    "import pandas as pd\n",
    "import numpy as np\n",
    "import xgboost as xgb\n",
    "import os\n",
    "import time\n",
    "import nvstrings\n",
    "from librmm_cffi import librmm\n",
    "import matplotlib.pyplot as plt\n",
    "%matplotlib inline"
   ]
  },
  {
   "cell_type": "markdown",
   "metadata": {},
   "source": [
    "### Functions"
   ]
  },
  {
   "cell_type": "code",
   "execution_count": 3,
   "metadata": {},
   "outputs": [],
   "source": [
    "def on_gpu(words,func,arg=None,dtype=np.int32):\n",
    "    res = librmm.device_array(words.size(), dtype=dtype)\n",
    "    if arg is None:\n",
    "        cmd = 'words.%s(devptr=res.device_ctypes_pointer.value)'%(func)\n",
    "    else:\n",
    "        cmd = 'words.%s(arg,devptr=res.device_ctypes_pointer.value)'%(func)\n",
    "    eval(cmd)\n",
    "    return res\n",
    "\n",
    "def get_count(data,cols):\n",
    "    dg = data_interaction.groupby(cols+['item_id'],\n",
    "            as_index=False).agg({'step':['count']})\n",
    "    tag = '_'.join(cols)\n",
    "    dg.columns = cols + ['item_id', 'count_item_%s'%tag]\n",
    "\n",
    "    df = data_interaction.groupby(cols,\n",
    "            as_index=False).agg({'step':['count']})\n",
    "    df.columns = cols + ['count_item_%s_all'%tag]\n",
    "    \n",
    "    dg = dg.merge(df,on=cols,how='left')\n",
    "    dg['count_item_%s_norm'%tag] = dg['count_item_%s'%tag] / dg['count_item_%s_all'%tag]\n",
    "    dg.drop_column('count_item_%s_all'%tag)\n",
    "    del df\n",
    "    return dg"
   ]
  },
  {
   "cell_type": "markdown",
   "metadata": {},
   "source": [
    "### Read data"
   ]
  },
  {
   "cell_type": "code",
   "execution_count": 4,
   "metadata": {},
   "outputs": [
    {
     "data": {
      "text/plain": [
       "['item_metadata.csv', 'submission_popular.csv', 'test.csv', 'train.csv']"
      ]
     },
     "execution_count": 4,
     "metadata": {},
     "output_type": "execute_result"
    }
   ],
   "source": [
    "path = '/datasets/trivago/data/'\n",
    "os.listdir(path)"
   ]
  },
  {
   "cell_type": "code",
   "execution_count": 5,
   "metadata": {},
   "outputs": [
    {
     "name": "stdout",
     "output_type": "stream",
     "text": [
      "CPU times: user 2.48 s, sys: 1.16 s, total: 3.63 s\n",
      "Wall time: 3.66 s\n"
     ]
    }
   ],
   "source": [
    "%%time\n",
    "train = gd.read_csv('%s/train.csv'%path)\n",
    "test = gd.read_csv('%s/test.csv'%path)\n",
    "data = gd.concat([train,test])"
   ]
  },
  {
   "cell_type": "markdown",
   "metadata": {},
   "source": [
    "### Get browsing history"
   ]
  },
  {
   "cell_type": "code",
   "execution_count": 6,
   "metadata": {},
   "outputs": [],
   "source": [
    "cols = ['user_id', 'session_id', 'step', 'action_type', 'reference']\n",
    "data = data[cols]\n",
    "cols = ['user_id', 'session_id', 'step', 'action_type', 'item_id']\n",
    "data.columns = cols"
   ]
  },
  {
   "cell_type": "code",
   "execution_count": 7,
   "metadata": {},
   "outputs": [
    {
     "name": "stdout",
     "output_type": "stream",
     "text": [
      "(19715327, 6) (15299599, 6)\n",
      "CPU times: user 876 ms, sys: 184 ms, total: 1.06 s\n",
      "Wall time: 1.07 s\n"
     ]
    }
   ],
   "source": [
    "%%time\n",
    "data['is_interaction'] = on_gpu(data['action_type'].data,'contains',\n",
    "                                          arg='interaction',dtype=np.bool)\n",
    "data_interaction = data[data['is_interaction']]\n",
    "data_interaction['item_id'] = data_interaction['item_id'].astype(int)\n",
    "print(data.shape,data_interaction.shape)\n",
    "del data"
   ]
  },
  {
   "cell_type": "code",
   "execution_count": 8,
   "metadata": {},
   "outputs": [
    {
     "data": {
      "text/html": [
       "<div>\n",
       "<style scoped>\n",
       "    .dataframe tbody tr th:only-of-type {\n",
       "        vertical-align: middle;\n",
       "    }\n",
       "\n",
       "    .dataframe tbody tr th {\n",
       "        vertical-align: top;\n",
       "    }\n",
       "\n",
       "    .dataframe thead th {\n",
       "        text-align: right;\n",
       "    }\n",
       "</style>\n",
       "<table border=\"1\" class=\"dataframe\">\n",
       "  <thead>\n",
       "    <tr style=\"text-align: right;\">\n",
       "      <th></th>\n",
       "      <th>user_id</th>\n",
       "      <th>session_id</th>\n",
       "      <th>step</th>\n",
       "      <th>action_type</th>\n",
       "      <th>item_id</th>\n",
       "      <th>is_interaction</th>\n",
       "    </tr>\n",
       "  </thead>\n",
       "  <tbody>\n",
       "    <tr>\n",
       "      <th>1</th>\n",
       "      <td>00RL8Z82B2Z1</td>\n",
       "      <td>aff3928535f48</td>\n",
       "      <td>2</td>\n",
       "      <td>interaction item image</td>\n",
       "      <td>666856</td>\n",
       "      <td>True</td>\n",
       "    </tr>\n",
       "    <tr>\n",
       "      <th>2</th>\n",
       "      <td>00RL8Z82B2Z1</td>\n",
       "      <td>aff3928535f48</td>\n",
       "      <td>3</td>\n",
       "      <td>interaction item image</td>\n",
       "      <td>666856</td>\n",
       "      <td>True</td>\n",
       "    </tr>\n",
       "    <tr>\n",
       "      <th>3</th>\n",
       "      <td>00RL8Z82B2Z1</td>\n",
       "      <td>aff3928535f48</td>\n",
       "      <td>4</td>\n",
       "      <td>interaction item image</td>\n",
       "      <td>666856</td>\n",
       "      <td>True</td>\n",
       "    </tr>\n",
       "    <tr>\n",
       "      <th>4</th>\n",
       "      <td>00RL8Z82B2Z1</td>\n",
       "      <td>aff3928535f48</td>\n",
       "      <td>5</td>\n",
       "      <td>interaction item image</td>\n",
       "      <td>109038</td>\n",
       "      <td>True</td>\n",
       "    </tr>\n",
       "    <tr>\n",
       "      <th>5</th>\n",
       "      <td>00RL8Z82B2Z1</td>\n",
       "      <td>aff3928535f48</td>\n",
       "      <td>6</td>\n",
       "      <td>interaction item image</td>\n",
       "      <td>666856</td>\n",
       "      <td>True</td>\n",
       "    </tr>\n",
       "  </tbody>\n",
       "</table>\n",
       "</div>"
      ],
      "text/plain": [
       "        user_id     session_id  step             action_type  item_id  \\\n",
       "1  00RL8Z82B2Z1  aff3928535f48     2  interaction item image   666856   \n",
       "2  00RL8Z82B2Z1  aff3928535f48     3  interaction item image   666856   \n",
       "3  00RL8Z82B2Z1  aff3928535f48     4  interaction item image   666856   \n",
       "4  00RL8Z82B2Z1  aff3928535f48     5  interaction item image   109038   \n",
       "5  00RL8Z82B2Z1  aff3928535f48     6  interaction item image   666856   \n",
       "\n",
       "   is_interaction  \n",
       "1            True  \n",
       "2            True  \n",
       "3            True  \n",
       "4            True  \n",
       "5            True  "
      ]
     },
     "execution_count": 8,
     "metadata": {},
     "output_type": "execute_result"
    }
   ],
   "source": [
    "data_interaction.head().to_pandas()"
   ]
  },
  {
   "cell_type": "code",
   "execution_count": 9,
   "metadata": {},
   "outputs": [
    {
     "name": "stdout",
     "output_type": "stream",
     "text": [
      "CPU times: user 1.06 s, sys: 696 ms, total: 1.76 s\n",
      "Wall time: 1.77 s\n"
     ]
    }
   ],
   "source": [
    "%%time\n",
    "dg_user_session = get_count(data_interaction,cols=['user_id','session_id'])\n",
    "dg_user = get_count(data_interaction,cols=['user_id'])"
   ]
  },
  {
   "cell_type": "code",
   "execution_count": 10,
   "metadata": {},
   "outputs": [
    {
     "data": {
      "text/html": [
       "<div>\n",
       "<style scoped>\n",
       "    .dataframe tbody tr th:only-of-type {\n",
       "        vertical-align: middle;\n",
       "    }\n",
       "\n",
       "    .dataframe tbody tr th {\n",
       "        vertical-align: top;\n",
       "    }\n",
       "\n",
       "    .dataframe thead th {\n",
       "        text-align: right;\n",
       "    }\n",
       "</style>\n",
       "<table border=\"1\" class=\"dataframe\">\n",
       "  <thead>\n",
       "    <tr style=\"text-align: right;\">\n",
       "      <th></th>\n",
       "      <th>user_id</th>\n",
       "      <th>session_id</th>\n",
       "      <th>item_id</th>\n",
       "      <th>count_item_user_id_session_id</th>\n",
       "      <th>count_item_user_id_session_id_norm</th>\n",
       "    </tr>\n",
       "  </thead>\n",
       "  <tbody>\n",
       "    <tr>\n",
       "      <th>0</th>\n",
       "      <td>Q2KMY5VLQJKS</td>\n",
       "      <td>7ca2e808714b3</td>\n",
       "      <td>2862155</td>\n",
       "      <td>6</td>\n",
       "      <td>0.056075</td>\n",
       "    </tr>\n",
       "    <tr>\n",
       "      <th>1</th>\n",
       "      <td>ZHFF87Y6YUN8</td>\n",
       "      <td>fa47fa46eaf2c</td>\n",
       "      <td>2222862</td>\n",
       "      <td>21</td>\n",
       "      <td>0.283784</td>\n",
       "    </tr>\n",
       "    <tr>\n",
       "      <th>2</th>\n",
       "      <td>C972FKTHO7XE</td>\n",
       "      <td>e326419d23f5c</td>\n",
       "      <td>7993</td>\n",
       "      <td>38</td>\n",
       "      <td>0.094059</td>\n",
       "    </tr>\n",
       "    <tr>\n",
       "      <th>3</th>\n",
       "      <td>YL6GG78Y6U14</td>\n",
       "      <td>f4df9ec48f3eb</td>\n",
       "      <td>2861730</td>\n",
       "      <td>11</td>\n",
       "      <td>0.074830</td>\n",
       "    </tr>\n",
       "    <tr>\n",
       "      <th>4</th>\n",
       "      <td>40LFWDPQN12R</td>\n",
       "      <td>3d785f499e977</td>\n",
       "      <td>35548</td>\n",
       "      <td>11</td>\n",
       "      <td>0.038596</td>\n",
       "    </tr>\n",
       "    <tr>\n",
       "      <th>5</th>\n",
       "      <td>LWE8BPAF0BQY</td>\n",
       "      <td>cdf8d3ff46167</td>\n",
       "      <td>5202702</td>\n",
       "      <td>1</td>\n",
       "      <td>0.333333</td>\n",
       "    </tr>\n",
       "    <tr>\n",
       "      <th>6</th>\n",
       "      <td>L1TO8GJVVNRQ</td>\n",
       "      <td>a552be9157638</td>\n",
       "      <td>457111</td>\n",
       "      <td>2</td>\n",
       "      <td>0.500000</td>\n",
       "    </tr>\n",
       "    <tr>\n",
       "      <th>7</th>\n",
       "      <td>OVAAGP1LAA2V</td>\n",
       "      <td>4a2f445b80a0a</td>\n",
       "      <td>10279558</td>\n",
       "      <td>11</td>\n",
       "      <td>0.034810</td>\n",
       "    </tr>\n",
       "    <tr>\n",
       "      <th>8</th>\n",
       "      <td>DRPZQ9GKVP4E</td>\n",
       "      <td>d7412ae524cf5</td>\n",
       "      <td>1172704</td>\n",
       "      <td>11</td>\n",
       "      <td>0.064327</td>\n",
       "    </tr>\n",
       "    <tr>\n",
       "      <th>9</th>\n",
       "      <td>546CWA73PWTF</td>\n",
       "      <td>767d8ffec7172</td>\n",
       "      <td>18055</td>\n",
       "      <td>2</td>\n",
       "      <td>0.105263</td>\n",
       "    </tr>\n",
       "  </tbody>\n",
       "</table>\n",
       "</div>"
      ],
      "text/plain": [
       "        user_id     session_id   item_id  count_item_user_id_session_id  \\\n",
       "0  Q2KMY5VLQJKS  7ca2e808714b3   2862155                              6   \n",
       "1  ZHFF87Y6YUN8  fa47fa46eaf2c   2222862                             21   \n",
       "2  C972FKTHO7XE  e326419d23f5c      7993                             38   \n",
       "3  YL6GG78Y6U14  f4df9ec48f3eb   2861730                             11   \n",
       "4  40LFWDPQN12R  3d785f499e977     35548                             11   \n",
       "5  LWE8BPAF0BQY  cdf8d3ff46167   5202702                              1   \n",
       "6  L1TO8GJVVNRQ  a552be9157638    457111                              2   \n",
       "7  OVAAGP1LAA2V  4a2f445b80a0a  10279558                             11   \n",
       "8  DRPZQ9GKVP4E  d7412ae524cf5   1172704                             11   \n",
       "9  546CWA73PWTF  767d8ffec7172     18055                              2   \n",
       "\n",
       "   count_item_user_id_session_id_norm  \n",
       "0                            0.056075  \n",
       "1                            0.283784  \n",
       "2                            0.094059  \n",
       "3                            0.074830  \n",
       "4                            0.038596  \n",
       "5                            0.333333  \n",
       "6                            0.500000  \n",
       "7                            0.034810  \n",
       "8                            0.064327  \n",
       "9                            0.105263  "
      ]
     },
     "execution_count": 10,
     "metadata": {},
     "output_type": "execute_result"
    }
   ],
   "source": [
    "dg_user_session.head(10).to_pandas()"
   ]
  },
  {
   "cell_type": "code",
   "execution_count": 11,
   "metadata": {},
   "outputs": [],
   "source": [
    "del data_interaction"
   ]
  },
  {
   "cell_type": "markdown",
   "metadata": {},
   "source": [
    "### Merge with clickout data"
   ]
  },
  {
   "cell_type": "code",
   "execution_count": 12,
   "metadata": {},
   "outputs": [
    {
     "name": "stdout",
     "output_type": "stream",
     "text": [
      "CPU times: user 8.63 s, sys: 8.39 s, total: 17 s\n",
      "Wall time: 14.8 s\n"
     ]
    }
   ],
   "source": [
    "%%time\n",
    "data_pair = pd.read_pickle('cache/data_pair_clickout_only.pkl')\n",
    "data_pair['all_row_id'] = np.arange(data_pair.shape[0])"
   ]
  },
  {
   "cell_type": "code",
   "execution_count": 13,
   "metadata": {},
   "outputs": [
    {
     "name": "stdout",
     "output_type": "stream",
     "text": [
      "CPU times: user 37.6 s, sys: 30.9 s, total: 1min 8s\n",
      "Wall time: 29.5 s\n"
     ]
    }
   ],
   "source": [
    "%%time\n",
    "cols = ['all_row_id','user_id','session_id','item_id','target','step']\n",
    "agg_all = gd.from_pandas(data_pair[cols])"
   ]
  },
  {
   "cell_type": "code",
   "execution_count": 14,
   "metadata": {},
   "outputs": [
    {
     "name": "stdout",
     "output_type": "stream",
     "text": [
      "(48518569, 10) (48518569, 20)\n",
      "CPU times: user 2.45 s, sys: 1.24 s, total: 3.69 s\n",
      "Wall time: 3.7 s\n"
     ]
    }
   ],
   "source": [
    "%%time\n",
    "agg_all = agg_all.merge(dg_user_session,on=['user_id','session_id','item_id'],how='left')\n",
    "agg_all = agg_all.merge(dg_user,on=['user_id','item_id'],how='left')\n",
    "print(agg_all.shape,data_pair.shape)\n",
    "agg_all = agg_all.sort_values(by='all_row_id')"
   ]
  },
  {
   "cell_type": "code",
   "execution_count": 15,
   "metadata": {},
   "outputs": [
    {
     "data": {
      "text/html": [
       "<div>\n",
       "<style scoped>\n",
       "    .dataframe tbody tr th:only-of-type {\n",
       "        vertical-align: middle;\n",
       "    }\n",
       "\n",
       "    .dataframe tbody tr th {\n",
       "        vertical-align: top;\n",
       "    }\n",
       "\n",
       "    .dataframe thead th {\n",
       "        text-align: right;\n",
       "    }\n",
       "</style>\n",
       "<table border=\"1\" class=\"dataframe\">\n",
       "  <thead>\n",
       "    <tr style=\"text-align: right;\">\n",
       "      <th></th>\n",
       "      <th>all_row_id</th>\n",
       "      <th>user_id</th>\n",
       "      <th>session_id</th>\n",
       "      <th>item_id</th>\n",
       "      <th>target</th>\n",
       "      <th>step</th>\n",
       "      <th>count_item_user_id_session_id</th>\n",
       "      <th>count_item_user_id_session_id_norm</th>\n",
       "      <th>count_item_user_id</th>\n",
       "      <th>count_item_user_id_norm</th>\n",
       "    </tr>\n",
       "  </thead>\n",
       "  <tbody>\n",
       "    <tr>\n",
       "      <th>18592</th>\n",
       "      <td>0</td>\n",
       "      <td>XFE5BT9RNTQW</td>\n",
       "      <td>62f66f7671352</td>\n",
       "      <td>73376</td>\n",
       "      <td>0</td>\n",
       "      <td>6</td>\n",
       "      <td>-1</td>\n",
       "      <td>NaN</td>\n",
       "      <td>-1</td>\n",
       "      <td>NaN</td>\n",
       "    </tr>\n",
       "    <tr>\n",
       "      <th>18593</th>\n",
       "      <td>1</td>\n",
       "      <td>XFE5BT9RNTQW</td>\n",
       "      <td>62f66f7671352</td>\n",
       "      <td>10348476</td>\n",
       "      <td>0</td>\n",
       "      <td>6</td>\n",
       "      <td>-1</td>\n",
       "      <td>NaN</td>\n",
       "      <td>-1</td>\n",
       "      <td>NaN</td>\n",
       "    </tr>\n",
       "    <tr>\n",
       "      <th>18594</th>\n",
       "      <td>2</td>\n",
       "      <td>XFE5BT9RNTQW</td>\n",
       "      <td>62f66f7671352</td>\n",
       "      <td>407711</td>\n",
       "      <td>0</td>\n",
       "      <td>6</td>\n",
       "      <td>-1</td>\n",
       "      <td>NaN</td>\n",
       "      <td>-1</td>\n",
       "      <td>NaN</td>\n",
       "    </tr>\n",
       "    <tr>\n",
       "      <th>18595</th>\n",
       "      <td>3</td>\n",
       "      <td>XFE5BT9RNTQW</td>\n",
       "      <td>62f66f7671352</td>\n",
       "      <td>9882224</td>\n",
       "      <td>0</td>\n",
       "      <td>6</td>\n",
       "      <td>-1</td>\n",
       "      <td>NaN</td>\n",
       "      <td>-1</td>\n",
       "      <td>NaN</td>\n",
       "    </tr>\n",
       "    <tr>\n",
       "      <th>18596</th>\n",
       "      <td>4</td>\n",
       "      <td>XFE5BT9RNTQW</td>\n",
       "      <td>62f66f7671352</td>\n",
       "      <td>10455202</td>\n",
       "      <td>0</td>\n",
       "      <td>6</td>\n",
       "      <td>-1</td>\n",
       "      <td>NaN</td>\n",
       "      <td>-1</td>\n",
       "      <td>NaN</td>\n",
       "    </tr>\n",
       "  </tbody>\n",
       "</table>\n",
       "</div>"
      ],
      "text/plain": [
       "       all_row_id       user_id     session_id   item_id  target  step  \\\n",
       "18592           0  XFE5BT9RNTQW  62f66f7671352     73376       0     6   \n",
       "18593           1  XFE5BT9RNTQW  62f66f7671352  10348476       0     6   \n",
       "18594           2  XFE5BT9RNTQW  62f66f7671352    407711       0     6   \n",
       "18595           3  XFE5BT9RNTQW  62f66f7671352   9882224       0     6   \n",
       "18596           4  XFE5BT9RNTQW  62f66f7671352  10455202       0     6   \n",
       "\n",
       "       count_item_user_id_session_id  count_item_user_id_session_id_norm  \\\n",
       "18592                             -1                                 NaN   \n",
       "18593                             -1                                 NaN   \n",
       "18594                             -1                                 NaN   \n",
       "18595                             -1                                 NaN   \n",
       "18596                             -1                                 NaN   \n",
       "\n",
       "       count_item_user_id  count_item_user_id_norm  \n",
       "18592                  -1                      NaN  \n",
       "18593                  -1                      NaN  \n",
       "18594                  -1                      NaN  \n",
       "18595                  -1                      NaN  \n",
       "18596                  -1                      NaN  "
      ]
     },
     "execution_count": 15,
     "metadata": {},
     "output_type": "execute_result"
    }
   ],
   "source": [
    "agg_all.head().to_pandas()"
   ]
  },
  {
   "cell_type": "code",
   "execution_count": 16,
   "metadata": {},
   "outputs": [],
   "source": [
    "agg_all.to_pandas().to_pickle('cache/global_count.pkl')"
   ]
  },
  {
   "cell_type": "code",
   "execution_count": 17,
   "metadata": {},
   "outputs": [],
   "source": [
    "dx = agg_all.to_pandas()"
   ]
  },
  {
   "cell_type": "markdown",
   "metadata": {},
   "source": [
    "#### higher mean means higher precision? higher sum means higher recall?"
   ]
  },
  {
   "cell_type": "code",
   "execution_count": 18,
   "metadata": {},
   "outputs": [
    {
     "name": "stdout",
     "output_type": "stream",
     "text": [
      "646418 0.25786004461365153\n"
     ]
    }
   ],
   "source": [
    "print(dx.loc[dx.count_item_user_id>0,'target'].sum(),dx.loc[dx.count_item_user_id>0,'target'].mean())"
   ]
  },
  {
   "cell_type": "code",
   "execution_count": 19,
   "metadata": {},
   "outputs": [
    {
     "name": "stdout",
     "output_type": "stream",
     "text": [
      "601990 0.2865609261498329\n"
     ]
    }
   ],
   "source": [
    "print(dx.loc[dx.count_item_user_id_session_id>0,'target'].sum(),dx.loc[dx.count_item_user_id_session_id>0,'target'].mean())"
   ]
  },
  {
   "cell_type": "code",
   "execution_count": null,
   "metadata": {},
   "outputs": [],
   "source": []
  }
 ],
 "metadata": {
  "kernelspec": {
   "display_name": "Python 3",
   "language": "python",
   "name": "python3"
  },
  "language_info": {
   "codemirror_mode": {
    "name": "ipython",
    "version": 3
   },
   "file_extension": ".py",
   "mimetype": "text/x-python",
   "name": "python",
   "nbconvert_exporter": "python",
   "pygments_lexer": "ipython3",
   "version": "3.6.8"
  }
 },
 "nbformat": 4,
 "nbformat_minor": 2
}
