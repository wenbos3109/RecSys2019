{
 "cells": [
  {
   "cell_type": "code",
   "execution_count": 1,
   "metadata": {},
   "outputs": [],
   "source": [
    "import os\n",
    "GPU_id = 2\n",
    "os.environ['CUDA_VISIBLE_DEVICES'] = str(GPU_id)"
   ]
  },
  {
   "cell_type": "code",
   "execution_count": 2,
   "metadata": {},
   "outputs": [],
   "source": [
    "import pandas as pd\n",
    "import cudf as gd\n",
    "import numpy as np\n",
    "import multiprocessing\n",
    "import pickle\n",
    "import matplotlib.pyplot as plt\n",
    "\n",
    "from os import listdir\n",
    "from os.path import isfile, join\n",
    "from multiprocessing import Process\n",
    "from librmm_cffi import librmm"
   ]
  },
  {
   "cell_type": "code",
   "execution_count": 3,
   "metadata": {},
   "outputs": [],
   "source": [
    "def on_gpu(words,func,arg=None, dtype=np.int32):\n",
    "    res = librmm.device_array(words.size(), dtype=dtype)\n",
    "    if arg is None:\n",
    "        cmd = 'words.%s(devptr=res.device_ctypes_pointer.value)'%(func)\n",
    "    else:\n",
    "        cmd = 'words.%s(arg,devptr=res.device_ctypes_pointer.value)'%(func)\n",
    "    eval(cmd)\n",
    "    return res\n",
    "\n",
    "def on_gpu(words,func,arg=None, dtype=np.int32):\n",
    "    res = librmm.device_array(words.size(), dtype=dtype)\n",
    "    if arg is None:\n",
    "        cmd = 'words.%s(devptr=res.device_ctypes_pointer.value)'%(func)\n",
    "    else:\n",
    "        cmd = 'words.%s(arg,devptr=res.device_ctypes_pointer.value)'%(func)\n",
    "    eval(cmd)\n",
    "    return res"
   ]
  },
  {
   "cell_type": "code",
   "execution_count": 4,
   "metadata": {},
   "outputs": [],
   "source": [
    "\n",
    "\"\"\"\n",
    "array(['search for poi', 'interaction item image', 'clickout item',\n",
    "       'interaction item info', 'interaction item deals',\n",
    "       'search for destination', 'filter selection',\n",
    "       'interaction item rating', 'search for item',\n",
    "       'change of sort order'], dtype=object)\n",
    "\"\"\"\n",
    "\n",
    "\n",
    "def get_future_or_past_info(data_click, data, thread_id, num_cores, name, num_steps_to_look=1):\n",
    "    info = {}\n",
    "    for i in range(data_click.shape[0]):\n",
    "        if i % num_cores != thread_id:\n",
    "            continue\n",
    "        clickout_count = 0\n",
    "        clickout_available = [False] * num_steps_to_look\n",
    "        clickout_item = [0] * num_steps_to_look\n",
    "        clickout_step_diff = [0] * num_steps_to_look\n",
    "        clickout_timestamp_diff = [0] * num_steps_to_look\n",
    "        clickout_price = [0] * num_steps_to_look\n",
    "        clickout_is_same = [False] * num_steps_to_look\n",
    "\n",
    "        clickout_impression_valid = [False] * num_steps_to_look\n",
    "        clickout_price_mean = [0] * num_steps_to_look\n",
    "        clickout_price_std = [0] * num_steps_to_look\n",
    "\n",
    "        has_changed_sort = False\n",
    "        sort_metric = \"0\"\n",
    "\n",
    "\n",
    "        row_i = data_click.iloc[i]\n",
    "        cur_item = row_i['reference']\n",
    "        cur_item_interaction_image_count = 0\n",
    "        cur_item_interaction_info_count = 0\n",
    "        cur_item_interaction_deal_count = 0\n",
    "        cur_item_interaction_rating_count = 0\n",
    "\n",
    "        all_row_id, user_id = row_i['all_row_id'], row_i['user_id']\n",
    "        session_id, step = row_i['session_id'], row_i['step']\n",
    "        if len(info) > 0 and len(info) % 3000 == 0:\n",
    "            if thread_id == 0:\n",
    "                print('thread 0 finished ', len(info))\n",
    "        j_range = range(all_row_id + 1, data.shape[0]) if name == 'future' else range(all_row_id - 1, all_row_id - step,\n",
    "                                                                                      -1)\n",
    "        for j in j_range:\n",
    "            row_j = data.iloc[j]\n",
    "            if name == 'future' and (user_id != row_j['user_id'] or session_id != row_j['session_id']):\n",
    "                break\n",
    "            reference_j, action_j = row_j['reference'], row_j['action_type']\n",
    "\n",
    "            if action_j == 'change of sort order' and not has_changed_sort:\n",
    "                has_changed_sort = True\n",
    "                sort_metric = reference_j\n",
    "                continue\n",
    "            if not action_j.startswith('clickout') and not action_j.startswith('interaction'):\n",
    "                continue\n",
    "            try:\n",
    "                if pd.notnull(reference_j) and pd.notnull(cur_item) and int(cur_item) == int(reference_j):\n",
    "                    if action_j == 'interaction item image':\n",
    "                        cur_item_interaction_image_count += 1\n",
    "                    if action_j == 'interaction item info':\n",
    "                        cur_item_interaction_info_count += 1\n",
    "                    if action_j == 'interaction item deals':\n",
    "                        cur_item_interaction_deal_count += 1\n",
    "                    if action_j == 'interaction item rating':\n",
    "                        cur_item_interaction_rating_count += 1\n",
    "            except:\n",
    "                pass\n",
    "            if not action_j.startswith('clickout'):\n",
    "                continue\n",
    "            # only care about neighboring clickout\n",
    "            if clickout_count < num_steps_to_look:\n",
    "                clickout_available[clickout_count] = True\n",
    "                clickout_item[clickout_count] = reference_j\n",
    "                if pd.notnull(reference_j) and pd.notnull(cur_item):\n",
    "                    clickout_is_same[clickout_count] = int(reference_j) == int(cur_item)\n",
    "                clickout_step_diff[clickout_count] = row_j['step'] - step\n",
    "                clickout_timestamp_diff[clickout_count] = row_j['timestamp'] - row_i['timestamp']\n",
    "                if pd.isnull(row_j['impressions']):\n",
    "                    continue\n",
    "                impressions = row_j['impressions'].split(\"|\")\n",
    "                prices = row_j['prices'].split(\"|\")\n",
    "                clickout_impression_valid[clickout_count] = True\n",
    "                clickout_price_mean[clickout_count] = np.mean(list(map(float, prices)))\n",
    "                clickout_price_std[clickout_count] = np.std(list(map(float, prices)))\n",
    "                if pd.notnull(reference_j):\n",
    "                    reference_j = str(int(reference_j))\n",
    "                    if reference_j in impressions:\n",
    "                        clickout_price[clickout_count] = int(prices[impressions.index(reference_j)])\n",
    "            clickout_count += 1\n",
    "        info[i] = []\n",
    "        for k in range(num_steps_to_look):\n",
    "            info[i].extend([clickout_available[k], clickout_item[k], clickout_step_diff[k],\n",
    "                       clickout_timestamp_diff[k], clickout_price[k], clickout_is_same[k],\n",
    "                       clickout_impression_valid[k], clickout_price_mean[k], clickout_price_std[k]])\n",
    "        info[i].extend([has_changed_sort, sort_metric, cur_item_interaction_image_count,\n",
    "                        cur_item_interaction_info_count, cur_item_interaction_deal_count,\n",
    "                        cur_item_interaction_rating_count, clickout_count])\n",
    "    df = pd.DataFrame.from_dict(info, orient='index')\n",
    "    cols = [\"clickout_available\", \"clickout_item\", \"clickout_step_diff\",\n",
    "            \"clickout_timestamp_diff\", \"clickout_price\", 'clickout_is_same',\n",
    "            'clickout_impression_valid', 'clickout_price_mean', 'clickout_price_std']\n",
    "    df_cols = []\n",
    "    for k in range(num_steps_to_look):\n",
    "        df_cols.extend([\"{}_{}_{}\".format(name, c, k) for c in cols])\n",
    "    tmp = [\"has_changed_sort\", \"sort_metric\", \"cur_item_interaction_image_count\",\n",
    "                        \"cur_item_interaction_info_count\", \"cur_item_interaction_deal_count\",\n",
    "                        \"cur_item_interaction_rating_count\", \"clickout_count\"]\n",
    "    df_cols.extend([\"{}_{}\".format(c, name) for c in tmp])\n",
    "    df.columns = df_cols\n",
    "    df['row_id'] = df.index\n",
    "    df.to_pickle('cache/sub_{}_info_{}_multisteps.pkl'.format(name, thread_id))"
   ]
  },
  {
   "cell_type": "code",
   "execution_count": 5,
   "metadata": {},
   "outputs": [
    {
     "name": "stdout",
     "output_type": "stream",
     "text": [
      "combined (19715327, 13)\n",
      "CPU times: user 2.9 s, sys: 1.44 s, total: 4.34 s\n",
      "Wall time: 5.94 s\n"
     ]
    }
   ],
   "source": [
    "%%time\n",
    "path = '/datasets/trivago/data'\n",
    "train = gd.read_csv(\"{}/train.csv\".format(path))\n",
    "test = gd.read_csv(\"{}/test.csv\".format(path))\n",
    "train['is_train'] = 1\n",
    "test['is_train'] = 0\n",
    "data = gd.concat([train, test])\n",
    "print('combined',data.shape)"
   ]
  },
  {
   "cell_type": "code",
   "execution_count": 6,
   "metadata": {},
   "outputs": [],
   "source": [
    "del train\n",
    "del test"
   ]
  },
  {
   "cell_type": "code",
   "execution_count": 7,
   "metadata": {},
   "outputs": [],
   "source": [
    "data['all_row_id'] = np.arange(data.shape[0])\n",
    "data = data.to_pandas()"
   ]
  },
  {
   "cell_type": "code",
   "execution_count": 8,
   "metadata": {},
   "outputs": [
    {
     "name": "stdout",
     "output_type": "stream",
     "text": [
      "CPU times: user 8.03 s, sys: 868 ms, total: 8.9 s\n",
      "Wall time: 8.9 s\n"
     ]
    }
   ],
   "source": [
    "%%time\n",
    "data_click = pd.read_csv('cache/data_clickout.csv')"
   ]
  },
  {
   "cell_type": "code",
   "execution_count": 9,
   "metadata": {},
   "outputs": [],
   "source": [
    "data_click['row_id'] = data_click.index"
   ]
  },
  {
   "cell_type": "code",
   "execution_count": 10,
   "metadata": {},
   "outputs": [],
   "source": [
    "data_click['reference'].replace('unknown', None, inplace=True)\n",
    "data['reference'].replace('unknown', None, inplace=True)"
   ]
  },
  {
   "cell_type": "code",
   "execution_count": 29,
   "metadata": {},
   "outputs": [
    {
     "data": {
      "text/plain": [
       "(2115365, 16)"
      ]
     },
     "execution_count": 29,
     "metadata": {},
     "output_type": "execute_result"
    }
   ],
   "source": [
    "data_click.shape"
   ]
  },
  {
   "cell_type": "code",
   "execution_count": 11,
   "metadata": {},
   "outputs": [
    {
     "name": "stdout",
     "output_type": "stream",
     "text": [
      "thread 0 finished  3000\n",
      "thread 0 finished  6000\n",
      "thread 0 finished  9000\n",
      "thread 0 finished  12000\n",
      "thread 0 finished  15000\n",
      "thread 0 finished  18000\n",
      "thread 0 finished  21000\n",
      "thread 0 finished  24000\n",
      "thread 0 finished  27000\n",
      "thread 0 finished  30000\n",
      "thread 0 finished  33000\n",
      "thread 0 finished  36000\n",
      "thread 0 finished  39000\n",
      "thread 0 finished  42000\n",
      "shape match:  True\n",
      "thread 0 finished  3000\n",
      "thread 0 finished  6000\n",
      "thread 0 finished  9000\n",
      "thread 0 finished  12000\n",
      "thread 0 finished  15000\n",
      "thread 0 finished  18000\n",
      "thread 0 finished  21000\n",
      "thread 0 finished  24000\n",
      "thread 0 finished  27000\n",
      "thread 0 finished  30000\n",
      "thread 0 finished  33000\n",
      "thread 0 finished  36000\n",
      "thread 0 finished  39000\n",
      "thread 0 finished  42000\n",
      "shape match:  True\n"
     ]
    }
   ],
   "source": [
    "num_cores = 50\n",
    "path = 'cache'\n",
    "for name in ['past', 'future']:\n",
    "    proc_list = []\n",
    "    for thread_id in range(num_cores):\n",
    "        p = Process(target=get_future_or_past_info, \n",
    "                    args=(data_click, data, thread_id, num_cores, name, 1))\n",
    "        proc_list.append(p)\n",
    "    for p in proc_list:\n",
    "        p.start()\n",
    "    for p in proc_list:\n",
    "        p.join()\n",
    "    files = [f for f in listdir(path) if isfile(join(path, f)) and f.startswith('sub_{}'.format(name))]\n",
    "    df_list = []\n",
    "    for f in files:\n",
    "        df = pd.read_pickle(join(path, f))\n",
    "        df_list.append(df)\n",
    "\n",
    "    df = pd.concat(df_list)\n",
    "    df = df.sort_values(by=['row_id'])\n",
    "    print('shape match: ', df.shape[0] == data_click.shape[0])\n",
    "    df.to_csv('cache/{}_info.csv'.format(name), index=False)"
   ]
  },
  {
   "cell_type": "code",
   "execution_count": 12,
   "metadata": {},
   "outputs": [],
   "source": [
    "! rm cache/sub*"
   ]
  },
  {
   "cell_type": "code",
   "execution_count": 13,
   "metadata": {},
   "outputs": [
    {
     "name": "stderr",
     "output_type": "stream",
     "text": [
      "/conda/envs/rapids/lib/python3.6/site-packages/IPython/core/interactiveshell.py:3044: DtypeWarning: Columns (10) have mixed types. Specify dtype option on import or set low_memory=False.\n",
      "  interactivity=interactivity, compiler=compiler, result=result)\n"
     ]
    }
   ],
   "source": [
    "past_info = pd.read_csv('cache/past_info.csv')\n",
    "future_info = pd.read_csv('cache/future_info.csv')"
   ]
  },
  {
   "cell_type": "code",
   "execution_count": 14,
   "metadata": {},
   "outputs": [
    {
     "data": {
      "text/plain": [
       "(2115365, 17)"
      ]
     },
     "execution_count": 14,
     "metadata": {},
     "output_type": "execute_result"
    }
   ],
   "source": [
    "future_info.shape"
   ]
  },
  {
   "cell_type": "code",
   "execution_count": 15,
   "metadata": {},
   "outputs": [],
   "source": [
    "data_context = past_info.merge(future_info, on='row_id', how='left')\n",
    "data_context.to_csv('cache/context_info_multi_1.csv'.format(name), index=False)"
   ]
  },
  {
   "cell_type": "code",
   "execution_count": 16,
   "metadata": {},
   "outputs": [
    {
     "data": {
      "text/plain": [
       "(2115365, 33)"
      ]
     },
     "execution_count": 16,
     "metadata": {},
     "output_type": "execute_result"
    }
   ],
   "source": [
    "data_context.shape"
   ]
  },
  {
   "cell_type": "code",
   "execution_count": 17,
   "metadata": {},
   "outputs": [
    {
     "data": {
      "text/plain": [
       "Index(['past_clickout_available_0', 'past_clickout_item_0',\n",
       "       'past_clickout_step_diff_0', 'past_clickout_timestamp_diff_0',\n",
       "       'past_clickout_price_0', 'past_clickout_is_same_0',\n",
       "       'past_clickout_impression_valid_0', 'past_clickout_price_mean_0',\n",
       "       'past_clickout_price_std_0', 'has_changed_sort_past',\n",
       "       'sort_metric_past', 'cur_item_interaction_image_count_past',\n",
       "       'cur_item_interaction_info_count_past',\n",
       "       'cur_item_interaction_deal_count_past',\n",
       "       'cur_item_interaction_rating_count_past', 'clickout_count_past',\n",
       "       'row_id', 'future_clickout_available_0', 'future_clickout_item_0',\n",
       "       'future_clickout_step_diff_0', 'future_clickout_timestamp_diff_0',\n",
       "       'future_clickout_price_0', 'future_clickout_is_same_0',\n",
       "       'future_clickout_impression_valid_0', 'future_clickout_price_mean_0',\n",
       "       'future_clickout_price_std_0', 'has_changed_sort_future',\n",
       "       'sort_metric_future', 'cur_item_interaction_image_count_future',\n",
       "       'cur_item_interaction_info_count_future',\n",
       "       'cur_item_interaction_deal_count_future',\n",
       "       'cur_item_interaction_rating_count_future', 'clickout_count_future'],\n",
       "      dtype='object')"
      ]
     },
     "execution_count": 17,
     "metadata": {},
     "output_type": "execute_result"
    }
   ],
   "source": [
    "data_context.columns"
   ]
  },
  {
   "cell_type": "code",
   "execution_count": null,
   "metadata": {},
   "outputs": [],
   "source": []
  }
 ],
 "metadata": {
  "kernelspec": {
   "display_name": "Python 3",
   "language": "python",
   "name": "python3"
  },
  "language_info": {
   "codemirror_mode": {
    "name": "ipython",
    "version": 3
   },
   "file_extension": ".py",
   "mimetype": "text/x-python",
   "name": "python",
   "nbconvert_exporter": "python",
   "pygments_lexer": "ipython3",
   "version": "3.6.8"
  }
 },
 "nbformat": 4,
 "nbformat_minor": 2
}
